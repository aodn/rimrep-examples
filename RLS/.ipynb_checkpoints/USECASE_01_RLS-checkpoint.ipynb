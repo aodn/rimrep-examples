{
 "cells": [
  {
   "cell_type": "markdown",
   "metadata": {
    "id": "6NeK56kLsA8H"
   },
   "source": [
    "##USE CASE 01\n",
    "### Reef Life Survey from AODN\n",
    "Difficulty: Easy  \n",
    "Data Provider: Realiable  \n",
    "Local Storage: Not needed  \n",
    "Tools: python: pandas, geopandas  "
   ]
  },
  {
   "cell_type": "markdown",
   "metadata": {
    "id": "VQiBNPpbsIFH"
   },
   "source": [
    "### Request\n",
    "\n",
    "As **Reef Outlook** I need **total reef fish abundance** per GBR **administrative region** at **5km² aggregates** per **year**"
   ]
  },
  {
   "cell_type": "markdown",
   "metadata": {
    "id": "vcwey8wxsh4S"
   },
   "source": [
    "### Workflow\n",
    "\n",
    "1. Collect RLS fish abundance data from AODN WFS service: \n",
    "```\n",
    "\"https://geoserver-portal.aodn.org.au/geoserver/ows?typeName=imos:ep_m1_public_data&SERVICE=WFS&outputFormat=csv&REQUEST=GetFeature&VERSION=1.0.0&CQL_FILTER=(ecoregion%20LIKE%20'Coral%20Sea')\"\n",
    "```\n",
    "2. Clip data to GBR region and add administrative region attributes\n",
    "\n",
    "3. Aggregate total abundance per year at 5x5km squares:\n",
    "\n",
    "4. save the GeoJSON collection:\n"
   ]
  },
  {
   "cell_type": "code",
   "execution_count": null,
   "metadata": {
    "colab": {
     "base_uri": "https://localhost:8080/"
    },
    "executionInfo": {
     "elapsed": 25471,
     "status": "ok",
     "timestamp": 1656546021562,
     "user": {
      "displayName": "Eduardo Klein",
      "userId": "05821883767319729592"
     },
     "user_tz": -600
    },
    "id": "Qa4DMlFxKW25",
    "outputId": "86253dbe-1b57-45e4-b806-0f6e864ff6b8"
   },
   "outputs": [
    {
     "name": "stdout",
     "output_type": "stream",
     "text": [
      "Reading package lists... Done\n",
      "Building dependency tree       \n",
      "Reading state information... Done\n",
      "The following package was automatically installed and is no longer required:\n",
      "  libnvidia-common-460\n",
      "Use 'apt autoremove' to remove it.\n",
      "The following additional packages will be installed:\n",
      "  libspatialindex-c4v5 libspatialindex4v5\n",
      "The following NEW packages will be installed:\n",
      "  libspatialindex-c4v5 libspatialindex-dev libspatialindex4v5\n",
      "0 upgraded, 3 newly installed, 0 to remove and 49 not upgraded.\n",
      "Need to get 555 kB of archives.\n",
      "After this operation, 3,308 kB of additional disk space will be used.\n",
      "Get:1 http://archive.ubuntu.com/ubuntu bionic/universe amd64 libspatialindex4v5 amd64 1.8.5-5 [219 kB]\n",
      "Get:2 http://archive.ubuntu.com/ubuntu bionic/universe amd64 libspatialindex-c4v5 amd64 1.8.5-5 [51.7 kB]\n",
      "Get:3 http://archive.ubuntu.com/ubuntu bionic/universe amd64 libspatialindex-dev amd64 1.8.5-5 [285 kB]\n",
      "Fetched 555 kB in 0s (3,615 kB/s)\n",
      "Selecting previously unselected package libspatialindex4v5:amd64.\n",
      "(Reading database ... 155639 files and directories currently installed.)\n",
      "Preparing to unpack .../libspatialindex4v5_1.8.5-5_amd64.deb ...\n",
      "Unpacking libspatialindex4v5:amd64 (1.8.5-5) ...\n",
      "Selecting previously unselected package libspatialindex-c4v5:amd64.\n",
      "Preparing to unpack .../libspatialindex-c4v5_1.8.5-5_amd64.deb ...\n",
      "Unpacking libspatialindex-c4v5:amd64 (1.8.5-5) ...\n",
      "Selecting previously unselected package libspatialindex-dev:amd64.\n",
      "Preparing to unpack .../libspatialindex-dev_1.8.5-5_amd64.deb ...\n",
      "Unpacking libspatialindex-dev:amd64 (1.8.5-5) ...\n",
      "Setting up libspatialindex4v5:amd64 (1.8.5-5) ...\n",
      "Setting up libspatialindex-c4v5:amd64 (1.8.5-5) ...\n",
      "Setting up libspatialindex-dev:amd64 (1.8.5-5) ...\n",
      "Processing triggers for libc-bin (2.27-3ubuntu1.3) ...\n",
      "/sbin/ldconfig.real: /usr/local/lib/python3.7/dist-packages/ideep4py/lib/libmkldnn.so.0 is not a symbolic link\n",
      "\n",
      "Looking in indexes: https://pypi.org/simple, https://us-python.pkg.dev/colab-wheels/public/simple/\n",
      "Collecting geopandas\n",
      "  Downloading geopandas-0.10.2-py2.py3-none-any.whl (1.0 MB)\n",
      "\u001b[K     |████████████████████████████████| 1.0 MB 11.4 MB/s \n",
      "\u001b[?25hCollecting rtree\n",
      "  Downloading Rtree-1.0.0-cp37-cp37m-manylinux_2_17_x86_64.manylinux2014_x86_64.whl (1.0 MB)\n",
      "\u001b[K     |████████████████████████████████| 1.0 MB 37.1 MB/s \n",
      "\u001b[?25hCollecting pygeos\n",
      "  Downloading pygeos-0.12.0-cp37-cp37m-manylinux_2_17_x86_64.manylinux2014_x86_64.whl (2.1 MB)\n",
      "\u001b[K     |████████████████████████████████| 2.1 MB 40.5 MB/s \n",
      "\u001b[?25hRequirement already satisfied: shapely in /usr/local/lib/python3.7/dist-packages (1.8.2)\n",
      "Collecting pyproj\n",
      "  Downloading pyproj-3.2.1-cp37-cp37m-manylinux2010_x86_64.whl (6.3 MB)\n",
      "\u001b[K     |████████████████████████████████| 6.3 MB 36.3 MB/s \n",
      "\u001b[?25hRequirement already satisfied: packaging in /usr/local/lib/python3.7/dist-packages (21.3)\n",
      "Collecting fiona>=1.8\n",
      "  Downloading Fiona-1.8.21-cp37-cp37m-manylinux2014_x86_64.whl (16.7 MB)\n",
      "\u001b[K     |████████████████████████████████| 16.7 MB 296 kB/s \n",
      "\u001b[?25hRequirement already satisfied: pandas>=0.25.0 in /usr/local/lib/python3.7/dist-packages (from geopandas) (1.3.5)\n",
      "Requirement already satisfied: certifi in /usr/local/lib/python3.7/dist-packages (from pyproj) (2022.6.15)\n",
      "Requirement already satisfied: click>=4.0 in /usr/local/lib/python3.7/dist-packages (from fiona>=1.8->geopandas) (7.1.2)\n",
      "Requirement already satisfied: setuptools in /usr/local/lib/python3.7/dist-packages (from fiona>=1.8->geopandas) (57.4.0)\n",
      "Collecting munch\n",
      "  Downloading munch-2.5.0-py2.py3-none-any.whl (10 kB)\n",
      "Requirement already satisfied: six>=1.7 in /usr/local/lib/python3.7/dist-packages (from fiona>=1.8->geopandas) (1.15.0)\n",
      "Requirement already satisfied: attrs>=17 in /usr/local/lib/python3.7/dist-packages (from fiona>=1.8->geopandas) (21.4.0)\n",
      "Collecting click-plugins>=1.0\n",
      "  Downloading click_plugins-1.1.1-py2.py3-none-any.whl (7.5 kB)\n",
      "Collecting cligj>=0.5\n",
      "  Downloading cligj-0.7.2-py3-none-any.whl (7.1 kB)\n",
      "Requirement already satisfied: python-dateutil>=2.7.3 in /usr/local/lib/python3.7/dist-packages (from pandas>=0.25.0->geopandas) (2.8.2)\n",
      "Requirement already satisfied: pytz>=2017.3 in /usr/local/lib/python3.7/dist-packages (from pandas>=0.25.0->geopandas) (2022.1)\n",
      "Requirement already satisfied: numpy>=1.17.3 in /usr/local/lib/python3.7/dist-packages (from pandas>=0.25.0->geopandas) (1.21.6)\n",
      "Requirement already satisfied: typing-extensions>=3.7 in /usr/local/lib/python3.7/dist-packages (from rtree) (4.1.1)\n",
      "Requirement already satisfied: pyparsing!=3.0.5,>=2.0.2 in /usr/local/lib/python3.7/dist-packages (from packaging) (3.0.9)\n",
      "Installing collected packages: munch, cligj, click-plugins, pyproj, fiona, rtree, pygeos, geopandas\n",
      "Successfully installed click-plugins-1.1.1 cligj-0.7.2 fiona-1.8.21 geopandas-0.10.2 munch-2.5.0 pygeos-0.12.0 pyproj-3.2.1 rtree-1.0.0\n"
     ]
    },
    {
     "name": "stderr",
     "output_type": "stream",
     "text": [
      "/usr/local/lib/python3.7/dist-packages/geopandas/_compat.py:115: UserWarning: The Shapely GEOS version (3.10.2-CAPI-1.16.0) is incompatible with the GEOS version PyGEOS was compiled with (3.10.1-CAPI-1.16.0). Conversions between both will be slow.\n",
      "  shapely_geos_version, geos_capi_version_string\n"
     ]
    }
   ],
   "source": [
    "## imports\n",
    "import pandas as pd\n",
    "import numpy as np\n",
    "import geopandas as gpd\n",
    "import matplotlib.pyplot as plt\n",
    "\n"
   ]
  },
  {
   "cell_type": "markdown",
   "metadata": {
    "id": "JWqasqlWIpTW"
   },
   "source": [
    "#### 1. Collect data"
   ]
  },
  {
   "cell_type": "code",
   "execution_count": null,
   "metadata": {
    "id": "QJxjFrfdvrvF"
   },
   "outputs": [],
   "source": [
    "## ingest data\n",
    "## I'll use Torres Strait and GBR areas as they are pre-defined in the geoserver\n",
    "\n",
    "url = \"https://geoserver-portal.aodn.org.au/geoserver/ows?typeName=imos:ep_m1_public_data&SERVICE=WFS&outputFormat=csv&REQUEST=GetFeature&VERSION=1.0.0&CQL_FILTER=(ecoregion%20LIKE%20'Torres%20Strait%20Northern%20Great%20Barrier%20Reef'%20OR%20ecoregion%20LIKE%20'Central%20and%20Southern%20Great%20Barrier%20Reef')\"\n",
    "df = pd.read_csv(url)\n",
    "## convert the dataframe into geopandas dataframe. required for spatial operations\n",
    "gdf = gpd.GeoDataFrame(df, geometry=gpd.points_from_xy(df.longitude, df.latitude))\n",
    "## set CRS to 4326\n",
    "gdf = gdf.set_crs('epsg:4326')\n",
    "\n"
   ]
  },
  {
   "cell_type": "code",
   "execution_count": null,
   "metadata": {
    "id": "S6OLmU-mfely"
   },
   "outputs": [],
   "source": [
    "## create datetime survey_date year\n",
    "gdf['year'] = pd.to_datetime(gdf.survey_date)\n",
    "gdf['year'] = gdf.year.dt.year\n",
    "\n"
   ]
  },
  {
   "cell_type": "markdown",
   "metadata": {
    "id": "XWGd9xzeIwZ4"
   },
   "source": [
    "#### 2. Clip to GBR region and add admin region attributes"
   ]
  },
  {
   "cell_type": "code",
   "execution_count": null,
   "metadata": {
    "id": "qf8KW3x-I2Ky"
   },
   "outputs": [],
   "source": [
    "## get GBR park layer\n",
    "## this layer could come from the geoserver or from a local storage\n",
    "## I have the layer as a GeoJSON object in a shared directory\n",
    "## note that GBRMPA layer are in epsg:4283\n",
    "\n",
    "layerURL = \"https://drive.google.com/uc?export=download&id=1fbuIP4PjBzDpryGzZm76-qDMlTZ6t9Zk\"\n",
    "GBRboundary = gpd.read_file(layerURL)\n",
    "## set projection to 4326\n",
    "GBRboundary = GBRboundary.to_crs('epsg:4326')\n",
    "\n"
   ]
  },
  {
   "cell_type": "code",
   "execution_count": null,
   "metadata": {
    "id": "xpxCOcF-Vd5F"
   },
   "outputs": [],
   "source": [
    "## clip dataframe to GBR region\n",
    "\n",
    "## clip to boundary\n",
    "GBRdf = gdf.clip(GBRboundary)"
   ]
  },
  {
   "cell_type": "code",
   "execution_count": null,
   "metadata": {
    "id": "la12oX0DWobY"
   },
   "outputs": [],
   "source": [
    "## get GBR admin layer\n",
    "## this layer could come from the geoserver or from a local storage\n",
    "## I have the layer as a GeoJSON object in a shared directory\n",
    "## note that GBRMPA layer are in espg:4283\n",
    "\n",
    "layerURL = \"https://drive.google.com/uc?export=download&id=1dbB2bQx8kNd8ozQMqiKLCmUEto4Kyr_4\"\n",
    "GBRadmin = gpd.read_file(layerURL)\n",
    "## set projection to epsg:4326\n",
    "GBRadmin = GBRadmin.to_crs('epsg:4326')\n"
   ]
  },
  {
   "cell_type": "code",
   "execution_count": null,
   "metadata": {
    "id": "iNA5ppl5jusy"
   },
   "outputs": [],
   "source": [
    "## join admin attributes to data\n",
    "## this is a slow step. \n",
    "## it could be improved if we simplify the western boundary of the layer, like making a buffer towards land and make it strait lines\n",
    "GBRAdmindf = gpd.sjoin(GBRdf, GBRadmin, how=\"left\", predicate='intersects')"
   ]
  },
  {
   "cell_type": "code",
   "execution_count": null,
   "metadata": {
    "id": "sQDEhVXnmZ6p"
   },
   "outputs": [],
   "source": [
    "## and finally convert to a pandas standard dataframe to perform the aggregation\n",
    "df = pd.DataFrame(GBRAdmindf)"
   ]
  },
  {
   "cell_type": "markdown",
   "metadata": {
    "id": "fgiMBqy-I2n7"
   },
   "source": [
    "#### 3. Aggregate total abundance to 5x5 pixels per year"
   ]
  },
  {
   "cell_type": "code",
   "execution_count": null,
   "metadata": {
    "id": "oUeHrxIG5H2G"
   },
   "outputs": [],
   "source": [
    "## create bins of 0.05 degrees for lat and lon\n",
    "## assing each lat lon to its corresponding bin\n",
    "\n",
    "\n",
    "def getBins(x, binSize):\n",
    "  \"\"\"\n",
    "  Produce a list of bins of binSize each\n",
    "  \n",
    "  Parameters:\n",
    "  x(real): pandas latitude or longitude column\n",
    "  binSize(real): size of the bin interval\n",
    "\n",
    "  Returns:\n",
    "  binList(list of reals): List of bin cutoff points\n",
    "  binCenter(list of reals): List of each bin center point to be used as labels for each bin\n",
    "  \"\"\"\n",
    "\n",
    "  binSizeDecimals = len(str(0.05).split(\".\")[1])\n",
    "  binMin = np.floor(x.min())\n",
    "  binMax = np.ceil(x.max())\n",
    "  binList = list(np.round(np.arange(binMin, binMax, binSize), 2))\n",
    "  binCenter = [np.round((binList[i] + binList[i+1])/2, binSizeDecimals + 1) for i in range(len(binList)-1)]\n",
    "\n",
    "  return binList, binCenter\n",
    "\n",
    "\n",
    "pixelSize = 0.05\n",
    "latBins, latBinCenter = getBins(df['latitude'], pixelSize)\n",
    "lonBins, lonBinCenter = getBins(df['longitude'], pixelSize)\n",
    "\n",
    "## assign lat/lon to its corresponding bin\n",
    "df['latBin'] = pd.cut(x=df['latitude'], bins = latBins, labels = latBinCenter, include_lowest=True)\n",
    "df['lonBin'] = pd.cut(x=df['longitude'], bins = lonBins, labels = lonBinCenter, include_lowest=True)\n"
   ]
  },
  {
   "cell_type": "code",
   "execution_count": null,
   "metadata": {
    "id": "iGevmksVd1IE"
   },
   "outputs": [],
   "source": [
    "## aggregate the total abundance per pixel per year\n",
    "##dfGroups = df.groupby(['UNIQUE_ID', 'year', 'latBin', 'lonBin'])\n",
    "dfGroups = df.groupby(['UNIQUE_ID', 'year', 'latBin', 'lonBin'])"
   ]
  },
  {
   "cell_type": "code",
   "execution_count": null,
   "metadata": {
    "id": "RzQVj1qsnkPl"
   },
   "outputs": [],
   "source": [
    "results = dfGroups[['total', 'biomass']].mean()"
   ]
  },
  {
   "cell_type": "code",
   "execution_count": null,
   "metadata": {
    "id": "AbnnB-xfJERL"
   },
   "outputs": [],
   "source": [
    "## clean the result removing empty cells\n",
    "results = results.dropna(axis=0, how='any')\n"
   ]
  },
  {
   "cell_type": "markdown",
   "metadata": {
    "id": "yi_SEaLAJEqw"
   },
   "source": [
    "#### 5. create GeoJSON collection"
   ]
  },
  {
   "cell_type": "markdown",
   "metadata": {
    "id": "lq88gIXr3Gwb"
   },
   "source": [
    "First, save the csv results..."
   ]
  },
  {
   "cell_type": "code",
   "execution_count": null,
   "metadata": {
    "colab": {
     "base_uri": "https://localhost:8080/"
    },
    "executionInfo": {
     "elapsed": 21448,
     "status": "ok",
     "timestamp": 1656546211567,
     "user": {
      "displayName": "Eduardo Klein",
      "userId": "05821883767319729592"
     },
     "user_tz": -600
    },
    "id": "d3bUCemZJNmR",
    "outputId": "f4befd20-87db-4b07-b64d-1415cf04d8c5"
   },
   "outputs": [
    {
     "name": "stdout",
     "output_type": "stream",
     "text": [
      "Mounted at /content/drive\n"
     ]
    }
   ],
   "source": [
    "from google.colab import drive\n",
    "drive.mount('/content/drive')"
   ]
  },
  {
   "cell_type": "code",
   "execution_count": null,
   "metadata": {
    "id": "5oJ9IbMazMuD"
   },
   "outputs": [],
   "source": [
    "driveURL = \"/content/drive/MyDrive/RIMReP/Phase2/dataExamples/\"\n",
    "results.to_csv(driveURL + \"results.csv\")"
   ]
  },
  {
   "cell_type": "markdown",
   "metadata": {
    "id": "9tR8gwDk3cHW"
   },
   "source": [
    "Save as GeoJSON"
   ]
  },
  {
   "cell_type": "code",
   "execution_count": null,
   "metadata": {
    "colab": {
     "base_uri": "https://localhost:8080/",
     "height": 455
    },
    "executionInfo": {
     "elapsed": 313,
     "status": "ok",
     "timestamp": 1656546219355,
     "user": {
      "displayName": "Eduardo Klein",
      "userId": "05821883767319729592"
     },
     "user_tz": -600
    },
    "id": "zhGD5OpM4JIw",
    "outputId": "743c7815-7218-4470-8372-19064da4b91c"
   },
   "outputs": [
    {
     "data": {
      "text/html": [
       "\n",
       "  <div id=\"df-9f9e0fa1-3887-48d0-b317-436105bd8ff8\">\n",
       "    <div class=\"colab-df-container\">\n",
       "      <div>\n",
       "<style scoped>\n",
       "    .dataframe tbody tr th:only-of-type {\n",
       "        vertical-align: middle;\n",
       "    }\n",
       "\n",
       "    .dataframe tbody tr th {\n",
       "        vertical-align: top;\n",
       "    }\n",
       "\n",
       "    .dataframe thead th {\n",
       "        text-align: right;\n",
       "    }\n",
       "</style>\n",
       "<table border=\"1\" class=\"dataframe\">\n",
       "  <thead>\n",
       "    <tr style=\"text-align: right;\">\n",
       "      <th></th>\n",
       "      <th></th>\n",
       "      <th></th>\n",
       "      <th></th>\n",
       "      <th>total</th>\n",
       "      <th>biomass</th>\n",
       "    </tr>\n",
       "    <tr>\n",
       "      <th>UNIQUE_ID</th>\n",
       "      <th>year</th>\n",
       "      <th>latBin</th>\n",
       "      <th>lonBin</th>\n",
       "      <th></th>\n",
       "      <th></th>\n",
       "    </tr>\n",
       "  </thead>\n",
       "  <tbody>\n",
       "    <tr>\n",
       "      <th rowspan=\"5\" valign=\"top\">MGMT_1</th>\n",
       "      <th rowspan=\"4\" valign=\"top\">2010</th>\n",
       "      <th rowspan=\"2\" valign=\"top\">-23.225</th>\n",
       "      <th>150.925</th>\n",
       "      <td>74.037838</td>\n",
       "      <td>802.479571</td>\n",
       "    </tr>\n",
       "    <tr>\n",
       "      <th>150.975</th>\n",
       "      <td>14.038462</td>\n",
       "      <td>344.992751</td>\n",
       "    </tr>\n",
       "    <tr>\n",
       "      <th rowspan=\"2\" valign=\"top\">-23.175</th>\n",
       "      <th>150.925</th>\n",
       "      <td>46.978995</td>\n",
       "      <td>1627.612260</td>\n",
       "    </tr>\n",
       "    <tr>\n",
       "      <th>150.975</th>\n",
       "      <td>11.702765</td>\n",
       "      <td>315.970451</td>\n",
       "    </tr>\n",
       "    <tr>\n",
       "      <th>2013</th>\n",
       "      <th>-22.375</th>\n",
       "      <th>152.525</th>\n",
       "      <td>9.915929</td>\n",
       "      <td>734.000933</td>\n",
       "    </tr>\n",
       "    <tr>\n",
       "      <th>...</th>\n",
       "      <th>...</th>\n",
       "      <th>...</th>\n",
       "      <th>...</th>\n",
       "      <td>...</td>\n",
       "      <td>...</td>\n",
       "    </tr>\n",
       "    <tr>\n",
       "      <th rowspan=\"5\" valign=\"top\">MGMT_4</th>\n",
       "      <th rowspan=\"4\" valign=\"top\">2020</th>\n",
       "      <th>-12.125</th>\n",
       "      <th>143.275</th>\n",
       "      <td>18.496154</td>\n",
       "      <td>682.374756</td>\n",
       "    </tr>\n",
       "    <tr>\n",
       "      <th rowspan=\"2\" valign=\"top\">-12.075</th>\n",
       "      <th>143.225</th>\n",
       "      <td>8.921182</td>\n",
       "      <td>513.981358</td>\n",
       "    </tr>\n",
       "    <tr>\n",
       "      <th>143.275</th>\n",
       "      <td>20.925806</td>\n",
       "      <td>842.375033</td>\n",
       "    </tr>\n",
       "    <tr>\n",
       "      <th>-10.775</th>\n",
       "      <th>142.975</th>\n",
       "      <td>14.444988</td>\n",
       "      <td>691.614695</td>\n",
       "    </tr>\n",
       "    <tr>\n",
       "      <th>2021</th>\n",
       "      <th>-11.775</th>\n",
       "      <th>143.625</th>\n",
       "      <td>14.436364</td>\n",
       "      <td>379.911424</td>\n",
       "    </tr>\n",
       "  </tbody>\n",
       "</table>\n",
       "<p>264 rows × 2 columns</p>\n",
       "</div>\n",
       "      <button class=\"colab-df-convert\" onclick=\"convertToInteractive('df-9f9e0fa1-3887-48d0-b317-436105bd8ff8')\"\n",
       "              title=\"Convert this dataframe to an interactive table.\"\n",
       "              style=\"display:none;\">\n",
       "        \n",
       "  <svg xmlns=\"http://www.w3.org/2000/svg\" height=\"24px\"viewBox=\"0 0 24 24\"\n",
       "       width=\"24px\">\n",
       "    <path d=\"M0 0h24v24H0V0z\" fill=\"none\"/>\n",
       "    <path d=\"M18.56 5.44l.94 2.06.94-2.06 2.06-.94-2.06-.94-.94-2.06-.94 2.06-2.06.94zm-11 1L8.5 8.5l.94-2.06 2.06-.94-2.06-.94L8.5 2.5l-.94 2.06-2.06.94zm10 10l.94 2.06.94-2.06 2.06-.94-2.06-.94-.94-2.06-.94 2.06-2.06.94z\"/><path d=\"M17.41 7.96l-1.37-1.37c-.4-.4-.92-.59-1.43-.59-.52 0-1.04.2-1.43.59L10.3 9.45l-7.72 7.72c-.78.78-.78 2.05 0 2.83L4 21.41c.39.39.9.59 1.41.59.51 0 1.02-.2 1.41-.59l7.78-7.78 2.81-2.81c.8-.78.8-2.07 0-2.86zM5.41 20L4 18.59l7.72-7.72 1.47 1.35L5.41 20z\"/>\n",
       "  </svg>\n",
       "      </button>\n",
       "      \n",
       "  <style>\n",
       "    .colab-df-container {\n",
       "      display:flex;\n",
       "      flex-wrap:wrap;\n",
       "      gap: 12px;\n",
       "    }\n",
       "\n",
       "    .colab-df-convert {\n",
       "      background-color: #E8F0FE;\n",
       "      border: none;\n",
       "      border-radius: 50%;\n",
       "      cursor: pointer;\n",
       "      display: none;\n",
       "      fill: #1967D2;\n",
       "      height: 32px;\n",
       "      padding: 0 0 0 0;\n",
       "      width: 32px;\n",
       "    }\n",
       "\n",
       "    .colab-df-convert:hover {\n",
       "      background-color: #E2EBFA;\n",
       "      box-shadow: 0px 1px 2px rgba(60, 64, 67, 0.3), 0px 1px 3px 1px rgba(60, 64, 67, 0.15);\n",
       "      fill: #174EA6;\n",
       "    }\n",
       "\n",
       "    [theme=dark] .colab-df-convert {\n",
       "      background-color: #3B4455;\n",
       "      fill: #D2E3FC;\n",
       "    }\n",
       "\n",
       "    [theme=dark] .colab-df-convert:hover {\n",
       "      background-color: #434B5C;\n",
       "      box-shadow: 0px 1px 3px 1px rgba(0, 0, 0, 0.15);\n",
       "      filter: drop-shadow(0px 1px 2px rgba(0, 0, 0, 0.3));\n",
       "      fill: #FFFFFF;\n",
       "    }\n",
       "  </style>\n",
       "\n",
       "      <script>\n",
       "        const buttonEl =\n",
       "          document.querySelector('#df-9f9e0fa1-3887-48d0-b317-436105bd8ff8 button.colab-df-convert');\n",
       "        buttonEl.style.display =\n",
       "          google.colab.kernel.accessAllowed ? 'block' : 'none';\n",
       "\n",
       "        async function convertToInteractive(key) {\n",
       "          const element = document.querySelector('#df-9f9e0fa1-3887-48d0-b317-436105bd8ff8');\n",
       "          const dataTable =\n",
       "            await google.colab.kernel.invokeFunction('convertToInteractive',\n",
       "                                                     [key], {});\n",
       "          if (!dataTable) return;\n",
       "\n",
       "          const docLinkHtml = 'Like what you see? Visit the ' +\n",
       "            '<a target=\"_blank\" href=https://colab.research.google.com/notebooks/data_table.ipynb>data table notebook</a>'\n",
       "            + ' to learn more about interactive tables.';\n",
       "          element.innerHTML = '';\n",
       "          dataTable['output_type'] = 'display_data';\n",
       "          await google.colab.output.renderOutput(dataTable, element);\n",
       "          const docLink = document.createElement('div');\n",
       "          docLink.innerHTML = docLinkHtml;\n",
       "          element.appendChild(docLink);\n",
       "        }\n",
       "      </script>\n",
       "    </div>\n",
       "  </div>\n",
       "  "
      ],
      "text/plain": [
       "                                    total      biomass\n",
       "UNIQUE_ID year latBin  lonBin                         \n",
       "MGMT_1    2010 -23.225 150.925  74.037838   802.479571\n",
       "                       150.975  14.038462   344.992751\n",
       "               -23.175 150.925  46.978995  1627.612260\n",
       "                       150.975  11.702765   315.970451\n",
       "          2013 -22.375 152.525   9.915929   734.000933\n",
       "...                                   ...          ...\n",
       "MGMT_4    2020 -12.125 143.275  18.496154   682.374756\n",
       "               -12.075 143.225   8.921182   513.981358\n",
       "                       143.275  20.925806   842.375033\n",
       "               -10.775 142.975  14.444988   691.614695\n",
       "          2021 -11.775 143.625  14.436364   379.911424\n",
       "\n",
       "[264 rows x 2 columns]"
      ]
     },
     "execution_count": 15,
     "metadata": {},
     "output_type": "execute_result"
    }
   ],
   "source": [
    "results"
   ]
  },
  {
   "cell_type": "code",
   "execution_count": null,
   "metadata": {
    "id": "RBbJ4cio3eXJ"
   },
   "outputs": [],
   "source": [
    "## first convert back to a geo dataframe\n",
    "results = results.reset_index()\n",
    "geoResults = gpd.GeoDataFrame(results, geometry=gpd.points_from_xy(results.lonBin, results.latBin))\n",
    "\n",
    "## then save as json\n",
    "with open(driveURL + 'results.geojson' , 'w') as file:\n",
    "    file.write(geoResults.to_json())\n"
   ]
  },
  {
   "cell_type": "markdown",
   "metadata": {
    "id": "UaazaDgc8-gd"
   },
   "source": [
    "Visualise the results\n"
   ]
  },
  {
   "cell_type": "code",
   "execution_count": null,
   "metadata": {
    "colab": {
     "base_uri": "https://localhost:8080/"
    },
    "executionInfo": {
     "elapsed": 300,
     "status": "ok",
     "timestamp": 1656546248691,
     "user": {
      "displayName": "Eduardo Klein",
      "userId": "05821883767319729592"
     },
     "user_tz": -600
    },
    "id": "8-PGsgXA9RAb",
    "outputId": "ac80ccaa-1026-4f60-a510-d3a93f96e17e"
   },
   "outputs": [
    {
     "name": "stdout",
     "output_type": "stream",
     "text": [
      "[2010, 2012, 2013, 2015, 2016, 2017, 2018, 2019, 2020, 2021, 2022]\n"
     ]
    }
   ],
   "source": [
    "print(sorted(results.year.unique()))"
   ]
  },
  {
   "cell_type": "code",
   "execution_count": null,
   "metadata": {
    "colab": {
     "base_uri": "https://localhost:8080/",
     "height": 607
    },
    "executionInfo": {
     "elapsed": 4528,
     "status": "ok",
     "timestamp": 1656549293511,
     "user": {
      "displayName": "Eduardo Klein",
      "userId": "05821883767319729592"
     },
     "user_tz": -600
    },
    "id": "Ii69qK-r9CsV",
    "outputId": "34e555f4-9beb-4fd4-f419-820cfb460730"
   },
   "outputs": [
    {
     "data": {
      "image/png": "[encoded data removed]",
      "text/plain": [
       "<Figure size 720x720 with 12 Axes>"
      ]
     },
     "metadata": {
      "needs_background": "light"
     },
     "output_type": "display_data"
    }
   ],
   "source": [
    "nYears = sorted(geoResults.year.unique())\n",
    "\n",
    "fig, axs = plt.subplots(nrows=3, ncols=4, figsize=(10, 10))\n",
    "axs = axs.flatten()\n",
    "\n",
    "for i, idx in enumerate(nYears):\n",
    "    geoResults.loc[geoResults['year']==idx].plot(ax=axs[i])\n",
    "    #urbfab.iloc[[idx]].plot(ax=axs[idx], color='#000000', edgecolor='#000000')\n",
    "    axs[i].set_title(idx)\n",
    "    axs[i].axis('off')\n",
    "\n",
    "plt.show()"
   ]
  },
  {
   "cell_type": "markdown",
   "metadata": {
    "id": "hOcE5_1O6mPH"
   },
   "source": [
    "This is the result map in QGIS, importing the geoJSON results\n",
    "\n",
    "Orange points are the original points, red points represent the mean abundance scaled by its value\n",
    "\n",
    "\n",
    "\n",
    "\n",
    "![image.png](data:image/png;base64,iVBORw0KGgoAAAANSUhEUgAAAeUAAAH2CAIAAADBEAMAAAAACXBIWXMAAA7EAAAOxAGVKw4bAAAgAElEQVR4nOzdd3wURRsH8Gdmd+8u9RICgUAagUAIBEJHmlQpIqCIXcSCoCCvYntfFQvYwC6gYgMRxEJXQQSkiFIEaSGQBBLSSEISkpBL7m7LzPvHJcelACmXcuH5fvzjbrM7NxPz+d0yO4VwzgEhhFCjRxu6AgghhKoE8xohhFwD5jVCCLkGzGuEEHINmNcIIeQaMK8RQsg1YF4jhJBrwLxGCCHXgHmNEEKuAfMaIYRcA+Y1Qgi5BsxrhBByDZjXCCHkGjCvEULINWBeI4SQa8C8Rggh14B5jRBCrgHzGiGEXAPmNUIIuQbMa4QQcg2Y1wgh5BowrxFCyDVgXiOEkGvAvEYIIdeAeY0QQq4B8xohhFwD5jVCCLkGzGunCQ8PDw8Pb+haIISaLMI5b+g6NAXjegVZGeUAniLbcDC1oauDEGqC8P7aCcLDw62Mbhufsn18SqEshIWF1b5A26063rMjhOwwr52DO7wghNSmqHG9gkK95BAveUKfkhcT+wTVvoYIIVeH/SHOMaFXkEkVOIDRwNbvT6lxOeHh4aFe8rbxKQAwfGPIksEZEb7y8A0hSZdoYmLilS4BgISEhBp/KELIJeD9tXNsPJSadIkmFwq1CWubsrfq9heV37Pbb8Zt9+DYf4JQE4b3143O5Vt1PbtkpVe5Zy9zM74hxE1kVkbwmSdCTZXY0BVA5W08lBoWFkYIOXv0nP2F4wmOd9D2L9s0sxDswe3ZHRYWdqX+E4SQi8K8bozsUVsxc8f1Cgr1ohzAIHIROGcwfEOIrefk6s88HVMeO7sRckXYH+JKyj2NlDVIN1EAIIScPXv2Ks88HYaHc5NKsMMEIVeE99cuxvEmWmHEltS2I44dKY6XhIeHh3pRe8qnmARBAOwwQcjlYF67koSEhNE9QoZvDOEAvfwthy8Yss1lTqg0gilljikPwALdmac3/rsKIReD/SGuZ0jXUAsjbiL3qcJY744d2xECHT0Vk0Y5gFHPY3Jpwr3nrj6mGyHUCOH9da00yFyVXcdt40bozrL9HhWFh4cLAgS6q4TwFBMAEKOeJ9x7DgA4AUHAr2qEXAneX9dcfa7xZB/dUa3vhvDw8BAv2VNghapgy+tIo2a70fbRswILxVtshFwIzm+sIaev8XQV9kmMnX2t1V1LxINye1h3NGpxJinFBKkmsm50au2XOkEI1SfM65pz4hpPV1Hmi0GhJ/Oq991QxIgtrCmlVkY4B0EQgj34sA0hRgOzjy1BCDV+mNc1lJCQ4EHZ8A0h9RB8ZUd3EPt3wzVXC7FVMtgDgjw4IaCnPNhDDXRXvXTMKUudIITqE/Zf10rJeOc6vkud0CvIpAmcg9HAAbgtZ6veex4WFiYIAgAIAjt9VyIADN8YklSAPdcIuRi8v66VxMTEeuhS2HgoNamAJhcKx7NFW1hXq/c8spnS0WillAHAxC2BAMA59lwj5Hqa4Hi+JrkedMV74Sr2noeHh1OqC/dSgj1UDgCchK8K6eLHobCuqooQqiNNrT/kSr0EjSrEnVKZKu6QEB4eTikL9lDtS/elFJEufhp2XiPkcppUf8iVegnKLerfUBRFcWJlqr5DQpml+wgwRjGsEXJFTa0/pGIvQZnVjq61MHRd3IZ/8uGHB3f8EZOU6OfmfvZibltjVStzTVW5NiEhYUKvIABiW3bVaGBnz56r8ScihBpQk8prWzZdDqbS6dpV7Oq1Ly09sU+QU+Yr/r1r1+OPP/6wVY5S1QgAVmg6Kwr1M2rbkX3dPgA4e60p7AihRqup9V9DZWPsqtLVW25vrdpP1D68c+drs2bNuGT6XCcSDh0ZC2DsqCBc9FOcsjMvQuh606Tur20q5uyVFoYux4l3vqdjY//3xBOvXip8SZLetSr+pV+KkzQGGTBIAkLI4wXiS9NnvL70s9p8EELo+tEU7q+d1elcxREXlWKMFRcXU0oBgHN+y9Chz2ZkvaoT11rkSs9fKgkikFhPj8c+/rh33762q+yX2/6nEEIIIZxzTdNsV9neMsYIIZqm2S8BAEVR7OfbzrGfr6oqpdRWjqZptrkzqqoyxjjntm8mWZYBQBAE23FN09q1a+fl5VWT3yNCqG64fF47d5G8ms1X/PG71Su/WZ6eldXc17dNi5YZ2ReMycm+nN+pqu1LtwoYatABwE6H+H5DJ3Zh/Dt3t45R3Uzm4sS0VG8Pz5CA1rKixCUncc4jQsNEQUjKSDdbLO0Cgzzd3M1Wy4WLFwuLizqHtS8sKkq7kOVnNAb4tTDL1nMZ6QadPjSgNWMsJStTVpR2bQL1ki49J7vIXBzYoqWnm1u+yZRTkNfc6NPMy9siy+dzsj3d3QOa+amadj4nWxBoG78WhJCc/PxCizk4rO3HeO+PUGPi2v0h1Rr7URU1uzy0fTu9IL5z5wN9QtsDwCe/rrcmJq6SxBflkrCeEQChTOUAs/xgcXrJVd4cLgEoAB/fem9t6lwXTp1Pe2vXloauBUKoDJcff13/wy0q6tOnz8Ozn1j9z9+2t/EZaZ6cd9WY7e1Qg85xVPhgSbAd78RYFqXehGYU5DVItRFCrsW176+vNICv/v3wzTdvjLvd9poAMEJMDl8elX6pWAnhnF/SmF6U6rWuCCHX5Np5DVUe+1Gn9u/f78Wpt5u77W1kcGjBmfh4WpLLOy3yTF+wf6nszi5J73hKWjMuiUIzD8+GqTdCyKW4fH8I1NcieVfRr1+/9n16/hRz2Pa2c1h4lrvHzap2pHTwxpIMSMqH5AKyKPXy090MQv0Y69UmpAFqjBByQU0hrxuD2XPmHCvIeeK7r77Ys61vWIcsL6+RGntOf7mjY4+i7ZZV+9sFOrG3pv3k6TF1zPiGqC9CyPVgXjvNh4sXj5t6vymg+X83fv/eQzPne7j9YLbeYtCdpOV/ya/qpHCNZxIyvFuv8FatG6S2CCGX4/L9143KpEmTJk2a9PZr849lpC6b/tSMpR+8VWxeLdJ4KkYwHsTYP4LgATBOVY9Tmk+IcjHHdiHnPMdUeDItJbCZX/uWAQ3bCoRQ4+Ty82Uapxf+8+S4wHbnc3LeWbtqnKrpgVMOFIADFBJygJIxGrtN1Za7uxkG3Ojt7vn9XzuLLeYbBekI01I1dULnbi/d+UAD1t82/nrdz5sasA4IoXLw/rpONA8Kyiy4tGXf7s/M1oOCcJqSOIEagB8nBAB+sCotOQeAqcXm2Xt3NefsI6vsW/q9qQD8e+RQdMzRX596sU2z5g3YCoRQo4L913VizjNP/5YU92/G+RYAN2va04r6uVWWmyltjWqoUZ3f+vK/afw17QZF9XX4R44E0FfVdpmtT336fnLOhQaoPUKoUcK8rituPt4dyeVf75VmOUYwllDhgaTNS/kF//l6SX3UFSHkCjCv64qXt1EjZZ4NVDrLkZceH2rQ2daEsgvmfGBR0YZD++q8rgghV4D913WlU+fITT8x+9srzXI8RelATat0QSgA8LdYj8efmtjrhorlH01J+uPEkaT0VKC0S1j4fQOGeOgNddwmhFBDwryuK6mJiZ39WmQWp7YqPbIkAwZLQAixhzUAaMDnS2Iou7x/+WAJ9iglC1535mz/xdyKhX+46ae0k8fCL126S2MFAPGJZ27as33BnQ8M7BTllMoTQkRBcEpRCCFnwf6QusIBhvUZ8LKPt+PBcrMcl0piB8bhyqsM5gGwCosOLv/t57x//n4p9+KditqZsf6MTZWVX03Fq3/89q9TJ5xTec7V0k0SEEKNBOZ1Xbl18uRjF84/PnbSC56VL+e0TBJlgHtVbadF9qBs+IaQYRtCjAbmGOjxlEYEBjte9fO/B/bt3/OU2Wp769jr/Uah6YUfvy0oLqqbBiGEGhjmdV2JiIjoN3bUwbzsm8ZOmODl+bMoHKdEAThDyGaBvu7r87NApysl0VzpglAAkGc09ozoYnudWZD/1Ocfvbf++3uLi21HZgRAqFENMaqz2pScf4fVunLvznpqIUKofmFe16H7pkwxBLZyd/fY9OwruQNuXNa6zfMBAQv9/eO6dp905wOPjJn4tMOAkHJdJQCwTScVBYYO6hgJAFn5F2cvXvjQmXgzQEfG4QoDBMM1LSbpTP22EiFUT/B5Y93y8PIqysg1uns8ecvtAGDf3xYAbmjfsSA3++X9e+fJSsUL/xSF7S1bLb3/EdvbCR++uaHITAGaMz66NOUr9nr7cKCMVSwNIdQEYF7XoYSEhKTjJx4efZv9SLkdyx4bP3m5l/cdu7c9aLa246wD45mUxBGa4OWVFtD6s4dm2k5b9ffuexgYOAcAr2ZyaOn+wpyVHyB4kpJAXPAPoSYK87oO7dmzp1uLa6Tn1KGjRkb3+mbHlk3nzkqM56hKpxYth/bu/0x0L/s5x8/E9bNaAGCoQec48i8pHwDKDBBMMhpHdYmuo+YghBoW5nUdGjx48Ke7/px8rdPa+Pq9cPt9AKAyJlY2N50Dp5dfX35BCCkzOlCvk9p1GBAeUdt6I4QaJXzeWIdyc3Pd9fqqn19pWANAVFiHJEkCgHIj/1aoGgBoAKcIecPo5d6z39w7pjil5gihRgjvr+sQpbQ2z/42Ht5/IOZoSk42JySZQBQhPTm3T5J8JF+YK9FCgRYAdPJrce/gEWO793Za1RFCjQ/mdR3q06fPD8uWn8nKqO6WMRZFmbH0g8iM89017X7GLgKJp+RbvbRbY3MU1TZb3ULIX15ur9w9tWd4p7qpPkKoccG8rluePj551ZxwyDmf9tFbj17IimIlndUBwDszuFXVPtJJD7gZ+usN+zhr6e3zn7ETMKwRun5gXtctb6PxUlFxtS6Zs+yT27Oz7WENALYZ5zst8n9kZa6B0O693u8zIKxFSyfXFSHUuOHzxrplcHcrslqqfv6Bs/HaubM3Oqy1VG7S+YtW5fCJo6HN/Z1eVYRQI4d53bgkpKe2VC4P0as46dzAeW6RKSP/YgNWEiHUIDCv61ZeTq6vR+Xr81UqIzszWiszqKTipPN+TIvLSK9wKUKoicP+67p1MTc3ILzNlX5aUFwUez4tIfO8l8HQqU1weMsAL0+veIEOKF0DpNJdaY4Jwv24bzpC1x/M67rl7eOTlpdb6Xi+F1d8vjcpoQPj3RUljpDVkuju6dW5Y+ezAgWHBaDK7UqjAWQD/Hk6xmS19AgJq6NqC5S0bI5fCQg1LoRzfu2zUC28/r8XjYWWCdG9mpV2jCRlZdy55N3nrdbhWvn5NAvcDPsp+dBsCWGV/39ZJokpBFpTodDLWxfW/qXJ99dFnU+dT3tr15Z1P2+qi8IRQjWDeV0fVn777brVP9wWGd3C27jnTOz2v/9cbbbqrnDyp5LwlyCusFjtzxbs4/n2iMJ3ghBHwPb2C71OjO75VB1ENuY1Qo0QPm+sD/fdf/+6zb/EEOuapNhDp2LmWZUrhTUAPKZo7Rkb7qbfIwjnCXEcz/eZKEAz2f52mlU2x8ZsOry//lqCEGo4mNf15+133hkzbtygYktnhy0FHDdgtHtVVqIZP07J3XrJcTzfeYByw/sGFhet/3t3/bYDIdQwMK/r1T/btjU3FdrfzggAKoIgwawKQ0iKgQ/TGC07ng8qDO/rpDGzuVjDPWUQug7g+JB6dezEiZtKHyQONeg6ghLsoXIAADJYoraFnGwiGI+npNx4PqlQsK2nah/el0lJgaoKV1iIFSHUlGBe1yuiaf4OD3itjNg3iym3VVgQ5z+LwiBVW5IBQw0CAOgu0Y8U9dU8Xaam2Yf3nQMysF3H+m0EQqhhYF7XK8ZYDCUDtJLIvty5QcqfeYjSUMZf0evUZnIoUzmAQWSR6dCZ8ccZH1K6wMhCT/cfx06sn8ojhBoW/ju6XsmEnCrtuyizWYyeOe7sBQCxlCRQcpKUf8AYztgHkvihJMZRep+319ePzG7u5d0QTUEI1TfM63oly/Im4fLvfEkGJOVDcgFZlMqhdKzIUINuH6VeAAutCiv3vJGQGErac36Dps0x6B4ceXNo68AGaAZCqCFgf0j9MZvNecXFYQBv6MQXS++m7c8YZwSArd/DU+SrgE/M0lpx3ptzs8MDxil51A/IYco/1Emfma1Lt/3qb/QZFNm14dqEEKo/eH9df06ePBllMDxtVVIIfVNX5puyzLqpCj2ZJywiAADdNZaep0vMh3MFZFEqf0TVblXV12V1qUX+UCdNLzS9+NO3l8zV2w8BIeSiMK/rjyiKxRprx/ljqpoE5DaDfoUoHBSoCQDKj7MmtuEiVkJEIDOA7JFVcJhc4w3wiqy8qJP+W2z55Jf1DdEahFB9w/6Q+tOlS5c4qwUAojU2kpBPBBpL6UECsii0AeJB+fCNIRzAqOdGPT+eRQEggZC2nLXRGDh0mMzyg8Xp4M15IGc5BPadPd3ADUMI1Qu8v64/oiiGNmuWSAgA3KFqUYxlCNQLoJgQFbgGPMUEqSYSk0sB+G5ZPUNIMqUphLTjvOJGMwAQzXghgMhYocXc0I1DCNU5zOt6FdW9ezwtGWs9WdV0jAHAtxY5E8DKaMK9ybbukGOZ9ASl8/XSEouVAARxDpVtNJNFiA4gxWL2Mrg1RGsQQvUK87pe3f/YY7/5+theD9aYJwDjfKZeIqVxnHBvcpAH54S8qZc+sSpv63UaIRZCygzWNpQM1i4koOMQ4dOs4RqEEKo/mNf1qmu3br1HjlwlCra3HRjnhBYQ0oaDYxxPAFhttr4riTkEHpaVBZIIFQZrbxYEGUDT64Z3792QTUII1RfM6/r2/Lvvbm3RPI0QABiiahLnL8sKISQ1X28btzfqPLECecKgO0VIb41lEdJT016VRBPAHkXbLasqwHqB7hPoFEXbbDROHTqqoduEEKoPOD6kAazfvv3ekSOnZV7oyVgfTVsviN9arIcFYbUonCfwI6U6ACvj38vKUIOOAzygsf6c/08vXSAkkPNjlE5StXGMvdPc75tZzzV0axBC9QTzugEYfXx+2r374QkT/jyX/GSxWSXkFZ0Uyvk9qppEyEWAWIEulRX7AL7DIsvIliIZH8GZREh3TS3w8Nzo77/ikdmSIDR0axBC9QTzumG4ubt/t23bt58tnfvdd8KFLD+rvEEQ0gB8ADpzPs2qDDXoQplqX211C2czORyhpIAQi0+zGbdMvjGic0M3AiFUrzCvG9L9M6aPuX3SoYMHj+/aRTdunGqVgxxWx3YcwEcJuUtRAWCnIPzt1wLDGqHrEOZ1A2vevPnosWNHjx2bfv58/J4/g0qXxi63s4xtdwIAiKdEo/R0RlpEAK7Mh9D1BfO6seg5YkTGgYNQfHmm4pIMGCyBfSsZm1RClDNxT5yN9xCl+8ZMuL3PgIaoLEKoAeB4vsZiytSpG9wMqWV3BbMN4LO/3SUIIvAFFvkns/WLQtOPm37aipujI3TdwLxuLJKSkrpERL7pY9SucEI6IUt14m5KbUv0SQCfW+SPN6//J+lMfdYTIdRQMK8bizNnzoQ1a/HeY3NGuRsOSKLi8KNCgB9E4Tm9ZPSxhhrVEKM6q03Jj16S1Xd/XNEQ9UUI1Tfsv24sioqKOGNf7ts9smefr8+eeSEvtw2hAyTdHqbmqOpNqnYeIJRR+wi/wRLsUbQQzpNMpoauO0KoPmBeNxbDhg3bsGbtQ49O8/T0JIRsWLvWN7ewbXP/+wLaPPrxgnst8i8CrbhEnzvnngQUTcOJMwg1eZjXjYW3t/fyld/aXl+8eDEjKfnZcXfY3rp7esYWF1c6wu8MpZQKGNYIXQ+w/7oxatasWbHDroxTho3eXNkSfQCwRRSGd+vZMLVECNUvzOtGys3NPa+oyPa6Z1BoMiFv60QoO8LvG1E4JAqjI6Oc/ukceGgbnI+DUOOCed1IWawWL4MBAM7nX3xgybs/ma2tGH9dJy2RxH0i/VIU3pfELEq/Kba89/2Kv+Jjnfvpka2Dss+fj4+Pd26xCKHawLxupHSiVCxbAeDJrz95s6gYAKaq2l2q5s/5v0ANhAxl7DlZAYB3TKZnvvva6RW4u0e/D9951+nFIoRqDPO6McrJyREJ8XZz/zM+NthUGM6Y7Xh7xiar2hqRfiXQ7lrJQTfOJynq6r93ObcOgzt2zkpJxVtshBoPzOvGSFGUIrMZAGLOJgSay+x9PiMAyk2ZAYBQVT12+qTTqzGt/9CVXzv/zh0hVDOY141RQEBAaPt2+87EZeTmdC29uQaAoQadldFt41O2j08plIXBUskwvi6M5xU5f9bMwA6d8lLPJyYmOr1khFANYF43Ugw4pUQQhfNlV4CqOGUGAC5QIjvEuhPd3KHLDyu+rYuSEULVhXndSJlMRQZRFxnaLl68PKdpp0V23EbdPrDvNCGdg0LrohoDO3RKOR137ty5uigcIVQtmNeNlNHXJ7uwoEdYeLGPr+PxilNmACDH29i3c7c6qsnNHaO+/OTTOiocIVR1mNeNlE8zv8yC/Hb+rcK79vja08PxR+UWxd6ukwoDQwZ1jKyjmgyJ6HLowEHsxUaowWFeN1IjR930a+xRq6pMv2mcKaz9ar2u0tP2isIW/5ZvTZlWp5WZMWj4px8vqtOPQAhdE+Z1I9W1a9c33nv3iZ9WmGX55SnTc7r1eMnHZ5cgZBIAgIsE/haEpUbj1nbhX/znf3VdmRGdu2WdS0lJSanrD0IIXQXhDhtyo8bm7fnzu6jikIguALA/4fSaPdtjszJCdfo4c1Fki5aj+w26Obp3/dTkj1MnYkXtvy/PrZ+PQwhVhOupNmrBbdumHThqe90vPKJfeAQA5BWZfD0867kmwzpFbfvlp9TU1KCgoHr+aISQDfaHNGqH/t7Xv33HcgfrP6xtRrXvtOIrnO6IUIPBvG7UrBaLh8HQ0LUoMSSiS8zhw9iLjVBDwf6QRk0SxGKrtVqX/HzknyOnTpw6n+ZGqJmzyDZBPSK73uykPQ1u79r7o3ffe+/jj5xSGkKoWvB5Y+P14w8/ZOw9+HD/IVU8P6fw0tNfLu5emN+syBzBWQfG4yg5TWieu3uMj+/7057wdve4dinXMvnzD5Z+szw4OLj2RSGEqgXzuvF6/qk541qGdA8Jq8rJWRdz7lq0YF6ROaqyhUT+pfRlN/3GOXP9jD61rNWO2OMniPzSvNdqWQ5CqLqw/7rxysm6EOzXoipnFhQXTf747fWFRY5hnUYv/8/twdgvRebR774mq0otazU8smta/Jnz58/XshyEUHVhXjdeGtMESq59HsDTXy5+tdhif7tUEkcbdItFYaxB/6V0+RHFPKvy9OdOmKY4Jjzyu2Xf1L4chFC1YF43UmazmcmKj/u1h+79EXu8/aX8HqV31u/rJC/O11uVA5SYgYvAF4kly2TfwFiLi9l74mq7s8HwyK4Jx09kZGTUshyEULXg+JBG6tChQ22b+1flzOMJp71NJZsVLBOFAM7vVrUZARDKVA5wSGR9LoirROFeVSsC8C4qOnkmDgD2nzx+JiNNY6xLcNuBXXv0btu+WtUbHR75+eIlr7zxenXbhRCqMXze2HhNvfOu98fdqROv8Z06bdGCu1JTezIGALcbdJ9YlTv1UqhR3TY+BQCGbwhJygdfQZABgjgvJJSJ4mCd3v9SQWfGZYDTlKT6+HqFR/x30j3Vqt6tn7771cpvcaAIQvUG+0Mar8fmPLVwx6/XPE0CCOcMAIoBWnPuzzlU2IamJec/yernVqUtY/daLDMvXpysapGMRTN2l6o9m5NjOHzgrVVfVat60wYMW/TBh9VtFEKoxjCvG6++fftKrVpsjz1uP3KxyPTCiqXRLz0ZPfepU+mptoOCKMVQAQDcAfKBpBJSdhsaTimNJ8STsSWSEM34eFWr+FlTZYXFnVz2x29Vr97Yrj3Sz5zFXmyE6g3mdaM27taJP588YnudW3jpmcXvJGYfa2tUQ72VN358K/58KgB0btsurnQYyR2a9pUkQOk2NKlFxCRDiFHt4qfMagM/CcKn4uX/40MNuqGGy8tqzyy27Nq/N7+4qOrVm9yt97dfL6t9MxFCVYF53aj16tUrPqNkpPMb3y8/UljguD/6pEULGec9OkRe8va2nTNO1XoxPl8nHaVUEIRQL1ZyskJVRtoa1RCjOqsNAMCMAAgteXt5yCArNm2LOVr16o3s3C0pJhZvsRGqH5jXjZogCI8/NuONzevyi4vy8/OgQsd0bHpqn7Bw3ibkl9JBe+NUrb/GlkkCdzg5rViwMmIP+qEG3eXcV+hQ95Jr+6vamr92VauGo8Ij8RYbofqBed3Y3T1lSosunU5mnc9QlV/K7o8e5O4R4OMLAK9OmfaFmyGVlNwpD9e0j6zKE6rmQdnwjSHDNoQQUiboAcq9JYMlAQDiKc0wXapW9UZ0ijp64CBOd0SoHmBeu4A5zz/33b/77+1/4/se7vb90aMuSAM7dvbz9LKds/3Ft5708lznMJuxA+OtcqWkPEguIIqVOQb9TovsQfnwjSHDNob46FmQByeEAEA8JR6EapWtQHIV4yO7ffz++05sL0KoUjhfxjWER0S0N3j7jLrl1b27pijWJEHQd4j8z21320+QRHHHywve/uGbBeeSpIK8DoxFaCyTkFc1PkzTAAAyYKAEAiG7szkALMngQ90BgACnRgPbnc2PC9SPc8HoI9DqfYuP69br88UL0tPT27Rp48w2I4TKwvkyruH9hQvbXpJHdu529kJmYnZWgNG3S2DlE1VOpqfGJifujzkSl5rcSWMplNyuqCM1BgB7Kf1AJ661yPaTB0sCIWS3rGoAE9z0Q4H0mjB5Qq8bqlu9rTFHY0V17mu4aB9CdQjz2jWsWrWq6MDRe24YXPVLYtNTv/x17V/pqQGECqraBnhbje0RxTTO3lWUCI3rAQCgmMBxSl/USXdqGuva4793Ta1ZDZ/esPqVD95t3bp1zS5HCF0T5rVrWPrpp+5n02/t2be6F1pVJSU3hxJyOhFpc7oAACAASURBVCPth38PZOXn3R3VY82ubZkEAhm3ECgAEsl5gE5iYR3fvP+RGtdwe+zxM270mRf+V+MSEEJXh88bXUNQSEh6UUENLtSLUnjLgHb+rXSi1KVnj3U/b9qfk7ngsTkjIrqY3NwUSQry8AyO7jXqrgdrE9YAMCKya9zRY5mZmbUpBCF0FXh/7TIevuue12+a6OXmds0zT2amH048M6X/jfYjy//aGVOQ89m3KwDg6NGjH817fdHkB5xSq7jM9Ni0lFxTYVv/VhcKCy74uL/46qtOKRkhVA6OD3EZnbtH7zsbd1OX6KuflnYxZ8Wxgz6tWs77de3YyG45RYW7ks9069/v08fes50QHR0dm3JO0TRJEGpTn4tFpue/+Swv50KErHRU1U16neLhlcjUBx55JDAwsDYlI4QqhXntMrr27HFwzYabrnWaRVUMnh5vvP3Wwf0HNm/c6NfS/9lH54eEhNhPOHPmTCufZrUN60sFkz54/c0ic6fSwdq3qGYoMq/U62ZMnPjLoUO1KRwhVCnsD3El998+efGt9119fPSiXVsjRw+fcOutVzln+WdL4w78M63fEH9vY81qEj33qV1mKwBYAGIoySIknPMOjAPAJlE4NnDA0lWralYyQuhK8HmjKxk36bbP/tx+lRO+2r+7TfeuVw9rAJg6Y3qhm27ryWM1q8YbP654V9FOUvqmKE436L7WSe9I4qM6abpeZwEYr2oe/x7ZtnVrzQpHCF0J5rUrufPuu/2jOv0Wc6TSn76wfrV7p/ApMx6tSlFn4uLv6F3teTEAkJF3cVfM0fkifVovZQnkG4scJ4IoQahRlZrLT+p1GkDH4uJfv/uuBoUjhK4C89rFPDjz8dNUfW/7L4eSzlwsMgFAcm72mkP7pnzz6eh775o2Y3pVCklKSjK6uetFqbqf/sWWjfe+N/8i509oLIDzj6zKjAAS7KEGuqueEiuUhZNMm6sTOzJ+6EjlXyoIoRrD/muX9NvmzZs3/ZKWlnrpUkHz5i169et7z333VWtu4covvzLFxN/Xd2DVL/l+26/bdv1OgCywyvcbdJGM7aD08kaRG0NSTMBUohOEjyzyq14e32/dirs7IuREmNeuzWw2u1VhRHalpj/08MhWwVGBIQZJZ1/n70qOnTv7+heLzlPylUV+wqBTAGbKypuSGGJUt49PAYBhG0JSi8jOYvV/OimDQKvWQf7du72/6OOa1Q0hVBHm9fWruLh41vTpTGV5ubmf3vWQ95Vzn3E+ft5/e1nMHTT2pU7051wA0prz7ZRE+iomlXIAo4EvSmVDDToG4A/g4e3TrHXAwiWLQ0ND67FNCDVlmNcIGGP3TZp8Y2h7TVH6tuvQsVX5ZVEPnzu78IuPz1PanvEEAn04f1ZWn2rFrYxygORCwlSyW1ZnBIDtiKfIsnJ1Q6K6u0d1mjt/foM0CqGmB583IqCUfrd+raFbJ7ceXd77a8fJ0p3X7fbEHG3HwYPxGALeAE9blbF6yb6jWLAnUJGX2WNMFjI17WjM0WOH/j137lxDtAmhJgjzGpV4YOrUBx966MNPlizZW36Id0Jaqjfn7YH7cmjGuQcAVNhRjJU9QgnROPfXu323/Jv6qD1C1wHMa1SGv7+/X1Dgr8cOOx50M+itBLKBWAjElc6utO8oZtRzAKC0zJZjPyjaRUJGRXVPjDmZnJzcAC1BqMnBvEblTb7zji2xZaY+9uoQmU9oMgEKEMbYWUp2WmQAnmKCVBMBgCg/LdiDH88RbHtLvpfKP5FEd0KHdoqaGNn9s48XNVBTEGpSMK9Ref0HDpz5wvP/Wbsy9nxqocUCAL3adcimNJLxcaqWScjbkpRJYEkGABMAICaXrhudygEIIa0EYSTAzW76WELWv/QWJWRIpy7H/z1y9uzZhm4WQi4Px4egyhXk5T3y4EMXL16c2L3PoLbh769d1SotNRPAnfMYgbpxriOkn8oOtVBNqsABjAa2KJXf5Kbvz9h+Qt+658GhkV1tRe06HbPn0oWFH3zQsC1CyNXh/TWqnNHX96cN63fs2e3Xu9uy2H9JQKstAjVw6Mx5X40VUGrl/E9JYHm6xHxILiBTMsgQN/1aqyxy3lqShnSKshc1JKJLwflMvMVGqJbw/hpVCef8/sl3HDl6pKumRTPegcN3Io2lNFpjFwlJoOQWjT0tK6/ppAJK7ph8/+huPR0v35tw6l+t+IXXXm2g6iPUFGBeo6pKSkp67alnLiYniQUFIvDBGmvLuEaIwJkGJImSryQxgvExQ0ZOHnlzxctf/HXNE6/Obd++ff3XHKGmAfMaVcPZ+IRpDz3UoUvnkwcOKJcKAbiVEBkggHMBoLmX98B+g+6/cWSl1+47E7enMHv+wgX1XGeEmgzMa1Q9Z86ckSRp1apV5/759/07Hvgr4VT6xdw8U2GIf6tuQaEBPr5Xufa/m354fO4LkZGR9VZbhJoSzGtUPZqqPvnwNGKRpw8aEeLXvFrXbj52+JB8aeH779dR3RBq2nC/XVQNjLExI0aumz6nZpeP7dZzzaovLBaLwWBwbsUQuh7geD5UDQvffOvhG26sTQlD2nXctGGDs+qD0HUF8xpV1alTp9JPx93ctee1T72yIeGd9my72pbBCKErwbxGVZWSktLS3bOWhQT7tbDkFxw7VsOt2RG6nmFeo6qSZVkSnPDAY0T7yO9Xrqx9OQhdbzCvUVWNHTv2cNo5ACiyWi5cKqhxOeOie+39c6+maU6rGULXBxzPh6ohJTl5+kMPW2S5S0DgW7feXeNylu7dETZ88K233ebEuiHU5OH9NaqG4JCQjxYvjggMfu2WybUp56aIqD/xqSNC1YR5japn9qxZr42eqBNr1ZHdtrm/Na/g9OnTzqoVQtcDzGtUPW56vVVRa1/OoJD2P363uvblIHT9wP5rVA0LX389UtMN6dDJKaX1fPWZuLg4pxSF0PUA769RVe3bty/pRKyzwhoApgwevn7dOmeVhlCTh3mNquqGG27wbul/Ii3FWQWOiojau+MPZ5WGUJOHeY2q4bE5T67+d5+zSotoHcgLixISEpxVIEJNG+Y1qobs7OyzWRkaY84qsHfr4E3r1jurNISaNsxrVA29e/eeNvuJZzc4bVzHzV17fvPtCmeVhlDThnmNqqdv3775xSZnlUYJGdWt57q1a51VIEJNGOY1qh5BEJwy/tru9u59d2z+zYkFItRUYV6j6vH39+/dr+/O0zHOKrBzmyDRqpw9e9ZZBSLUVGFeo2r778tzvzt6sCozrao4G+uGwNAtm36udb0QauJwfiOqief/8+ToliG927av9Kd/JZz6eufvWRcyLUzjVOjeqnW/bj1v793/SqWpjN27bPGv27fVWX0Ragrw/hrVRHp6epc2wRWPF1ktt7z54pJvlgYnnb2rqKiDxdrcYk46dzZj88YpH79dLFsrLU2kNMI/YOPGjXVca4RcG+Y1qjZN00wmk5tOV+54nqlw/BsvPJVf8IlFNgEsEwUJwJ1zhcMmxXpfWtrMj982y3KlZd7evc/a1d/Xfd0RcmGY16jaBEHo1rXr3vhT5Y6PWfjKsmJLD8ae1Um9OV9rtr4mKx9YlRVW+WZVWyQJD13InrH0g0rLjAoM0Ws8MTGx7quPkKvCvEbVpmla0rnknqHtHA/O/mrx01bFG+AVnTRG025StaEGne0/AJiqasM09pUk9MnNXffP35UWO6Rt+O+bt9RHAxByTZjXqNoEQRg2YvgHO351PHgsJSmKsQRKiwkM09iMAAg1qiFGtbOfMqsNAMCDqpZCqI+5+J+Yo5UWe3PXnn/+gcs/IXRFmNeoJqY+Os2nc8cPd5XMcykwF8ua1orzBEpaMD7UoLMyum18yvbxKYUKPZknDJYEAPAFzgFiL2RWWqYoCO19mm/evLn+moGQS8G8RjX03PPPp1qLE7OzAMCqKAZCAEADcCcAAPZRohwAgBBCAMCNAwcQCblSmSM7dl65bHnd1hshl4V5jWpu2qyZqw7/DQD+3kaFkFxCwhk/TehOi+xB2fCNIcM2hBj1vIuftltWASCJEglIqG/zKxUYHdzWWmhKSXHaEtsINSWY16jmevXqlVZYkJyTvfXEkZYennGURjAmAj9K6ZIMSMqD5AJyPIsuSuUAsEkUghgz6XU9O0ddpcyJUT1+2YADsRGqBM5vRDW3fcuWt559VlHUjqoSrWofSOIus9UK8Jxemqpo3R2Wyd4i0G8kcYFVeaVFiw3PvXqVMmVVnfPzD8t/xLHYCJWHeY1qaM4DD+QeOPhgUdFGQYinVAPIo8TA+dtWpSXnz+ulI4QAwEjGswnJJPCiLH/dzG/B40/7e/tcveQP/tjcb/KtI2+6qV7agZDLwLxGNTHztkmdjxzJZ2y7IIRzVkCICmAmxI2xM4IwSGNJfoqVUQ7gKbJzF/V3Atni7r7s8WdaGq8R1gBwPPXc8pOHP/9med23AyFXgv3XqNrmP/lk+6NH8xnLppQQiND4BFV7RVaftCr+AL01toWSy+P5ZKFAVfe3bPX8rXfvOxt36nzaNcvvGhSampyMcx0RKkds6AogF3P4n3+O7NgxXFXPiGIa5/OsSkjpP9F8AU4yLgPfRQXH8XyEkOSszB9XLwvjfDWl8Zo6IiTskbG3dmwdeKVPuaPnDRvXrXvqmWfqvkEIuQzsD0HVM33y5BEHDn4vCIyQRxUlipX5+zlMyW5BmKOoMwPApAocwGhgwVniSFWLLn38yAGSBfqGu9vgqB5P3HZ3pZ8ia9oT675dtQ73CUPoMuwPQdXz55Ej6YS4EQhmzDGsbUuF9GQ8mPN3JXFJBiTlQ3IBCc4U2jIW7TBWhACEauyLwiL18IE3V3xR6afoBCGqZZvff/+9ztuDkOvAvEbVMOOOO1pwnkiIjkMLx+Olq4XMagO3q5oPwD0GXW9CgwhtBnC7qtlOsy//ZPOgVXY/HfPh2u8q/awb23b4beOmOmwMQq4G8xpV1c4dO1KOH79RYwoleoDOWsktc5nVQmRhsCQ8oqhfW2SR8+cV9eHSzXkdM91uqqzsP3EkNi254sdFBYUkxickJSXVfcsQcg2Y16iqvn7//WnF5r2UihxkgFh6eRmQck8XAcAAcEgUItkVM91+7dyi4i9/WVfpJ97cOfq7b1fWTWsQcj2Y16hKZFk+FB/fW2NZlLRjzAqQSS//8XhQPnxDyLANIUYDsy0VkkpIN40JDiVwgI6rwyK+D+MA4LDkUxvO/zyfOm/d6j/jTuYUXnL80Nt73fDX7t113DKEXIbw6quvNnQdkAs4evRo7IaNY63ySUp7MBYv0ExC2nP2Uivw0nOZkxQTuaSQH3JLbqgX6qQJmhZcOvqoFcBZT+Yh8QKZmjTKOYmjdERpj8o+ShMy0tecOLJ17849MUej2rb39fAEAIHSzMJLZp3Yrl27SmuF0HUF769RlZw6daq7ogDAZFVbLwo9Nd6esxk6yd7LEewJANzW0fGRJEYyNsAex4LwtijEF+r0lAd7qIHuahc/pbCFskQqGf7fR9PuVNUdZuvbVuVSVubsxQu/+HW97UfD2kfs3PxbAzQYocYH8xpViaenZ6ZAAaAnY4GM64B7cYAK61wDITMNeg5wb+mYEABYKtIIXwUArIyUdmHTk3nC6tKr0yn1IIQCtOV8qVXuoahH/961dP1qAOjcJjg7LR3nOiIEmNeoiqKiouJpSXf0U4p6gNJQxu/WWLl1rvsDKeKsn3Z5tPUmQThHiJURQhzCnQAAoYSYAADgsEAdJ249pagi58eO/LN6xxYA6BfUdvVKfOqIEM5vRFXWJSJiQ2GRofTtqzqRALld1WYIJdvHeFLagXM9kEhNe6D0/nqxJK4RaKhR3T4+ZeKvgYWKbdIjB+D6LLEZ50dEwV9j6QLVcZiuKMNLs/4Jve68Tvp+zlyjm/uNC+aeiIlpgDYj1Jjg80ZUVakxJz3PnGlZ+gU/RGMcYLUkeFB6A4eJGgsFyAMSS4lK6CitJK9jBBrJeZ6H9mWsr5XR1CLIN5OsItLSLKoc8gS6zKq8JwlWgBcV7UtJ9OW8LecAsFcgw1V1R07OiO69C2SLWRLCw8Mbqu0INQZ4f42qymQyDejZ81dTseNBDpBESBwlKZS6cR7BeUfG14qCyPkUVQOAryXxT0qbc/4PJQAwirGTlGoc2nBuJTBbUd9rye0rr/bNEraIwmxZ7cfYN6IgE7JOJ+177b3Y82nrUuPf/vCDhmk5Qo0D9l+jqvL09Hzx2Wff8PJ0PEgAwjgfo7HpijpF1fpozMj5Q4q6TRT/oeRRvcQ4X2aVC/2UtkY11Kimt1BXWuQ3ZCWREsr5ow4jTAoV4XMC0Rr7QicCQBTnJgItCEnOuRDZOrA45yI+dUTXOcxrVA13PPJInwceeNvD/eqnpRNSBPxNnXSfpj2iahUnN4Zxvs4iWwjlACaF/pLsBQCcAyGkLWNJhCQScooQTw4RjMWeTwOAPgHB69fgcn3ouoZ5jarnwf/9t/esmZO8PRMc5qM7WqGTHjDoIhkfr7HB6uU1VO0vSOnkxngCYUbFU2IfHvO9ZXOQ0cA5wCSNAcCPohBPSQfGGZScPC6613LccQZd3zCvUbU9MHv2L7t3rx84YLy357Publ+Iwh+C8L5OnO7lOcbLY4dOWmpVgMCDpSs97bTIHpTZJqzrJW6bsD4jAKgIHEpGZBfLtMBKdshqIiHdNBZLqQqkM9fiKOncJggAREpv7tFnw/r1DdlyhBoU7i+DaqKFv//Hq1cXFBScOH78xL//ZuTm9u7Q4aHo6Ifvu++DnNzjVBDLPsfWABQGKieU8llt4GSuLpSpUPa+Ozmf6ACWSOI9mvaOJEZrzJ2TiwDBfiVLt06K7vPtlt8m3nprvTYVoUYD8xrVnNFoHDho0MBBg2xvX5w586X8gmYcTlMSUXYrA1oIwR7qnvHJADB8QwiUdIyAB+XDN4aUjMguIM/ppNs01oPxHIDJqhZL6Yh2HezldGodSI8eSExMDAsLq9+GItQoYH8Ico6///rr7F9/d1dUALAAhJa9vy4zuRGAMeZBWRuDBgApJkg1EQDek5CbNTZI0+IJCeAcAF5yN8y+tcyGYf2DQjetwy4RdJ3C8dfIOe69+eZHj59oxzgA/CAKFwl5rLT/GgBmBgAAMamUEzDq2aJUDgCDJYEQonFOCVmjaP6lf4rbRWG5JHYE6DN01J3DRpf7oPFLFv6x9896ahVCjQneXyMnOHHixKX09HalfSAdGY8rO3pkSQacyKHnCkhyPrGFNQDsUbS3VTaI0j2yag9rBvCmJI5R1EstAyqGNQD0Cwv/6ccf67I1CDVSmNfICbb+8svAQpP9bVfGFCD5pExk71G03bJqGxxi949ARjis5AcAT+ml12V1IGM5xWUmUtrd1q33prWV70eDUNOGeY2cIPHIkRutVvtbCvC4or6oK/80u9x+u3sFukcQ+pcu8HSOkLv1ukcUtb+mhTAeSiAlN7viZ0W0DjRSMT4+vg7agVCjhnmNnGBvTEwzKHM33ZmxexTtBZ1kP+Kw3y4ZatAdEOhPovCtVRnnpp+vk+4z6D6TxPcVJaq0U+VCQcH8td/9nXC64sfd2LbDbz//UqctQqgRwrxGtWU2mxlj7hUeXA9grD9j4930BykpMyVdoUDhRXfxfVl143y+opoB3rYqb8tKgMMowDZMC0g6u3bF5zMXv1uu5DFR3Xfv2FHnDUOokcG8RrWVk5MzwN+/0h+NU7WVZusSSWIOU2PcBBbqpQa6q/9pDQAQrbGjlARWiPswDu2AzzVbbkhL7v/ynG1HDzn+NLp18Jo1a5zdFIQaNcxrVFvNmzf/O7uSjmYbTwCVwNbSKekdV4c57go2WBLcOQ/jPKXCaiRnAdw5AMA4Vfu+2PLVTyvfWvWV/afjunRf8dXXddMghBopzGtUW25ubpTS4spXfwIKUAxgJmRJBiTlA2OVrP2USYh7hWkAuZT4lXaPeAN8YpV/PB2zYOUXtiPhLQOau7nH4KYz6HqCeY2cYECXLhfIFf+WOjAeTwkA7FG0ncWyB+W2tZ+MBrZbVi8SYECal/aH5BNyUKBrRaEIiJvDiEAK8LKsHj998uN1q21HxnXqtmXTz3XZLIQaF8xr5AQd+/bdrddd6afjGPtDvDy2b0kGT8qH5IKSiTO/C8JEtWRQ9ts6cZpeWiMIDMCH85ck4RW9ZB8nOFTTwhj/7eih02nJAHBTl+gTh//FCbro+oF5jZxg1Nixf155E4NBqubN2OfS5ci2zZ0BgB0C3U/pFFWTAUYbdNEa/8kiL5SVyaq2QFbWWuRbFG28mz6v9D57tKp5aurTKz63ve3eqs0anOuIrhuY18gJIiIimoeEHKdX/HOaqagywOs66W9K8whYCPmX0m9FcYMofiArADDJTf+tVRmtaeXm1PRibKvZeo9eb+sf78yYQkh/q3Xtwb8A4KaIqB9WfVfnzUOoccC8Rs7xzLx5n/v5XuWEWYo6jLFfJOEhvf5BvbRSEryBL7LKBOB9nfS4rLTg3D6nZrhnmdR+U1ZeK51648e5r9X6+78HACCkub9OY4cOHar8IxFqWjCvkXNER0f3Gjlyn15/lXP6q9qbVmW9xbrKIr9vVSaoGgCoAJsFOkZj9jk1bpQFe9hmQpZc2J2xDEJSCAGA5hyacZ5fkK8xBgB39ui79vsf6rx5CDUCmNfIaV56553PW7VMJlcY2efA8c8ujtKO7PI2jx1Xh1nKbs5r+5F9zT8950BItsWSX1wEAMMju2m5+Xv37HF2axBqdDCvkTNt3fvnR2FtM6+wFW+lUgn01hiUbvNYbmcD++a83RnLohQAMghpxnkvN7eLRSUrAr580/hfvl7x2tyXndcOhBojzGvkTJTS1Tv/eLpVy0NiVbeaC+Lwj1Dyd7gkA2SLVm6Atu1HRyhtyRgAaABBjB0yF/t5etkLeWnUhE6a2LFDh424IS9qujCvkZMJgvDf2bMXSOKzOimxCn0jHRk77TCwJLK5VsxIShGkFl3e2QAA4ijpyPgZQgooacWhpbuHj7uHYzljo7offu29Axt+mT19RlpamhNbhFAjgfuBISdb+sEHP3/22V1mizvAZ5LYhrFejA/WmG/ZvzQO8JdA9wo0gQpenI9SVdsjx1Cjum18CgAM3xCSlA97FA0AjlC6WhIWWpVvJNGP81aMrQlr99mMOZVW4Hhq8op/9/UdMezBRx6uh/YiVG9wf3TkTLv/+OP35cstijpEYwDQR5MPU7JHELZL4llKmwPvwlgcpVlAWnIewPlAjT0rWwWAW9z0PS0yQOWd1y/opLVW61FKj1DyoVX93M0wskffK9Wha1DIu0EhPx3e/+j9Ux58bMYN/fvXdasRqh94f42c5vz58/+7404pPf0WVetZOuTDrphADpB8Ch4MmgE8opcWyGr70tNkgPEG3ZOK9rO/lmWRACDAU12Uyg9R+qJe+t5i9eUw3qBbaVVMAE8bvbe89NY165NXZFq4/VfazPj2e++6ubk5vb0I1TPsv0ZO8/JTcwampJ6kpGJYA4A7h2DOu2q8HedWABFgnk7MKr2D1gH8ZpGPCkQD8NJpnjqNMz7JoPtZFDaZrb4cXtSJcxXVm/MXdOKHUx+rSn18PTzfmnDnML/WwwbfuGrlSmc2FaGGgHmNnOOfgwfz405bCQzQKgnrck5QMoCxFhymG3Q/OYwk2Uqp1WHwdbamvSYrJygZa9DdorLeGvtCEgW9oWNgcNUrNjyy67Y5c1P/3D/rkWm46yNyadh/jZzj49dffzw373uRTlCvkderJHGXQK0cpqraXkp2UfKPXjdRVW0b7zr2XwMhyyTxJKVrrIo750slMZUQvcMwvqqbNWTU2QuZS994K6Rb1Ow5lT+oRKiRw/tr5ASnTp3KTU7pwNgxSivu7OXoaZ1UzPkXFjmNkvmS8IdAIzk7SeAHURht0IVzbtuGxjb4uishrRh/1ypnE3hAr1OBn6Mkx1SYdSm/BpVs59/qtdG3BeQW3T5u/NbffqtpWxFqMJjXyAl+37x5QFERAOQS4nflvH5Cr7tJ06apGgB08LGGGtVQo3rKX1ttVYDDWMYHMT7pAk3Mh3MFZF4aX2BVPIB/qJPmStI8RdktiC/LykBF3XnyeI2rOqZL9Nf3PLL3h3UP3T8lPT29xuUgVP8wr5ETbPv5lwEWaw4hra8c1mtEoSNjozQGAGW2S5eFsSL9j6J2U7UUgM2CoBPFwQB3GPRz9NJ2QYjUtA9leZ4k6Rhry/gAq/WPo//UpraUkOdvuuWByB7333Hnp4sW16YohOoT9l+j2srMzGzFWXvOcwGsV5jQqBHyqyB8apXtR2xLOwEAISAQ9rpeGqJqs1TNyLkGkEvAV1YlgGICuyl9RK83E1CAEICejH1fZJI1VSfU6q+3Z2i7TbOeX7n/z/sn3zFzzlP9brihNqUhVA8wr1FtZWVlZV+6BAB+ALlXOOc8gErAUPp2p0V+zBfCvRQrIxzA05stTodvJXGKXjIAdGC8p8aOCzSOkjwg4zW1LWfDFG2prmSLmvTiogsFBYHN/Gpf+fv6Dbq5uMfnXy7/47ffZz/7tKenZ+3LRKiOYF6j2srOzm5WOuC6Oec55PLmuXbxlPZmlw8ONehoIQR7XJ56PliCPYp6vwJZhMRTkk7IQE17WOGUwFxJfFzRfIHbt0tvQemFS/m2vDZZLEdSEjPz84osZkJoc29joK9ft+DQqtff193j+RHj/kw4NeP+KaNvnXjflCm1+GUgVIcwr1FtXbhwoZlc0tERxVhyZXntBbzcCkzl1k2lgrCVQUfOQhlvqfEsQuIo+Vug6wRhnqKGM7ZLoJ15ybeCn8ayCy/tiDm6ate2+NwLQwVRUJVAq5xLaYykk9zcZsuW8V17zh43SRIEAMgrMvl6XOPGeVB4W/IAswAAIABJREFUp0HhnT7fu+PWH358+fX53bt3r91vBSHnw/noqLZWrFiRNW/+3WYLAPwsCvGEPK2o5c4pIGSKXtpoudx/PTOAAIBJoxzAqOeFMniKzJSjS6UkhLECQowAY1X19tLR3K/pxMEaH6ppAPCVp0es0Se4sHBIkalbZdNzCgg5LAhvSUJ0c/8zBfkd3D3SFXlIROenJ95FrrVk4LmcC/O3rO/Sq8fcefNq8VtByPlwfAiqLW9v73Ol24AN1LS9glDxHCPnXRnPdojKJRk8toCmmIRUE1k/umSgSCLThmrau1blU6vSkvPbHabe7BWEgZoGAH8JdJWmjsvM+M+lS5WGte3j3Blrw/jd6WlfF5oWZGYuuJjX6cC+7i/PuZCfd/XmhDb3/+r+6RGqOHHUGFxNGzUqmNeotvz9/XOlks1wfTl0Z+wvoZK/q3sU9WW9zvHIzmINGIR4Xd4MjBPysKo1A0ghoMDldN8iCGNUTQJYLgg/icI2s3XoVWe9/y4KG0VhuVXuwbhtHdc2nA9Q1V1m64OLFpzPu3jNRo2J6r5y6uMJ23c/+8Tsc+fOXfN8hOoB9oeg2jpz5sxjkyYtyykJwQxK5kjSaoehe3ZbBHpYEF6SFceDMwPApAocwGhgk8+TwRoDgFWiUEzItNJ+lXFu+u/N1pf1Oo3zj8pebiv2tEBzARhAB8YjOHwl0i+sl0+zbbW+0yIDQDIhn4S2XTrzmSq27lRG2rJ//mrfveuc556r4iUI1RG8v0a11a5dOxOAVvo2gPFhjG+vrFdkjMYiGbvToDsh0ILSfuT5mZCYD0kFZGJpWANALKU6xtIJAYD1gjBOY7e46Y9T8l7ZsE6i5B6DLoXSMI0/qGjjNA6ErBKFCIexKDMCINR4ebf1EM6zci4kZmdVsXWdAgIXjr+zRU5h3169fvn552r8XhByNry/Rk7w+ANTB+zcdaNmD214UK97WVHaskr+utIIeVovmQG8AawAGpCBjE1VlGal534piWcIuAGJp+QikGbAm3PegkM/TRvh0A2STshcvfS6VSk3qXKBTuqqaWNKJ1JW3LDmLXe3gbfddUt072q10aoqr29eb/UwzJ0/LyAgoFrXIuQUOJ4POcGoWyduPXz4xrzLyzAts8pD3PQ7zdaKozECOf/SIj+hl+7VtGiNtyibtl9Kopnzt5WS6C8mcK9BP1pR4wTqGNZWgIcMuq1m6zXrVumGNTWgF6X54+84kpz0v5lPDBp108PTH61xUQjVDPaHICcYMXJknq9vuYM7zNZhbvqzlUWkF8BnVmUrFVZK4nJJPCzQrYLwsSTOl0SR8yfUy/fpX4jiFEXdIYoDHQ4CwIc6aWHZHmpbJzUAdGQsrnQD350W2WHBP04pBYCTnEe2DqpZS7uHtF08+QHxTMoj99y3a9eumhWCUM1gXiMn8PDw6D5i+Go3g+NBAWCn2fqmXtosVtKXbQB4V1ZaMb6dkq2U/iuQQM7v0bSpDrl8EeAYJWM0FkOgl0PXigbwu0C7lU6qHO6poyIIEth6qAdr7JTDl8SSDEjKh9QiYpLB1ottAH4sObE27Z3Uo++8EeO3r/juuaeeys290iR8hJwM8xo5x3OvvPIFgYqD7L6yyBkEbjfodlU2yG+NJHxkVV5Q1P/J6m2q1q5sf/dZgfpxOEFgYNnRe/GEaJzbbqhnBJBgDzXIQ43wVgDIYEloxvltGntBJ9nPFwQh1IvZlwOMU9V9sSdq2d7/s3eeYVEdXRw/M7fs0qsIIoJKEbHE3hEk9t5rbIktdmMsMRpLYowmMYkxMcY3JjFREzV2Y4tYsPeCgqhIsdHLArt77515P6zgAgsCgqDO7/HDenfulH3Y/509c4q1mdmc9t3b21fp36PnDyzJH+OlwPSaUWp8PGvWBlvr/NfflZQ1OukChzurxSWicIrDURilA6wR+HclOU/SprsIbee5lQL/sSj8LPA+lCYgJOQ2qnzrTKvbyO42cpClqCPoqRBLODQZGyzUHRWlh6yMVotXMU5BCPJZsSMfxuT0lpaVWeIlt/CstWvS7KybEX27dT9z+nSJ+2EwigLzD2GUJsN79epz5WrjfPHoBrIQCsHoKsbXMU7CSAewQ6szz/4DPM7hv3hei6CTrKzmOQBoQWg/RYlESAI6ODvW0djlo9bmGlXN5cM9ogGg3U73GA0iMhzTPx19K8/t5bhkBN6UZthL2V7e9Ho870bBqpKTrNc91mg81OpkhJrX8BrbpXclKxPPm6IQl5a69lSwpXvVabM+ZEn+GGUE02tGKdOiQYM1cQnPTXUai9AclfBHdkaRT0VBDzBFkh0pHe8COoIpgCVP3n7CUYAohKZlPwMC1aK7TbZG73C34okhCYmtiqTocFQKOqaXFYDHCP0m8HaUjpVkDUI2lPoLHCcgDyti6PlBojhLL3tR6khpLEJRGK20tFjYZ0hrv/olXvupO+F/Xb8Q1KPbkGHDStwJg1EQzB7CKGUOnzixxK1q5vM858IwMkS1XMe4vZmquaIs1kuOlOYpPfMVAnsKyUad5Xb5IKsf0WgNxGhQihbbqOgxvbyf46aqhFkqAQOEcHiKSjiJUaBazGPFTlCUJASGVIJVKW2lkK2p6Zu3/nk09GqJ197S0+fb3kOTz18d0Kv32bNnS9wPg2ES5n/NKGUsLC1/O3yoRdOmKzSZfopSULOHGDdUlFsI/S5w+7J0gtFbeWzNrlRBkMvDZPUj8BcAEFqQhAGU4Ewl0JyLyUAY00muUCUefamX1dk/HLUITXMGDyJTAAueGvd8jUNfCjxkh6oDwKfpmu5b/9hX09tKbVbiT2BEc/8Oteou+WzZX+5un36xzNzcvMRdMRjGMHsIo6zo26FD5/tRnTJMn+bt4bmbCP3Hc/ljXowziqjjhI91+rFq8TudVDnf3+pkUahPyJ88lz+IMadNkKX4rDDCTvdoDbhZgI2afPAAllWmOYaX77NL7+7icFLrgGnd+734J3Aw9OovZ44PGz1q0JDBL94bg8HsIYyyYtvBgxkjR/Szszlsyv/ah9AbHF6cL3kTZHtMR6WiVTF0pCTPVgkdZOUyNmFgWaWX1AhRU0GMhgiaQLWYqzACBSIjQ8+jRMHY8OIvPJ2kB6VX795+4dUDAHTwq7/53clxpy9MHTPu8uXLpdIn402G7a8ZZUtcXNzSuR9JYbeqPXrcWpLcsz2s9/HcZYTmFeBJYszHolCDkI0Cvz9LZ9J+JwNMNdqSr4oxPrGkGhlZciRd5igFGzVdFfPUzyRALXrYPPMtuZ+CjutlANAh9Imr65ppH5XSBwAAEJucuP7cCatqVWd+NFetVj//BgbDFEyvGS+DW7du7d2+49DePfp0TQtKBY3mHEY/a03kXM3PRYz/EDhHChlAl+oL1Pc2AocQOq6X8+R4is6AahYQnQEAKEhGhmyuMQgNUwl17CSNjCkCGxW98hi5ctzvWv1NjL+xttrx8eeltPRnHA278U3w/mEjR4wcPbrUO2e8CTB7CONl4OvrO/OjuQdOnvx1967Gixam9+5lzwuF35KTEqQRIVcxrkbIA4z3m0rTaqALQvOUZ8eJOS+IjCJTgMhonu7pzvoRQnNUoq+dFJYuRGdwMRqUqkUYoWGS/J5KiME4RSrSg6S4BNSqs2PCzJhT53t37cbMI4wSwPxDGC8Vd3d3d3f3sIsXG2ZmFdJsvMtTj45JDvD9A2itEHdKF+ukOSqhKiV1TKVp9SE0HKOOCgRr9RPtIGiHu8E8ciz+aePVAudDKABMUokpPLUCqGYhR2fwCOGYDMUQZZOM8ToeY0JORtxq5eVbBh8ATA/qEp0Yv+bLlQdreU+fPUsUxeffw2AAANtfM8qFSxcvOhb8bh4XbH+Be0eS/+B5d0p/0+pXCcJawcQ+I0ghl7JTlBifWD4blOO8FOVTUUgECgA6gtSYVLOQq5rLfnZPt97vSLKMUAOF/Lzlj93nT5XeinNRzaHS0m79a0l4zOChmzdtKqNRGK8fTK8Z5UBcYqJjoQcnefw9vChtTsjvPCcC/KTTW1A6VC1G5Q7JsaF0oCTPyU7zdFxSjhkZu2eKfCxC36qECIwAACGIzuC1z54KOMc/xInSmxi9l5J68t9dX+/4u9TWnI8g37qr+w2PP3Np5OChFy9eLLuBGK8NTK8Z5YCDublVwXqdJ4LRILujJfk/jovCCACGyspynfSDyE9SCZt47jZGcQgRAH+FtCLKaJV4CyEtQgCgRegWQuNUIsJ4sl5ar9XbEzpGUXws9bn8/IxKGdRQlDiEahEyJy1Nf/Hs3wf3lOlHMaq5/5zW7Vct/uzDadN1uueXX2C8yTD/EEY50LVtwId373kW+rfnL3AIIeM9chRCc1XiRu0zUbuB8UkOx2IUjpA1pY8wdiC0BqXJCMIQaknoaYxaElqZ0BM8XqmTKlH6o8DfRGiVXvIXuLqORCPjHC9AQ5/dzFQuhP6cXS94raWFbUv/sR26l8HHkIv91y//eOLw2AkTBrLgGkYBML1mlAOzxo5r/e+/DU0dGxbOA4QmqcQleqkOyZtqm+T7tRiLcVVC1gr8Q4xayco5jpunl2IA5qrFnDxTeZ4KUQjmqsSJktzKKOP2fBub3r0HtqvzVnFnWwJ+DjlyNyt99KT3GzZs+BKGY7xaML1mlAP/W7fu3oovJ2gySnBvEoIFolCb0PefF2tzD6H5KqGrrAyRFQD4WBTaKUo7hSwX+PsY/6Az4bTXSy1WI/S7fFGXw+3t/pr5yfHw0MOXzoEi13TzGN++awkmXxQeJCf+duGUukrlGXNms9SsDGOYXjPKgejo6OHduv2RmFziHv7mudMYNyekjUKq5PsbPsfh6xid5LglOsmVPnPKniUKbQnpJivreO4oxy2QJA9CRYB0gLsYz1UJ9SldZiqKZ4dKvOLiapWYsFvSAcB0WflD4OtWq9GyfsN+TVuVeBWFcCwsdHXI4Z79+o6bMKEs+me8ijC9ZpQP00aMaBp81F/JX0GsqGznub0ODlmybA+gl+XKWVnpCJIQsiVUBRBASBfZRHbALwU+HaF2CrmL4SjHPUCoLqE3MXIgxJvCIlP5TABgJ89dwfiRg5STH8ozjr/I4c4cf9bGbtX4adbmFiVeSCGsPnrgv4hbi5d+1rx587Lon/FqwfSaUW54e3kdztSWzEWJALxtrg6eswQAUrMy/zx5NOPcqSC9ZE+pC4BY6F/1eY7bw6FwzMlAsxBSUVqH0D6y8lY+m3gOvdViCoBxmPu9FGiKcSbAKEn5zdb2+ymz7Sytijh5hRC9LJmJqqI0fpya8mPIYRuPalNmfmBra1vEIRivJUyvGeXG/k2b/lq4cImmJOUTF5irtVWq3svUAICTta0+JXXOk8eFO5zkJwWAB3iuhXipyN9H+DYCD6O6NlGp6JhevsrhNTw3Q1Y+sbbeN29pQT08TE46euv6nah71x/Gxmdq0iSpikqdIsuOZubV7R28qlUPqFO/dhW3QuZw4vbNbaGX/Tt3Gj5qZLHWyHidYHrNKE+mjxhhf/zEqAKsEAXxq8hfcarcul+/aR/OHDF4SI8aviu3b9qcml4WMwzBOITHNzHuL8n7nYhxFkBDgxiEPlIJfQlNb+k/uVvfPLdvPRuyOSQ4I1PTSpJbabVWFBwBbCkFgAyABIRSEboi8CfN1EkI92/aamyhx5h/ngs5FnV3/NTJ/m3blsViGRUcpteMcmb+2LFpwUc/LDSdiDGfq4QoS6thMz4YNHL4p58sdNHo1Rjf3bZxtK54om9IJhX8vByBC0TBk5AHCM2VZMj2/8MYG9+7lcdahP8xNzsy/4sbsdGhUfduRkc+SUm6F/+knkJ7Z2b6FeFbloDQWVFYgdG0oM4jAzoU1CwpI335wT2ShXrJF8ucnJyKvl7GawDTa0b589cPPyz95ptFWbrGBVuQAeACxgvNVB1ateo2apS/v/9fGzddPfjfRx17Dvrxy4CoqEGmThcLwrikb05lGZMMUIsdFCIDjM92H8x/bwiH93NcGM+72NrK6RpvndZHUcwBQjEKxxxPaVtF6Vnkk9WfLMxjKzktGD6ukrVNQW1Cbt/6MeRwtz59xkwYX8RuGa8BTK8ZFYL0tLT3Bw+2evCwTlKyPyG2Rn+WqRgfRSjUwS69SpUfNm2ysrYGgEMHD/688tsVfYYevnXt7zMnBsfGvl1kQcyTIDtP/TBjEjBazvOuAM0V0kxRCro3GWCpSnCk0EpWWpt65KwUhVgEy3TSc3LI5iwZ4D0bq8UDR7bwLixH4F8XTp18EDXk3VFvt29ftI4ZrzYsfwijQmBlbb1h795B3337sH/fr+vXDTBTDbC3HWBvG2Cm+qpe3ccD+g3+7rsNe/caxBoAqjg7I0FY+N8euUZVB0cHx2LuOkxmDsmPI6HXMBIB7ho1yX9vDId1FMIxyu8JbmC6XhoiKTNVQhF/AtgAbElN//mv38Ij7xTSbGDjlss69z3/z64ZEydFRkYWrW/GKwzbXzMqIpTSuLg4AHBycipIT3U6nUqlAoBRffoMvXCxVnFcuSfmrh9WSMupotCI0hgE87Jj1vPfu53DjzHeynP/5asdbMx5Dv/NcSuKc7j6gY3VsD5DAv3qF97sekzUN0cP1G3a+OOFnxS9c8YrB9tfMyoiCKHKlStXrly5kM2vQawBwNza5jEU2MwkJhNkm6QZIXaU3sT4QfZM8t/7u8A3JeS5BpkmCnGmdLep6sMF8VVq+optGx8kJRberK6b+//eGeucpm3epMnOHTuK3j/j1YLtrxmvPEsWLLD67fd+xTlvLBaD1Ko5ev3/BH6FXlbn+77MF/kOCvlW4NfopMKTegMABZisEr/R6Z9b2CknfZUEMNfVdd30eUWZqkLID8cPxWMyduqUWrVqFeUWxisEqwfGeOXx8PR8JAhQZnr9hU7/pcjP1Mu9VMJ0WXEhxI/QexhHIVgj8DMk+SDHvS/JxmJdkLMgAtACvY+xp6ljydsYneS4WARXOM6N0EgEvoRWpdQ5MeG7fdundOn93KlyGE8O6Hj78YOfly539vGcNutDQSjiGSfjFYDtrxmvPDdv3pw5eMjahOcYDV6EGIRGq8VP9PJtDFcwx1GqQVCX0NYKWS4K4yU5QHn2tCjcWXC5wNehNH9uk8UCr0XIixB/RbGl4ACQilAywAUOX8c4lMMbZ37iZFOMePSDN6/9FPLfwKFDRr/3XknXzahYML1mvA60btTouyfxTmX5xywBDDBTpSFUg+NaELiM4Zai+BAyX6d3Nhq2cGfBcxhv57l7CNkiqElIE0IDZWUjz20U+DGS3LPgnwhnMF6gFud36d29eZtiTfub//advH9n0dLPmjZtWuw1MyoYzB7CeB0Iat/+1Oa/ej0vI/aLEMLhJp61lo8YF/7owd34x0G2DlGJ8Se2b3bO94ww6SyYhdBUgZcQaBCuRYgDoZc4fB7DNwJvS+kGrd6OUgBIQcjW1FOnOSEHM7UL9+3I0qQPeLtL0ac9LahL/+TEH7/9fn9190kzptvb2xd75YwKA9tfM14H7ty5M2PgwB8ex5XdELNtbcYOfbdRdc+cK/cT4qZ8v+L3fFUX8jv8pSEYqRI9KSzUS+ZG3zgF4CeBP8xzC7T60zx3HOPKlIRjXJ/QforS2JTDycei8MjKqnPzNl0aNKliWwzxPX339pYbF1t1eHvE6NHFWzmjwsD0mvGaMGvSJM89e7uUzRb7NMZ7vby/HzMlz/VmC2bszNLldxoxLjOmINRTJXSWyUTZ9NyOYrxS5GfqZU+gLoRmIXQXoV95rhUhvU1ZSDqrxd6AYm1sGzdsOjyoc7EWsun8yX1h1ydMndKhY8di3cioCDC9ZrwmpKSkBLVsubNssvSNtLH+evz0GpUq57k+7MtFo+PiGxaa9mSiSuABfWuq/FgOv/GcgtDo3A+b5QLvROnIfJJ9gcObOe5LvfSDKITZ2n09bqqjjV3R15Kuzfri4K4kqixe9rmHh0fRb2SUOyxehvGaYGtrO+ODD9Y4OpR6z5stLLo0bZVfrAHA3NLqQ1VhDnM3MdIgPDd3TGOgWjQ4/OUwQlZuIohHyPitWZIchvFtnDcUqLFCHCk9i/H7emlsQsLAlZ+FRd0r+nKs1Gaf9hj4bv1mX82b//XyFUW/kVHuML1mvD4MffddCAzYZWFein0eF/jb7h5jO3Y3+W5Cetp4SZ4nFijZYZh7BNTZ6FfseBfAPHACvOeMjVWbAzTfmXrYyO428iTXpxr9FiFHOBPxkH6UhnAYAOoQsk2TufjXNRfvhBdrXY08an7ebYBLUkbrFi02b9xYrHsZ5QXTa8ZrxafffBPr32ZXwQJaLE7xfLCb+9ejJxbUIEGb1UlWAmVlbgEjnsfIO28cDapmIVc1l1UcrWYtT3J9+tZZjHQEH+oRfbhHdLqEA825QLXoTahhfx2BcQiHH2d7mzRRyGOjSP3l6ZqpG9ZC8W2b3es32j/loxsHjgzs3efy5cvFvZ3xkmF6zXjdWLpu3YXGjTbZWL9gP7vVqk0uLivf/6CQNogCBnibkM6KEmCmOotxYu6EJwoCPnduEx1BBlHWSHiwV2q6nvMXnu6gjR0BARBg5RcXkggo0Ey1XOCuYjxNJfRQi+sF3gbghpGdxBLgfa1uwS+rS7bSOZ16zgvosn7F118s+TQ9vUwOABilAtNrxmvIL1u20H5917k4pxacLqoQdAC/W1vdr1N/TKcev4UciXjyqKCW9mqzBIwAwF8hR7N05zk8ViX0NVN9JPLLBH6QSryJUFjuORiLMoee+Wg3p9QC06Cd7u12utuqiJslBUDpeu4eUY5k6X7WSRMlebNW/4dOMgMYpxJqE2p8gtlFIfExUSfCQkuwXgCo4VR5afcBfgo/dfSYX35eV7JOGGUN02vG68msxYubL1400t72Z+uili038Kta1dPCrHrnnsOCOn9xeI/Ww/Wdtd8U1LiStXWC0fZ5kiRv0+rXZum6KbQZIdWBmgNYATzJluxgrd4Ck6Ad7u12ulur6IZwWxs1Mbj9SZR+8hiiNRCjQSk6bKsiEUPvUwCMUDujQ0hrSgdJ8qc66R5CeaLdpmRmrj+4u1iLzUOAj993fYZKNyN6du58YP/+F+mKURYwfz7Ga86aVauObttmk5TUMiW1tUJUptooACEcPm1llebomMpzw1sEVLNzuB0fl1m10phJE4f0H/B+49ZvVasOAA3mTweAy0tWGm78YvvmWmdC2poKbJmkEiIwHiVJ//B8JUpXG5WXNHhnU0pzfLQ38JwWoTHZJSI5AVWzoIaIG0mmJrORnOLwHo5bmtvz5B0b6+8nzHB3fNG6jskZmmUHd2nVwvzFi5nPX8WB6TXj9UeW5QMHDhzavv3MuXMWCNkDOCpKDUmK5IUknk8AqvB87Tp12vfq1aFjR3Nz8y+/+CLuwcOqHu5TZswAgHVr157ctbdhteoHzm3Lkc4/pv8AALsunT29e+vs9LwhjotEIZjDK/TSaoEfK8nHMLYDOr6AqmNnMP5U5D/Wy16UOlCqAHwu8gcoxQhhjHOykfhsqkHkXDn/1gi8H6VtjBy0/zIzs+/ep3/TVqXyuV26f/fXC6featXc8Dkwyh2m14w3i8jIyPj4+CdPnmRkZJiZmTk5OTk5OdWoUaOQwggAsGnTpvnz51e3lp4lckpF15Z+l67N6vLFgt259fosRt+IQkdZPs3zP2n1ABCoFg1fM5Qvyepagf+X496R5QcYHcW4OqWXMbagsE6nd6I0UC2628iHe0R331NVm2+XvZnnUhAabxRls4PnHjZr9VHvQaXxUT1l77WLu8Nv9Bo0sN+A/qXYLaMEsHxPjDeL6tWrV69evbh3DR48eMGCBfkTOVmpzbwcna5mRtU3MolsFAQZYI8g9JFkABjvAh5ENpwuIoBJHDjHC3aUXsFYi6CDrGzX6jqpxR06aTKV4xBSAQxXCTm5Bi0w9dlUo5rFs5x//sLTnH9ehG4Uch1BOVB6NSWpRB9MgXSt16hrvUY/HT08YOPGabM+bNmyZen2zyg67LyRwSgSERERT48Kd7jbqMnVz741XO/cqPkZ82cROgrADYxkQDpKKwMEqkWDV3XbKplaBckEEnX4ACUxCFWmZL1W/46sAMASSZ4v8ADgRGkyQl7ZT4ZgrR6AEmI6558jpVzu38cWFMxMxde8OOPavL3o7R5rv1gxbeKkxMQyTDXOKASm1wxGUdl5ISYyDUelc9iurk6WAOBeQtzW0MtHOD4q2xs6DOPGioIoNQeIBQQAFODziw4nHppb8mSId5qAEM9xAxQlBuO7+Fn8CwcQynEA4EHIDQRao3KRiqRYYJrzqDiWXfk3lMN5CsM/RiCqzcpo+W4Ojt8PGt2hktvkUe+uW/NTGY3CKASm1wxGMbh3796YUaOmBHRQ8QIAXIy807Fr17f79l6VHQTvRshNjsvAKA2hBxgoAEfhyAOLgz2i93aL2XLHWk/A2VL5xZm0UMgKgddm91yZ0jvZJvR6hN41sqcfl5TVj2j+AsH3EfLNvb/OQsjNybnslg8A/j611w5+V7gbM6L/wH/37SvTsRh5YHrNYBSPD2bP3nb35ppjh4JvXb8UHVnTy3PR4sUebdpc5TgAsAYwJ7QeIfYUOstKB4VEZfEkW1R1BPWsrjnROypdz/0J1J3CSe7pd9CHkHD89HU/RfktXxn145KSs7MGgAyAvTzXPXf2vtMWlnXcPExOe8eF0+PWfD3xhy+XbfszLSvzBT+Evg2brewx6NLOvaOHvnPt2rUX7I1RRJh/CINREn753//Crt/wreM3Krs6YoPatX9PS7ejsI3njmAcw2GO0u1afTrAHBekkTEFUPH0327RANBuh3tUKvqQQBrQIbICAJEYfSqKdQhpI8nWCLZynDuFoQWkzAaASSphlKQ0MkotZpjpAAAgAElEQVTlqkWol4XZmYVf5m+8Yf/O+2dPtsjI/FDkKUBlUbV5+jw7qxcN2QeAsEcPlh3Y6VO/3twF8y0tLV+8Q0YhML1mMEqH8PDwAV277s3SAcAolWAGKAmBmtKfdJIqO0amjoNiEG5D6ZlFouCvKIEKAYB9PHcJobqE3MU4DGMHgDiMGsjKpHwVGBIBPlIJEyT5LZLry7tHFNLaBL7fuVee9ptPHg0/tG+qRmNcCDg5y27XnCUcLp1f2AdDr26+cq5b3z7DR40slQ4ZJmF6zWCUGmuWL1/700/LddJilRCP0J9a/ZciH4mQPaUtCY1BKBLBbUJwdljjCJX4P53e4FT7tcjXVGhPJZd94y+eC8XIDMCb0BqUXkXoNodjAM2V5Nq5iyQ8wugDa6t9Hy/LP6v+Xy2Z/eTJGJE3LgR8LwW+HDK6Y90Gpbj8jedPXox/OHDkiHZBQaXYLSMHZr9mMEqN8bNmmZmbz1MJK/RSHUJlgOU6abNWH47QLxxOQuhdWTkhKcf0sh5ghih8LMk5ERAxgCLzlSYYKCvjJKWhQh8i9B/GgFA3Sfldp6+dr6LNfLX662Fj8k+JUmoJyJ0QyFcIOD49tRTXDgBDmrSa37ZL8J9/jR0xMiwsrHQ7ZwCLl2EwShc/vzqh58+5EtpLln8S+EV6aaILVCcyBdDz5NtE8RIm1zCyAjRWkryyDRqnMDZDcA7jhzKqkvsnryulrorS0XQo+1PWqMTAhk1redTM/xZCyM7G5k7c42CtfqIdBO1wN1hjusk2Ho4mKua8ILYWFrPbd78aHTlr4uQmrVrOmf+xIJROLnIGsP01g1G6hN2940sIALRVCAcQkB0vc7hHdLqee6Qo9QmdKSlf6fS1jKzPn6iED/TyIEmZqBJOFdOm/L1aZV6vwcReAwtqMLJD9xUW5gCw+hEYnAI7P8KPrG1ae/uWdJXPoX616hvfm+It4SG9+mz+kxWvKTWYXjMYpQlHwT1biBfoJchnhWijKN5G1gwdwFSV4Kkoo1TC7yph3eTZ+9zcvihafZy7CA0xV7u2ajtl4IhCmtWr5rFi9KSplRx/VKvmEDrEzOJENff1k2eXaH3FoGu9huuHjU06f+W9oe8EHzlS1sO9CbDzRgajNOnfoaP2TsSP2dlTFYSmOFONzOX4hBg3/o/Dy0ShnUK6ycpBlVijdcCojj0AYOfx/774b998ra6RQkQTg8ADhM6pVPusLFeOnFC1sotOlqIS4ms4OfMF780fp6YcvH45VZPuWaVq53oNS3HJzyVRk772VPADXebcTxb4+Pi8zKFfM5heMxilyTcrVvz744//0+VKS91G4BBCnhj7ENpIIXcwuonRbYQCFTJbkgFgsSjYeNf6ZOSEnFsy9brvdm355/rlDiozMSvLQZaciBLD8emCeJnnFEHo37zN8IAOALDwr9/+vXnN39I6mpLerQIHtQp4uSsuKpej7i0/tLtl27YffjSX59nJWUlges1glCaEkPo+Pt0l+f3cftMKQlEA4RjFYnQEY0DoF51kRukFjBaI4nhZvmRuXrNug8n5UqGeuXv7fkLck+QkTBSV2qyyrV1dN48alZ4eFc5b/4NXRHgvvWQoQBPIC2936tGleZuXs9gSsPf6pR2hV3oOHDBoyODynsurB9NrBqOU2bdnz5dTp3aT5AGm6s4sE4XLGE3XS9EYn8UYIbRYrzenAABr1Cpav9Hc/sOKONCfp45mHdjTLyPTOBDGXXEeOmR07SpVS3FFpc7vZ45fTHj0zpj3AgICynsurxLsvJHBKGVuhoZ2atV2m1q1VODPcjgFIQB4jNFpjhuuFkMw5gFtE4QEhEYq5EvdU7EGgPFa3b2wG6cjbhVxoPO3brhrtYG5XVB2JcZfibpXRksrLYY3918Q0Pnf9RuGDx4cERFR3tN5ZWBWJAajlNFpdXXdawbUa7x40y9fp6ZoKK1JIRoBD+ACsFanV1MKAIFqcQsHIHDGFWcmpqf/fGhvC68iedpRhAx35nFBKeTUseLgYGk9v1Ovi/fvfvj+pBZt/WfMnsU8tZ8Ls4cwGKXMnTt3Fkz/4NPuA5ysrO88eRQaGx2VEOfl4jpvy4YjWTpDGyMLBgWgxoV0A8xUV7Lr+RbO1nMnH/278510zUQXyHFBqaR3mjJqgscLl9x9mey/cWXnratd+/UZNGRIec+lQvMKPIcZjFcLT0/PoF49vj60BwA8K7v0bNRsSsfuTtY29bP3RrksGBIOTeb8hWfZU+sSevr2zaIM1K9pK9m37noz1YrHyBAIo06xGNil16sl1gDQqc5bP/YfkXT28rB+Aw4eOFDe06m4ML1mMEofc3PzLJ3W+Iq9heVDoxIENNcLjuM4g4MHADxGMOePdVn6XGV5C2L6gHf4Zq37WZq3dqjUoFLlgX0GN/OrXwoLKA+GN/f/okvfw3/+Nbhf/1u3imrEf6Ng9hAGo0yYM/NDnJjyUYceOVeaLpixK1OrBgCAiS6gUThKwUZNNHpEASx4ioAufQDDzFStZOWcwP80aZZnkYvFPElLqWxtWwbrKAeuRt//IeRw3SaNp8z8wNyoNiaDW7hwYXnPgcF4DXm7QwcqCsv+/LWJW3ULlQoAIiLvVkpKMBQ+76qBlXqcLnHmAj3UI3q4T+q6m3bxWXgdwV0IfVshRzE6cu4kL6r9qnkUZThLlbpMl/Mycbax7V63YerjJyt//ik1Pf2thqWZ9PWVhtlDGIyy4u0unZu1C1gb8p/hv/MGjfjI7JmqHpcUyGsYQZjjdnF4ushrAGbqpCP/bj908ezLnXVFob1f/VV935Fu3unbrfuunTvLezoVAqbXDEYZMmTo0ARdluG1jbnF18PGzLTKVTTLHNOgne7tdrpbq6ibNfG1k+zU1NaM+jjoNQgt00nf7d4SGf+kPOZeIRjUuMWP/UeEbNnep3uP69evl/d0yhlmv2Ywypb4uLiBffq29PRxt3XoUq9haEzUxA1rF0iKGyGehEx0gQeZnFZBZjykydjLStKRp+bs63H4uKRs57nHzVvPLThd6usNpRQhBAC3Hsb+78wx11reE6ZOcXR0LO95lQ9MrxmMMkdRlP3790fdu7d92z/VHZ0aVnbdsH+nOaWxGMsAsiwjhDiMMQ/VLJ6V7Lqfio7p5VCMv3d22TRj3gvO4dy9iCtR9zIyNO7OVfo0blEayyorkjI0vx/Zf+3u7VspSQJCHtY2ftVqDPAPql6pckjEre03rzRs3WrcpInlPc1ygMU3MhhlDsdxXbt2BYDxEyeOeued6pVdqjo53497fCBLhwByvPzethKfmbPzlgZ7Ib7btSUlPNQqOdlNUS6r1ct3b9s5/aPKtvalOUYp8dfRgz8dPTxEmzWcUB9KBUpvZWTdfvJk7q1rQQ2ajenau7WX77ZLZ9u2aj12wvihw4qaa+X1gO2vGYyXyu7t29f/tNbazDz5zu1HmZkr9bK7UfmCiS7IuIA6ALy4PWT1nm3JZ0ImaXUGF+9grV4LMMXO9rtJs5xtKpYL4LpdWyLPn/kwK8vku2tVouzr17pJy5TMjJpOLvtCr1yPf/TLht9t7exe8jzLC6bXDMbLJiYmBgC+XL784vEToiY9AaHGCnmE0R2EnCmNVZScAuoAMNTcbPWU2SUOWTx9J/zwtj8nxycY5/D7/gFEAfxZ22/56LKyKoQ/fpCp03k7V7HIdjT868yJ0Lu3FVlysnes71krwLdOnlvWH9gVdfLYtEzTYg0ATxCaoRKcEarFC/HmFj71GjT3e+ujPX//d+xYGa2iosHsIQzGy8bNzQ0Avl216tb1G1PHjKkdH68ApAJMl+SussIZtZyjEqf3GvAi8eUX70XYpqQEqkUP8swy7i/AcUk5HnVPK+nVgskKNiUn7GHMV1v+SE5LrczxWpWqa+tAFzuHyX/83I1QX0mqBugKgtPXLu10cV1p9LR4kJy49WzIn4WK9VyB/02rb68WL0n64Ceab0OCTxDSwMPz2rVr9erVK91VVEyYXjMY5YZv3Tq/bN2ydMoU/tr11VrdZJUQiZAbpQ6UXsP4LM+N6tzr7YbNXmSIzAxNLUKBy5vDDwCaWVjFJiV6VnYpvIfI+CfXY6MeJSchQkWVWNXesXlNH0u16fCc8IexX6//8fPkFB4gUC1CpsZi744kjA5kanOeQ34AkJxyLD197Lefj+rS+5+TxxRdVkxy0nhNZp7ecgw4APArz02T5Uku4EFkCjDJAb5/oFtw/UrtJi3Onznzhug1s4cwGOXP0D59dXfvYm2WtSRFI6ThOCtrm5UjJ1RzqPSCPW88ffzevp2TsrKMc/itiqE6gJ4WZmcWfVXIvYdvXFl/aG9GhqaZLKv1+soKiRU4UJntInK7Gt6Tew2sZGVt3J5QOuabpcsfPOByJSAkLnF8f1nxptRYfwFgrSiE83x3nX6RwBGAP3SSm5Ec5THgTBWFaxh52Dz7lRCZAoPMLTze7nLiccyGvze/4Af1SsD21wxGeRITE7Ni6VK9Vrt03PQHKUkRjx50srL2c3Vzs39RF2NCKUZoSAv/Rvu2TwJY/Qj8BUAIHYunALDFTD24UK++uetWZcTGzM/QOBvv6BQFtPqxADevXRl873a/Bk3d3auHR9/HGPt51ASE9BoNB5DH/HIVqDeHv66kGG2N4SjH3UXwVWbWeBfwIJQCfME/yyub34BTCwHNl+k7HEEnF9ctl8/GxMQYrEyvN0yvGYzyZOSwd1wsrNIzMzNkfZPqnk2qe5a4q/sJccfDQu/cizgXGxWvzbLmRY5DDSu79m/YbMz1y5+lawwR8ARgk5k6ydN7Qfd+JvuJT03p+tWSD3W69qbqmRmoTenW9IyvT5/Yfe5kf4VkAOw8dfyGwNdRFEODPMK6msPVCTXW3/qYmyLJJg3rJnvoIJMGCG5gErTD3fAr4Z8E+MTCsoF7jaBadU8cOzbkDfDtY3rNYJQng4cMtraz6969+8yJkyc0aFHio8XP/votMvJOzYyMLjrdUAqOlHKgTQRITU07yfOKmdmHlhaplDYwtzimSRvSsNmCAhwEE9PTRn37+Z7MrKKcQs6Q5F2EO8Njb4U8ATCX5WgKABCs1U+0gxxh7ZvCbc+nvxyAFyGQ77rhdZ4eDL8J/uS5+gncBgCM0OfJeIat1R/jZyCEWnv67Ll46U3Qa2a/ZjAqBHFxcXMmTPqu3zvFvfFyRNjMjb8M12p75q7InoczGH+iFkc3bzOuS+9Cmr3z5aLxcfF+pMCddX5WCbwOUHdFPo3xYY7zJWSeJAOAv8AhhKYRegbjL/RSHgP6CJW4WJLcCc1z3bhnQw85ro0AsIvn9vFcKse1e6vJlO59VfzTEmITt/6+bvPG176iGNNrBqNCIMty785d/hg5kStO9cVf9+/+7/TxxZkZdkX7Hi9Vizo3j2/HTTPd26G9j4IPTtBLRZ+AgYFqMQ3QNElypXAVoxiMKhNqQyFK4O9T8q3uaYfG+ruF55IBxsqK4TogNIDCpEIfOQY2qNUOHbsOaRNkfHHZgZ1thw5s3759cWf+asHy8zEY5Y+iKCMGDf6y95BiifX6/TvvhhxZlZFLrB8jdIzDawX+B4E/wHFROFdg+0dave/9e3P/933+3h6mJF25drEEYg0AS/Vyc0KWCfxkkV/Hc/sxRgjtEbhQx0p6M7OcZsclJWez3F9WMhBeLQqPMDouKX9KymWeP8E9Z/mhGJ+1tcsj1gDQ0NV9/+49JZj5qwXTawaj/OE4rkOXLsfCQ4t+y7W7tw+fPvGBVpdzJQPgY1GYphKOcJwlpW6EXOLQfEGYJQoRRo+BQZJsFnln46G86nb4xtXKKSklmHygWnxP5B85SB42so+d5GEje9jIF5zkX7R6nBDXoVmbLyzM8t/1GKM7Ntb2bYM+sLOb5eKywKnSkK69t1VyulzwE+sOxv9zsF8zaWb+t9rW8jt77vVPFM7OGxmMCsG6n3/+edjYoref8ee6n4yiAc9xeJEoLNVL9fXPTM/dFQIAiQjmiEKAgobKT10vpmj1/UKC2zdtXckof0jE3duddc/UPz95vKcNjHcBDyJHZ/A6gqMzeOP8gv4CNKa0mqubENBhZEhwv4wMH0JdKb2B0UNB+MvcfOPk2XYWlhM69tBKUlRiXEj4TTuHSis0aQ10+uGyUtnIVJuI0L8q8biV1brJsy3VJtRfxQstffwuXLjQuHHjon+GrxxMrxmMCoGri0uGXvv8dgAAsGzLH0OytA7ZinaWw7s4bm+WabV1oPCzTlou8Nt4rm+2ZC/K0s34ZfWG6c/StJ5/ED2sYCP4+FyBhU8v5njj1dpcgwIglNfZo75CLkfdm9m5V0u/+huO7N8dG2XOcWpR3cKv3r8BHQwt1wcf+PvMCUtZeVunDZCkvhSucHimKKQg8CbUDOh1jtNT6ufs8sXAEdbmFgXNsL6z6/kzZ5leMxiMsuXSpUu8TORsMS2cB8mJoRG3xmcfzWUitEjg92mfU099liRPFQVPjtZXCAD4EeKh0fx381pQ7XoAQCi14bhKBXgfPNdLOmzQvZ573FzVigWmQTvdDXWEj8XTd1VCDysbAKjh5PzJoJF5uv3rzImV/+4cS+nKLK2z0dB1CBkGkIZQOEYKwAxJtqVwISZ62pqVb3n7zu49yFxU5Z9ks+peS4L3THit82Iz+zWDUf74+PhUr11rQ9iVQf/7dt/1y4U3Pnbrhk/Ws534coH/rAhuFQDwqV76ludyngl1MzRHrlwwvMYIPdRp8+bvMKIgL2kLTIJ2uLfb4Y55uJcCNxK5yGSISkWrYmgygnSOa1LDdATQxJ9W3tq/c0dGZp/MLGdTzwlrSpsopLlC7ClggKYK+S01zfvyhanfLbsWdS9/e2cb24S4hLt37xbhk3hVYftrBqP8sbCwWLLscwD4+++/f1/zk07S26jN2tU2ncMoIvJOYLahOQnBNYwXmnLqyG9utgJwBjiLcUtCAMBfVoIT4nLedbW0TkzPsDQlnSajVwzkhLmPS+EaUToy+8mhAZilEuMprV0lb5h4pk7befknizUZ9QuOnyyIrrLS9fGTSb+vHdq5Z+d88fQB3rWPBgfXrFmzuN2+KjC9ZjAqEAMGDKhdu/aOrVsPHtrnZG1bp2q1/G0uxEb1zVbVMMz5EBNWFJPmZgDwJvQ2Ri0JAIAa4EpifJZebyaKAFDL1S007ol7ATaZPOlHjDHYRmaoRAT0O4SqUXoJ4+sYDVIUzqHS8fDQ0Pv30tJTK9k7+rnXqOvmPvm7ZRtS040zRZ3i8DWMwzESKaiB+hDaUSEOBYeGfJ+aNn/vP7YqsxZ13zK+HuBVe9PlKwXd9RrA9JrBqFjUqVPn5PETY9q2NynWABCflZmTCyoMI1+SV9dymZt35jI3eytkj8BBtig7ckJ8eqohC2Bg/UZbb9/skppe0MRyOsmPAnANo/dkEoZQKEaPEZqjl2NEUSLKf3//YZeheYvSKxjvs7aZo81cn6k1FutFouBEiR2lwyVSDegNhMMxmq0Suktyz4I34EvSMz7cvhlUqhbevjkXfV2rpp8/npKSYmtbsermlBbMfs1gVCwopWdDQtrVrFVQAzXm+Oy9J0HIHJko9fjM3EyfmZsBQA2AjOTdgsNydoamtrXqPFGb3SlOwE4O6wW+OSEPEbKjtLdM/tHq7YFuwzApIXF6aupIWWmmkHGSPD0xcaRW/43wdJuoBRilEv0VZYKkDJKVBoQ4ENpWUcZK8jqtPozjNvNcIYOuSEv7dtuf8elpxhfdrWxDQkJKsIRXAqbXDEbFAiHUKqDtwVvXCmpgIQjx2VGLXgq5aqoyrxmmQTvd2+10t1Ll2n3f4rCHUW6QWEnvZP1sK7py9MQFZiZcLwonAuOzGH2qk2bopamS3ElROIDZKnGsXmqQLw9JT0WpTehqgQOAiWrxI70UWMAmerZeikVoC1+YDWBscspHG9YaX2ng6r5/9+7iLuFVgek1g1Hh6Ddw4PH7dwp6t0EVt+Tsouo+RAnDeTehwVo9BpohQaaEMKLG+ZJuYuSdvTeXAbytbIwrxbg6VBrQ3P97M9O1YwpivsAvMXJQuYBxZ3N1Y14Myra6BKpFwz/DfwfIchjGPwp8K4V4FZq/aKYkb+FxnKkfEAYaEsIlxofcvplzpW0tv5DTpwvp08vLy8vLqyjrqoAwvWYwKhyLPpqXnJKSmplh8t0aHjVCsk0KzhSqUBqTT9FWP4I4DcRnQJ6Md7GAmmXvZ09x2M4hb1WEkZ172tRtsEZVpKKOWoTGqYTFkuRMaCxCRzj8m4X531WrjmzTzkn7NPZyvAsYgtTdbeRJrk9vtATYzXP9crshGmt6Dv1lZUuhVpEp6Rlbj+w3vtKlYbMTJ06YbNytsZuHld7dSt+r6StZ3IDpNYNRsXj48KEuLf2PdyfbFBDLF+Bb96zRpniiJM9UmcgjapxcycACkX+bKDl3njZTB75lIhpw8oB3rJu1GmVhFlvwxhYADnBcD7WYIooLrSy7WpjNtbM94+3r0b3v2ilztFlZ3pQAQKBafJQp6gg61CP6cI/odD3nL3AA4KcQgYLxqeN4F8ij6QZ8KA0vdBpVCHmQEB/+6JkTTAOXqpfPn8/f0svLS0fwoR7RMRl8WJpYo0aNQrqtmDD/EAajYlGlShWnam7nIu80LaDWTA0n5xqubsGaWwbLrzchjRWyUOQX6guLmlnH8ymA3sne0j5E6LpK/flbTUw2fr9H//ZNWs74bU1TrbZhVlZ9hVgCAAAFSMboBMJRtrb6Kq7nRowHgKQMjYrnLVTPHiHOlSpfwVwAEACg+YLUAeAMx9U1Mm0XEj9ZSyFanlcACtljt87KOhJ61cflqdI39/Ses28bzJiRvyUF6L6najULmQJYWr96qaTZ/prBqHBMm/XhbxdO6uQCU5uuGD3xU5WY4173oSTzFEapxIJMvfNF4SyHvzMKq1lgpvpqeGHppbxcXHfPWVK/R7+DPr7TnSq1N1fPda4caKb6xr16TNPm7fsP+3TEeENLewtLY7EGgHoeNXT29gAQrNW7mektMA3a4d5up7uNmhi2/BxAWu7hTMZPAkASQmmoMLEGgLZ66dbd8Jz/2plb6jQZ167lPbCNiIiIyeC1BD/d7Ev4lTNks/01g1HhuH79ehVbu5ziKSb5skf/+Tv/Xpqd4+ljSV4qChNVoislvoR6E2pB6U2Mwjn8ACEbStfqngU6bhD4gDoNfFxN+3cb06Nhsx4NmwGApCipmRmOuQuiF4SvS1UHz1q/paaMyNKtfgT+AjZI8DE9BYDFKrGdoqwxskrniZ/E6UKgWjREZoZj5JPPwTwPLpSeexhrfKWtZ63g/47Uq5c3QJQQbPxgAJB7NXXbcS6mKIuqCLD9NYNR4XB2dtbon5O/KbBxC3vPWr8Iz7ZcH+mlj/V6GWA3h9cK3GqB38VzUYAGSPIqnZSzZT2NcbCd3aQBxSs8JnBcEcXawMxeA7W16v5kbg7ZlnTDznqhKDSU5Z6y0oiQx0Y/BlY/gsgUiEpFkkyNDdlPENR7XnEyFQCPkEb7LKdKW+/aN69eNdnYItvT0UZFASBdz71Chmym1wxGhcPT01OP4Enqc6oHfDpinFT3rU+NDhvrE/q9Ttqt1X+il6ZL8kadtFGn72bk4Pwrz611sP9n1qKymroRs4eOdmgT+L6jwzi16heeH6sSp4lCS0IM8xkskyVirh8QxyUFY6zLsVfoOX+B283zfYuQttABc/HpqTn/reHkjHXS48eP8zSLiIgAgGgNxGgQAhox9H4e80sFh+k1g1ERCezccW9YgSEzOcweMrpNp56dzFQXjCppIYBahL5FiNrIuzkGoRFmKrFxs+2zF5fJjE3xXvuua6fNU+zsBKAzJekrvdQhW3z9CGmukK+EvCbZXPYKhJbqilSfzJbj5NzbcG97x+PHjuVvufNCtOFFqhYbTOqvUEo/ptcMRkVk0JAh5x/FGLupFUTPNu2C5y/708X1Y7W4k+NScu8WMwGOcHieSvzQxnrFhA/e7zeszKZsGku1urK1jTel3oTmOTZ8R1bcKJ2mEjTZV4wTtNqoyd+y4la0guBRklQpt7mmkVv1fbtMBzpGRNxXFHQ/nYtK47afiS72ksoPdt7IYFRQqrhWeZiSlOOmVghmomr9tLkht29tOXV078PYO1mZlgDWAI8RqiaIdg6O/dsEdarb4CXM2SSVrG0TC7A5DJAVb0I/VQlRgGpR4kNAnYSuEoIROhZPi2inUBBKV2Tb3O7qDd1rTN34S1ZWlpmZifph9+6ZyKBd8WF6zWBUUGp6+zwMK4astPb2be3tCwAKIQmaNIUQB0urwp1MXg6ebh5ZVy8BmDZDv0XIWzryCKMwhJMRDJHIIvLU3buIJAK0qVI1//UejZuFhIS0b9++RLOuiDB7CINRQRk7ftx/98KSNJrntoxNShz9+5pLD57+tOcwrmxtW8XWviKINQA0qeG539Qm1xgXQgMVpY+sNCqmWAPAMZ5zreqe/3qzajUunXmtiqYzvWYwKi49+vfbdvlM4W3ORd1bduLgkpVf7Yy8dTkq8uVMrFj4OLumcVwhaZtekJPm5u1MWXtaeNa6dP5CGQ1aLjC9ZjAqLi5VqjzSFFhAAABuxEavu3jy180bfWrVen/G9JXB/760uRWL3o2aXyo0M2qJyQIws7Zt5GGiBpjAcda8cLrQdH2vFkyvGYyKS1BQUFRqUpZeV1CDvaGXBw4banhds2bNjt27rTl68GXNrhiMCOz4ramkVIWwlePmqoS5orCpUKH/wdIiqHnrgt5t4V7z8IEDxRq3IsP0msGo0EyYPu2Hk0cKevdoeGi3bt1y/jtu0sR0e6uwR7EFtS8vzERxRMuAX59nxc7hM1EABKcROo3RTzyeJgomDytjEbqiVvdrVqBeB/rWux16s7mnm4cAABW4SURBVKB3XzmYXjMYFZqAgIAazZv8ds5EQufj4aFVXFw4Lpdb86Dh76w6dui53Z6MCMuSihSKUlqM79DtlqNjehGs2ItFwZeQw5WU6jayh41cx0GSK0kfmNqe/21v90n/wgLrK1lZOZlbhoeHF9LmFYJbuHBhec+BwWAURv0GDS7eCv113+7YhPgsSarm4AgAa48fXnfq6F9bt6pUuSp4VapU6crNG0+ion2rmE7Jr5flmTs2JpoLvx07qMnS1iugqm9Z0KZewwHnTw7WF/aceITQVoE7iLGVih7qET3cJ/Xnm3Z30vADhTYHqGQUPbPa0rJm64BODZsVPujDhISH+qwGDcrN/bwUYftrBuMVYML0af3Gj8G+NQ/Fx3T+5rMxG9eJtWoeP3XSytpEDqYePXqcjI389/qls3dv5393x8WzdVs0/3TF8q179iTZWx69G1b203+KrbnFD+9N+tCusOLl9xBqqhDIE5gOCCF0Hz3TqzUqlUOjpsMCOz530KYeNffv3lPySVckEC1auCeDwaggxMXFSZLk6lpY3GNUVNTOf/5JfPjIHYQBDZsbv3XoxtUIC27WR3MNzb6YM29pt/58icqil4x7jx5M/Pnb9ekZalPiE4PQRyphg1Y/0QU0Ckcp2KgpAEVP+PcUpZ5CAGCVlaV1vYZTew8q4ojdVi3btG2ri4tLaS6jPGD2EAbjFcPCwsLa1LbaGFtb22YtWgR2aH85KvL7HVtsBJW7QyXDW8G3blSp71e3bl1DM3Mry+FL5reo6e1oWYx0qS+CnZV1u3oN37l60UqRvfLltrYBOI2xE4V30+lKPU7VoScZ6JsU+h+P35OUuwitd3DwaRP0XqceRR8xOSsjQ+Bq165dqusoB9j+msF4zXny5Mk3y1dYaLKmBXQCgIv37648cWjHvr05DbZv3x51JOS9lgEvc1aU0k82/3r1Tvg0jaaBkiu1ngQwXRQGEMVDoSLQKIx/4PklOv06UYiysflk4IiGprytC+FKdOT+hNhPVywv1RWUA0yvGYw3gn2795zYvZenEJWe8vX3qxwdc1VGHzlk6HC/Rk1rvOz6WJHxT9Yf2HPsTlhrQP6ZmdWAOhBqqJH+kyCc4BBCyIFSDaUKQk3qNfxowPCSDTRm07rft20VhAoRoF9imF4zGG8Kly9f1mq1LVq0yP/W8ePH96379ePOvV/+rAAgNSsz+Oa186HXLz+IStBmiQD2ihKDkDWAJyFaAMnMrGfb9kPbBJV4iEV7twUNG9SpU6dSnPbLh+k1g8GAH3/4AYdFDm3hX94TAQBIy8p8kpZ68V7Ercg7QKmPe/W2fvVd7RxepM+DN66EpMd//d13pTXJcoHlU2UwGJCh0biamZf3LJ5ibWZubWbuVdkFSu/5Eehb95fffiit3soL5n/NYDCgZatWxyJvp2uzcq4kZ2aEPog5Fha69+rF4+Ghtx7GpmRmlOMMXxCB4+q7eZw9+2qnV2X2EAaDAQDw5PHjSaPfW9Zz4J7L54OvXLCRpERtpgOhXpTeRigBI3uVudZMHVC/0YBmrc1F1fN7rGDsu3bxoYPVtJkflPdESg7TawaDAQBw9OjR7z5ZmJmU1Cwjo7Uk++YuX2vgOkanVKr/RLF3s1YTOnR/+ZN8ERLS0yb/88fu/RU05WxRYPYQBuNNR5Kk5Z9//snYcU3uR61LSh6j05sUawCoS+i4LO3fqWn648HjvlkanRD3kqf6IjhaWfMKCQ0NLe+JlBy2v2Yw3mj2bd365eLFkJHxm1ZfrAIweoRGW1l9PmJsXfcaZTW50mbD6WO8n9eYcePKeyIlhO2vGYw3FUrf7959w9y5VdM1vxdTrAFApPSPtLQfNvx8NfJOmUyvDGhV0+fm5avlPYuSw/SawXgTuR0a6uPtXf3ajScKWVpogtPC+Twldd6GdTGJ8aU4t7KjhpNzRnLy48ePy3siJYTpNYPxxnHrxo35w4ZtzdTu5bnfdfoX7G1devqS338ulYm9BDxtHY4cKbBeTwWH6TWD8YZB6YiBAz9MSBqnFrvK8ov3p6bUNynxp0O5ckxfi7m/fO8/I3/+7rPdWy9UJINJcw/PfTt3lfcsSgg7b2Qw3izmjRhRJfjofp5LRmiz9kU31zkMsLHePXeJihfm/LHu0q0bEkK+lDSVyUUO3cIYA9jbO47r3NPfx497ibm2TdJ/7cotu3dZWlqW7zRKAItHZzDeIE6dOHHn3LkqCEmA2iumnfZKRlu9fvXBPQfPhLgoynq9ZJG9EeylQBZCf/Pcf4kJSzb+kgxQ1cz8/U49Oj+vjlfZ4e/le+rUqQ4dOpTXBEoM218zGG8Qw9q3n3orfJxKBKBf62XPAvysS8AVjJeohM6y8p6Uy8ZyG6MZKrGXJNchNBlBLMLBPOcLILtWXTl+Bi5C+d1S52RE2Hk5/ePFi1/+0C8Is18zGG8KJ06coPHxmzjcipDqFAoS60C1aPiX87oonb9FiD0hA3OL9XWMfxD4PVm692SlOSGdFTJGlhfr9OFA29+PHLlikfbl1mg30Mqr1pEjwS9/3BeH6TWD8aZwaPfulskpBwQ+CiO5gB/W413Aw0Z2t5H9HKQJVZDh9aTCSkU+gyL0xGi/TAF+EfgvdBLkfgZ4Ujpekq8hNCYhfvz35VPzxauyy6voJcL0msF4U4gMDbUA9LYsZ1JwNtUgUC3qCD7UI/pwj+h0CYelZL/Wc/4C99z+HQhNxM/0Ogzjywg6qcWcZ4Cvg2SQ/tqEHOb5uoR6JSZsCD5YWgssOm97+508dvzlj/uCML1mMN4UbkZHZ1CajnE8RjXyFbo1kHOVUgBAORdREQzN3oRq4FmzryrR6jayu42MMTrUI7q1S1Z4qhCeJvoLnD0FX0ISMR6v1e04e0IuPTN6EWnjU/teWPhLHvTFYf4hDMYbgU6n4wFlIbCm4EBIJDatvxaYBu10pwA2apopo3Y73CmArZoci3++Y0IEh/wkAgCBatHZUlEDPdQjGgCCdroH7XAz46GahUwBLK1p8kMUipEDIQBAtNqohLiaTiZ3/GWFpUrtZGZx7dq1evXqvcxxXxC2v2Yw3gg4jkvRZgGABEAQSjAl18FaPQGI1kCsBtmpZHOB6gmKTkWrYorkRZYA4Agw3gWsVaBQI0M2hYdZgo6gbOsK7sHjt7O9Cb0l6eaDmFJYYTGpZe949FUzYTO9ZjDeCHietzYzM6OgBUgHZFWAAv/4iDqpwFqA+6mCGU83J8rH9EWNgXSgMEbkdQT3qqkx50ldO13QTvd2O9xVPMXIyNICAAhNyvYk8ZXluNTkF1tcSWjl5btrx86XP+6LwPSawXhTaODpZYXAAqA6JQ8xuluASfqvZCUpk0alop8eFsOsfI3DhmJiFGB+ozh7QbmaqNZIAAglJguelnoLTIN2uLfb6W6jJiOMzNyXRcHj5RpDDFSxtXe0sIyIiHj5Q5cYptcMxptCtTp+SZgL4bAFpe6EhnAFfv2PS0rRt9UGjmDUhtBgrd4Ck6Ad7gk6XiNDQgb6PU5er9M3SuCvJeDIVHQ/BcXHi32M3LRvc4JvlaolX9ULEOjpe/rkyXIZumQwvWYw3hQ6dOt20saqs6y4UDCn9GTBel0CTnHcJQ4BwOpHEJkCUaloW/JT0e+lEjZw+ISkHNfLPQENliT7bO/vTITc7eyr2NqX4kyKTmOPmtcvXCyXoUsG02sG402hadOmFq6ufRVlO8/dx6gqhW38872qi8L/BF4GqKvQL0QesrfnhgCZt63EnKCbNQJvS2lPo7wlC83MhncqtzqQPs5VoiPvJyQklNcEigvTawbjDWL28uXzLC0+1ku2FC5jfIorBb2WAf7jcGtC/uWxK6HDVeJ9hMa7IMwDJ0Ata8lCIIagmz+BvmtkCdkgCq5etVr6+L34HEpMrUrOBw4cKMcJFAum1wzGG4Svn1+7Dh1j/9/e/UdFVeZxHP8+z73zA0EQmWEARUQdIISU1gW1WDWt9RzMtnb3pFGW2Q87uVSrlqaWp+24p9paJcp+7umHYJue4hzTUjRcsTLXRAMFBVEUSWUGEBjm5713/6BFNBQcnBnu8fP6z2HufZ77z1vO5T73YUwgZbIkD1SUx3WaPp5zXujAFx6Yv0UQRnvkHaKQ4/HMC9YQ0bBgz9ABHiKqOS+Y8+MUoq5vd3pDp21LGv3C/Q/3cfQ+mpKQXLJDNU/1odcA15fFa1Z/YzQ85JFqGImkxMnKCq33yX4udODK7HkZ5iSDIExQ5OVO90KNSEQXnrZ2c7vEiFiYXv7KLZVy/m9RuD80ZPikaUvnPHrtLstL4+JHtVgbHQ5HoCfSK+g1wHVn3aZNa6JMz7o9NsZqBd7E+fyr/y1bIZobFvpI9ry0kQlEpAhiOecjFYUTsUuetibyeKixQfMnnSZPI27QiO/kLLn/9hnX7oL6JDVqyK5d6niXCHoNcN0xRUfnFhYuNAy+SZLvdHvOkHKC88f12g29/vNjgV63KCb6H48+2RFrIoofElvGOREVO1yJnU9bF8aF6ZTidk+Jy/ORw7XF4TKRkmpOCtQDId0aEz10t0per4r9CgCuXy8+/PD+3d8ut7V/KgrFnHkYG6wot0pypiR3+3bsSs52ieLOoKDpN6XnZN3d9UftTucdf3t2rdMdqShE9DuN0PGKqK7PcTsYy9ZpP/zrstjBhs4PPbK849DBo/WnNKJmdGxcZkKyr672MmRFyXjxmYrKSj+P6wX0GuC6tn/v3pcWLR7c3JTR3EKclRBVc+5kFKMoLmIGRR6l0DFRaBQ1RkPEeb1eFxySPTbj1qSUX5/qzW1fbv7P9oLLb7j+RJAuOS192d2zOz/ZW31k1YZPRrjdY+z2ZsaqdLpqUXxs+szfxpuHDo7wyQV3Z/Hn+bMWPD5p0iS/jegd9BoAaOvWrUWFhedqan6oqTHq9bH6oENtrVpRjDQak9PS0jMyzGZzTEyMyWQioruyZrx+52zjwNBfnyfv0w+3lh3IdbnDLw6Li+hpvTYp3rxi3hOdHx6oqcpb9/7LLa0CUcdWBtscrm9EIV8jypyPihux+qEnLh3AN7aWlR4fqF20dIl/hvMaeg0AF0iSdPbsWbvdHhUVFRwc3O13Vr/2Wkhdw6z0m7v9ad62TZ/tLk72SKNlOVmWKzk/zFmFIEwdO27ZH7M7v9bcbvvDqysLW21END+anDJXiEJEudWiaWBMRxRE5OQ8f+HzUWGDfHGlXbU5Hcu3Fb5fkO/rgfoIvQaAqyNJ0oP3zH5+2ozosPBuv9Bib399yxfVx6tdTqeo1Y6MGzH/thlDwi/6G+PrW74wlhTf4fZM0WuHh3k63pQ9fmO8xc4YUZHDVcFZmcALBGH9gmdio2J8fVErvtwwZ9HTaWlpvh6oL9BrAPDG3Nn3vnTbnWFBA7w8PO+VuSdrb5SVyXrt8DDP9pknc3aZKpp1CpHI6USbuL3VRUR7Bb5Kq/n4qeeGRRiv6fQvVbCnxGIIfW7Fcp+O0kd4ng8AvPHiKy+vKtpUcvTwP4s2l9bWXO3hgqyEKyQTpcpKMJfHb4yvaNZ1LLFxSyxaJy0YwogoXZKz3Z6n313jgyu4yJSklKJt/X1hOnoNAN6IiYlpcNgKa49mzpn19v7v7v0g91TjVbw4KSbSdIizcs4YY8kW0WJnXZfY2GV2qIl3bPI7TZLr220nrQ0+uIgLogeFJw2J7eevw8b+jQDgDUEQPl6/Xq/XE9HkyZNvTEkN0QX1/vDbb0r/6nh16/mWRFk6wniu25NL1LF15LhIx75zeuv/9/gNVxS9onxXfcTXt0R+Ez3su5LdZrPZp6P0BX6/BgAvdcRaUZQJ6ek7Fq8MDw7u+Gdvjr0lIdk0eswugYvEOCOmKMfOi5JE7R6276w+TKekRMida20EItn3e6hnxI/6YXeJr0fpC/QaAPokc8LEjfMXBmm1RFRUWT7zrVdzv/mKiM6cb77ygTkz/9wUFHSQM7MsV3Kh2OEK00pWh3LKxsqt/I1TvwS6mTEbsYnmJF9fSLzRVFVVffr0aV8P5DVh5cqVgZ4DAKiYra1t9RcbzjQ37ags/9FS/9H6ApvIXvusYEfV4WGh4Vd+etopST+dODbLI20X+FRJzmqjfxEnhe10XFjFXiSKp4NDHps+0/eXQj83N1k8zrH99ak+PM8HANdA/rp1giDMmv3LWnOLxWK1Wv/+7NK8e+Ze+cDfr1o2yNY2UZLPMbbYfemmkQc5e16n/WDBM6NM0T6Z98XK606uP1a+5u21fhjLC7gfAgDXQPZ993XGmogMBkNCQkJdo7XHAz99cqk2KLhYIxoVZZFOs4/zFsaI6AhnG0VhmU773iM5/ok1EaUMHWZvPt/U1OSf4a4W7ocAgE8wxk7X1Vnr6s1XrG2QVjt13PjNhw6edjmrGDvI2ceisFEjbheE2pCQj3KWDPf94sauqs/83K4TExMT/TloL+F+CAD40GNzHhwdMiguwjg1+cYrf3NrWem+wz8dazhLjMXHxN53y5R4o8k/k+zqh2NHN56oXPv+e/4fukfoNQD4kCzLb+W9uef775MGhD41LSvQ0+mVCS8t2X/ggEbT150trzncvwYAH+KcL8j5yycF+Sfd9qb29kBPp1fuSr95586dgZ5FN9BrAPA5xljuu+8s37wh0BPplfFxI37csyfQs+gGeg0A/qDX601Dh1TUnwr0RHo2cVRS6X/3BXoW3UCvAcBPJkyZ/O3x6kDPomeiIEQOCOmHm6aj1wDgJ5mZmYfO1Qd6Fr0yYdjIr7/cHOhZXAq9BgA/MRgMETHRZXW1gZ5Iz6Ympx4uKwv0LC6FXgOA/2TeNm338aOBnkXPgnX6xMjo0tLSQE/kInj/NQD4T1ZW1tefF560WkxhYbJ82cUfnPOreoGqwLlCStcTdpyBsV4tMbG0tVhaWxptbda21kZbm9XebrG11jacSy0v71c7OmK9DAD4Ve2JEw898IBGEM9aL7sfzdjEGw4cqej9Occk3nDG0tD1hKnmxLKqIzqN1ul29XhsvaXBaIiIiDAYTZGGyEiD0WgwGCIiIlJSUjjvRzch0GsAAHXoR/91AADAFaDXAADqgF4DAKgDeg0AoA7oNQCAOqDXAADqgF4DAKgDeg0AoA7oNQCAOqDXAADqgF4DAKgDeg0AoA7oNQCAOqDXAADqgF4DAKgDeg0AoA7oNQCAOqDXAADqgF4DAKgDeg0AoA7oNQCAOqDXAADqgF4DAKgDeg0AoA7oNQCAOqDXAADqgF4DAKgDeg0AoA7oNQCAOqDXAADqgF4DAKgDeg0AoA7oNQCAOqDXAADqgF4DAKgDeg0AoA7oNQCAOqDXAADqgF4DAKgDeg0AoA7oNQCAOqDXAADqgF4DAKgDeg0AoA7oNQCAOqDXAADqgF4DAKgDeg0AoA7/A94Zfp0NZlK8AAAAAElFTkSuQmCC)"
   ]
  },
  {
   "cell_type": "markdown",
   "metadata": {
    "id": "6HWWAg4t7F5n"
   },
   "source": []
  }
 ],
 "metadata": {
  "colab": {
   "authorship_tag": "ABX9TyNRkZSZ7ffMbQRlGg2UxKOR",
   "collapsed_sections": [],
   "name": "USECASE_01_RLS.ipynb",
   "provenance": []
  },
  "kernelspec": {
   "display_name": "Python 3 (ipykernel)",
   "language": "python",
   "name": "python3"
  },
  "language_info": {
   "codemirror_mode": {
    "name": "ipython",
    "version": 3
   },
   "file_extension": ".py",
   "mimetype": "text/x-python",
   "name": "python",
   "nbconvert_exporter": "python",
   "pygments_lexer": "ipython3",
   "version": "3.9.7"
  }
 },
 "nbformat": 4,
 "nbformat_minor": 1
}

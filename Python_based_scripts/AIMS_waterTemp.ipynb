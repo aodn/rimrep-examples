{
 "cells": [
  {
   "attachments": {},
   "cell_type": "markdown",
   "metadata": {},
   "source": [
    "# AIMS ocean temperature dataset\n",
    "Authors: Leo Ghignone, Denisse Fierro Arcos  \n",
    "  \n",
    "This notebook demonstrates direct access to the [AIMS Temperature Logger Monitoring Program](https://apps.aims.gov.au/metadata/view/4a12a8c0-c573-11dc-b99b-00008a07204e) dataset in the RIMReP `geoparquet` collection. This dataset includes sea temperature data from 1980 for tropical and subtropical coral reefs around Australia, and it includes sites within the Great Barrier Reef.   \n",
    "  \n",
    "The `geoparquet` collection is a compilation of datasets that have been converted to the Apache `parquet` format. This format is designed for efficient storage and retrieval of tabular data. The `geoparquet` collection is stored on the RIMReP S3 bucket and is accessible to all users.  \n",
    "  \n",
    "The workflow in this notebook is as follows:\n",
    "- Inspect dataset metadata\n",
    "- Subset the dataset to include sites within the Great Barrier Reef (GBR)\n",
    "- Aggregate temperature data per site\n",
    "- Create a map with the location of all sites where GBR temperature loggers were deployed"
   ]
  },
  {
   "attachments": {},
   "cell_type": "markdown",
   "metadata": {},
   "source": [
    "## Loading libraries"
   ]
  },
  {
   "cell_type": "code",
   "execution_count": 1,
   "metadata": {},
   "outputs": [],
   "source": [
    "# Accessing S3 bucket\n",
    "from pyarrow import parquet as pq\n",
    "# Manipulating dataframes\n",
    "import pandas as pd\n",
    "# Load and manipulate geospatial data\n",
    "import dask_geopandas\n",
    "# Plotting\n",
    "import matplotlib.pyplot as plt\n",
    "# Mapping\n",
    "import cartopy.crs as ccrs\n",
    "import cartopy.feature as cf"
   ]
  },
  {
   "attachments": {},
   "cell_type": "markdown",
   "metadata": {},
   "source": [
    "## Inspecting metadata\n",
    "The AIMS Temperature dataset contains over 150 million records. We will use its metadata to check the structure of the dataset and to determine the best way to access the data."
   ]
  },
  {
   "cell_type": "code",
   "execution_count": 2,
   "metadata": {},
   "outputs": [
    {
     "data": {
      "text/plain": [
       "<pyarrow._parquet.FileMetaData object at 0x000002B230BE0BD0>\n",
       "  created_by: parquet-cpp-arrow version 10.0.1\n",
       "  num_columns: 23\n",
       "  num_rows: 150663521\n",
       "  num_row_groups: 50\n",
       "  format_version: 2.6\n",
       "  serialized_size: 155051"
      ]
     },
     "execution_count": 2,
     "metadata": {},
     "output_type": "execute_result"
    }
   ],
   "source": [
    "#Connecting to metadata file\n",
    "md = pq.read_metadata(f\"s3://rimrep-data-public/091-aims-sst/test-50-64-spatialpart/_metadata\")\n",
    "#Checking contents\n",
    "md"
   ]
  },
  {
   "attachments": {},
   "cell_type": "markdown",
   "metadata": {},
   "source": [
    "The metadata is telling us that the AIMS temperature dataset contains 23 columns and over 150 million rows, and it is made up of 50 different files.  \n",
    "  \n",
    "We can check the structure of the data by calling its `schema` attribute. This will return a list containing the name of the column and its data type."
   ]
  },
  {
   "cell_type": "code",
   "execution_count": 3,
   "metadata": {},
   "outputs": [
    {
     "data": {
      "text/plain": [
       "<pyarrow._parquet.ParquetSchema object at 0x000002B230BE5C40>\n",
       "required group field_id=-1 schema {\n",
       "  optional int64 field_id=-1 fid;\n",
       "  optional int64 field_id=-1 deployment_id;\n",
       "  optional binary field_id=-1 site (String);\n",
       "  optional int64 field_id=-1 site_id;\n",
       "  optional binary field_id=-1 subsite (String);\n",
       "  optional int64 field_id=-1 subsite_id;\n",
       "  optional int64 field_id=-1 from_date (Timestamp(isAdjustedToUTC=false, timeUnit=microseconds, is_from_converted_type=false, force_set_converted_type=false));\n",
       "  optional int64 field_id=-1 thru_date (Timestamp(isAdjustedToUTC=false, timeUnit=microseconds, is_from_converted_type=false, force_set_converted_type=false));\n",
       "  optional double field_id=-1 depth;\n",
       "  optional binary field_id=-1 parameter (String);\n",
       "  optional binary field_id=-1 instrument_type (String);\n",
       "  optional binary field_id=-1 serial_num (String);\n",
       "  optional double field_id=-1 lat;\n",
       "  optional double field_id=-1 lon;\n",
       "  optional binary field_id=-1 gbrmpa_reef_id (String);\n",
       "  optional binary field_id=-1 metadata_uuid (String);\n",
       "  optional double field_id=-1 sites_with_climatology_available;\n",
       "  optional int64 field_id=-1 time (Timestamp(isAdjustedToUTC=true, timeUnit=microseconds, is_from_converted_type=false, force_set_converted_type=false));\n",
       "  optional double field_id=-1 cal_val;\n",
       "  optional double field_id=-1 qc_val;\n",
       "  optional double field_id=-1 qc_flag;\n",
       "  optional binary field_id=-1 geometry;\n",
       "  optional int64 field_id=-1 hilbert_distance (Int(bitWidth=64, isSigned=false));\n",
       "}"
      ]
     },
     "execution_count": 3,
     "metadata": {},
     "output_type": "execute_result"
    }
   ],
   "source": [
    "md.schema"
   ]
  },
  {
   "attachments": {},
   "cell_type": "markdown",
   "metadata": {},
   "source": [
    "The `schema` tells us that the dataset contains 23 columns, which matches the information we got from the metadata. It also tells us that the data types are either `string` or `double`.  \n",
    "  \n",
    "We can also obtain more details about a specific column, by calling the `column` method and passing the name of the column as an argument as shown below."
   ]
  },
  {
   "cell_type": "code",
   "execution_count": 4,
   "metadata": {},
   "outputs": [
    {
     "data": {
      "text/plain": [
       "<ParquetColumnSchema>\n",
       "  name: qc_val\n",
       "  path: qc_val\n",
       "  max_definition_level: 1\n",
       "  max_repetition_level: 0\n",
       "  physical_type: DOUBLE\n",
       "  logical_type: None\n",
       "  converted_type (legacy): NONE"
      ]
     },
     "execution_count": 4,
     "metadata": {},
     "output_type": "execute_result"
    }
   ],
   "source": [
    "md.schema.column(19)"
   ]
  },
  {
   "attachments": {},
   "cell_type": "markdown",
   "metadata": {},
   "source": [
    "If we refer to the original site for the [AIMS Temperature Logger Monitoring Program](https://apps.aims.gov.au/metadata/view/4a12a8c0-c573-11dc-b99b-00008a07204e), we can see that the `qc_val` column refers to the quality controlled temperature obtained from the loggers deployed as part of this program."
   ]
  },
  {
   "attachments": {},
   "cell_type": "markdown",
   "metadata": {},
   "source": [
    "## Connecting to S3 parquet directory\n",
    "We will connect to the S3 bucket containing the AIMS Temperature dataset using the `pyarrow` library. We will only keep sites that have been deployed in the Great Barrier Reef Marine Protected Area (GBRMPA), so we will provide a `filter` that contains the minimum and maximum coordinates (i.e., `lat` and `lon`) of a bounding box around the Great Barrier Reef Marine Protected Area.\n",
    "\n",
    "As we saw above, this dataset includes 23 columns, but we will only select a few that contain information that is interesting to us:\n",
    "- `site`: name of site where temperature logger was deployed,\n",
    "- `lat`: latitude of the logger deployment site,\n",
    "- `lon`: longitude of the logger deployment site,\n",
    "- `time`: date and time when loggers recorded temperature data,\n",
    "- `qc_val`: quality controlled temperature data\n",
    "  \n",
    "The following code chunk may take a few minutes to run, as it is loading over 150 million records."
   ]
  },
  {
   "cell_type": "code",
   "execution_count": 13,
   "metadata": {},
   "outputs": [
    {
     "data": {
      "text/html": [
       "<div>\n",
       "<style scoped>\n",
       "    .dataframe tbody tr th:only-of-type {\n",
       "        vertical-align: middle;\n",
       "    }\n",
       "\n",
       "    .dataframe tbody tr th {\n",
       "        vertical-align: top;\n",
       "    }\n",
       "\n",
       "    .dataframe thead th {\n",
       "        text-align: right;\n",
       "    }\n",
       "</style>\n",
       "<table border=\"1\" class=\"dataframe\">\n",
       "  <thead>\n",
       "    <tr style=\"text-align: right;\">\n",
       "      <th></th>\n",
       "      <th>site</th>\n",
       "      <th>time</th>\n",
       "      <th>qc_val</th>\n",
       "      <th>lat</th>\n",
       "      <th>lon</th>\n",
       "    </tr>\n",
       "    <tr>\n",
       "      <th>fid</th>\n",
       "      <th></th>\n",
       "      <th></th>\n",
       "      <th></th>\n",
       "      <th></th>\n",
       "      <th></th>\n",
       "    </tr>\n",
       "  </thead>\n",
       "  <tbody>\n",
       "    <tr>\n",
       "      <th>149842221</th>\n",
       "      <td>Karumba</td>\n",
       "      <td>2002-12-10 02:00:00+00:00</td>\n",
       "      <td>31.043</td>\n",
       "      <td>-17.4935</td>\n",
       "      <td>140.8302</td>\n",
       "    </tr>\n",
       "    <tr>\n",
       "      <th>149696096</th>\n",
       "      <td>Karumba</td>\n",
       "      <td>2003-07-17 18:30:00+00:00</td>\n",
       "      <td>20.547</td>\n",
       "      <td>-17.4935</td>\n",
       "      <td>140.8302</td>\n",
       "    </tr>\n",
       "    <tr>\n",
       "      <th>149696097</th>\n",
       "      <td>Karumba</td>\n",
       "      <td>2003-07-17 19:00:00+00:00</td>\n",
       "      <td>20.567</td>\n",
       "      <td>-17.4935</td>\n",
       "      <td>140.8302</td>\n",
       "    </tr>\n",
       "    <tr>\n",
       "      <th>149696098</th>\n",
       "      <td>Karumba</td>\n",
       "      <td>2003-07-17 19:30:00+00:00</td>\n",
       "      <td>20.629</td>\n",
       "      <td>-17.4935</td>\n",
       "      <td>140.8302</td>\n",
       "    </tr>\n",
       "    <tr>\n",
       "      <th>149696099</th>\n",
       "      <td>Karumba</td>\n",
       "      <td>2003-07-17 20:00:00+00:00</td>\n",
       "      <td>20.649</td>\n",
       "      <td>-17.4935</td>\n",
       "      <td>140.8302</td>\n",
       "    </tr>\n",
       "  </tbody>\n",
       "</table>\n",
       "</div>"
      ],
      "text/plain": [
       "              site                      time  qc_val      lat       lon\n",
       "fid                                                                    \n",
       "149842221  Karumba 2002-12-10 02:00:00+00:00  31.043 -17.4935  140.8302\n",
       "149696096  Karumba 2003-07-17 18:30:00+00:00  20.547 -17.4935  140.8302\n",
       "149696097  Karumba 2003-07-17 19:00:00+00:00  20.567 -17.4935  140.8302\n",
       "149696098  Karumba 2003-07-17 19:30:00+00:00  20.629 -17.4935  140.8302\n",
       "149696099  Karumba 2003-07-17 20:00:00+00:00  20.649 -17.4935  140.8302"
      ]
     },
     "execution_count": 13,
     "metadata": {},
     "output_type": "execute_result"
    }
   ],
   "source": [
    "# Creating maximum and minimum coordinates for bounding box around the GBRMPA\n",
    "filter = [('lon', '>=', 140.5),\n",
    "          ('lat', '>=', -28.5),\n",
    "          ('lon', '<=', 156.0),\n",
    "          ('lat', '<=', -6.5)]\n",
    "\n",
    "# Connecting to the S3 bucket where the AIMS temperature data is stored\n",
    "dask_geo_df = dask_geopandas.read_parquet(\"s3://rimrep-data-public/091-aims-sst/test-50-64-spatialpart/\", \n",
    "                                          #Applying initial bounding box filter\n",
    "                                          filters = [filter], \n",
    "                                          #Specifying which columns to read\n",
    "                                          columns = ['site', 'time', 'qc_val', 'lat', 'lon'],\n",
    "                                          #Specifying the column to be used as index\n",
    "                                          index = 'fid',\n",
    "                                          #Connecting anonimously as no authentication is needed for this s3 bucket (it is public)\n",
    "                                          storage_options = {\"anon\": True}) \n",
    "\n",
    "# Transforming to pandas dataframe\n",
    "df = dask_geo_df.compute()\n",
    "\n",
    "#Checking the contents of the dataframe - First five rows\n",
    "df.head()"
   ]
  },
  {
   "attachments": {},
   "cell_type": "markdown",
   "metadata": {},
   "source": [
    "You can see above that the `site` is repeated multiple times. This is because the temperature loggers were deployed on multiple occassions at the same site. If we print more rows, you will also see that the coordinates for a particular site vary slightly. This is because the temperature loggers were not deployed at the exact same location each time, but they were all deployed near each other.  \n",
    "    \n",
    "Next, we will calculate the mean deployment coordinate, mean temperature, and total number of temperature records for each site. We will use the `groupby` method to group the data by `site_id` and then we will use the `agg` method to perform our calculations.  \n",
    "  \n",
    "Note the use of `compute()` at the end of our code. This will trigger our calculations and load the results as a data frame into memory."
   ]
  },
  {
   "cell_type": "code",
   "execution_count": 12,
   "metadata": {},
   "outputs": [
    {
     "data": {
      "text/html": [
       "<div>\n",
       "<style scoped>\n",
       "    .dataframe tbody tr th:only-of-type {\n",
       "        vertical-align: middle;\n",
       "    }\n",
       "\n",
       "    .dataframe tbody tr th {\n",
       "        vertical-align: top;\n",
       "    }\n",
       "\n",
       "    .dataframe thead th {\n",
       "        text-align: right;\n",
       "    }\n",
       "</style>\n",
       "<table border=\"1\" class=\"dataframe\">\n",
       "  <thead>\n",
       "    <tr style=\"text-align: right;\">\n",
       "      <th></th>\n",
       "      <th>tempMean</th>\n",
       "      <th>latMean</th>\n",
       "      <th>lonMean</th>\n",
       "      <th>dateMin</th>\n",
       "      <th>dateMax</th>\n",
       "      <th>number</th>\n",
       "    </tr>\n",
       "    <tr>\n",
       "      <th>site</th>\n",
       "      <th></th>\n",
       "      <th></th>\n",
       "      <th></th>\n",
       "      <th></th>\n",
       "      <th></th>\n",
       "      <th></th>\n",
       "    </tr>\n",
       "  </thead>\n",
       "  <tbody>\n",
       "    <tr>\n",
       "      <th>19-131 Reef</th>\n",
       "      <td>25.747975</td>\n",
       "      <td>-19.766148</td>\n",
       "      <td>149.378946</td>\n",
       "      <td>2011-03-12 14:06:51+00:00</td>\n",
       "      <td>2021-02-09 13:50:00+00:00</td>\n",
       "      <td>721871</td>\n",
       "    </tr>\n",
       "    <tr>\n",
       "      <th>19-138 Reef</th>\n",
       "      <td>25.757545</td>\n",
       "      <td>-19.805137</td>\n",
       "      <td>149.426347</td>\n",
       "      <td>2011-03-14 14:03:50+00:00</td>\n",
       "      <td>2022-01-05 13:50:00+00:00</td>\n",
       "      <td>929087</td>\n",
       "    </tr>\n",
       "    <tr>\n",
       "      <th>19-159 Reef</th>\n",
       "      <td>25.929941</td>\n",
       "      <td>-19.663895</td>\n",
       "      <td>149.915001</td>\n",
       "      <td>2011-03-20 14:08:10+00:00</td>\n",
       "      <td>2017-02-17 13:50:00+00:00</td>\n",
       "      <td>324720</td>\n",
       "    </tr>\n",
       "    <tr>\n",
       "      <th>20-104 Reef</th>\n",
       "      <td>25.845430</td>\n",
       "      <td>-20.028918</td>\n",
       "      <td>149.694016</td>\n",
       "      <td>2015-01-31 14:00:00+00:00</td>\n",
       "      <td>2021-02-13 13:50:00+00:00</td>\n",
       "      <td>526896</td>\n",
       "    </tr>\n",
       "    <tr>\n",
       "      <th>20-344 Reef</th>\n",
       "      <td>25.206312</td>\n",
       "      <td>-20.771892</td>\n",
       "      <td>150.891808</td>\n",
       "      <td>2006-09-05 14:00:00+00:00</td>\n",
       "      <td>2011-10-05 13:51:48+00:00</td>\n",
       "      <td>141552</td>\n",
       "    </tr>\n",
       "  </tbody>\n",
       "</table>\n",
       "</div>"
      ],
      "text/plain": [
       "              tempMean    latMean     lonMean                   dateMin  \\\n",
       "site                                                                      \n",
       "19-131 Reef  25.747975 -19.766148  149.378946 2011-03-12 14:06:51+00:00   \n",
       "19-138 Reef  25.757545 -19.805137  149.426347 2011-03-14 14:03:50+00:00   \n",
       "19-159 Reef  25.929941 -19.663895  149.915001 2011-03-20 14:08:10+00:00   \n",
       "20-104 Reef  25.845430 -20.028918  149.694016 2015-01-31 14:00:00+00:00   \n",
       "20-344 Reef  25.206312 -20.771892  150.891808 2006-09-05 14:00:00+00:00   \n",
       "\n",
       "                              dateMax  number  \n",
       "site                                           \n",
       "19-131 Reef 2021-02-09 13:50:00+00:00  721871  \n",
       "19-138 Reef 2022-01-05 13:50:00+00:00  929087  \n",
       "19-159 Reef 2017-02-17 13:50:00+00:00  324720  \n",
       "20-104 Reef 2021-02-13 13:50:00+00:00  526896  \n",
       "20-344 Reef 2011-10-05 13:51:48+00:00  141552  "
      ]
     },
     "execution_count": 12,
     "metadata": {},
     "output_type": "execute_result"
    }
   ],
   "source": [
    "#Grouping our dataframe by site_id and aggregating the lat and lon columns by mean and the site_id column by count\n",
    "counts = df.groupby('site').agg(\n",
    "    #Calculating mean temperature\n",
    "    tempMean = pd.NamedAgg(column = 'qc_val', aggfunc = 'mean'),\n",
    "    #Calculating mean lat and lon\n",
    "    latMean = pd.NamedAgg(column = 'lat', aggfunc = 'mean'),\n",
    "    lonMean = pd.NamedAgg(column = 'lon', aggfunc = 'mean'),\n",
    "    # #Calculating range of time when data was collected\n",
    "    dateMin = pd.NamedAgg(column = 'time', aggfunc = 'min'),\n",
    "    dateMax = pd.NamedAgg(column = 'time', aggfunc = 'max'), \n",
    "    #Calculating the number of rows (i.e., deployments) per site_id\n",
    "    number = pd.NamedAgg(column = 'site', aggfunc = 'count'))\n",
    "\n",
    "#Checking the contents of the dataframe - First five rows\n",
    "counts.head()"
   ]
  },
  {
   "attachments": {},
   "cell_type": "markdown",
   "metadata": {},
   "source": [
    "## Mapping sites\n",
    "From the summary table we created in the previous step, we will make a map with the location of all deployment sites within the GBRMPA bounding box. We will change the size of the markers based on the number of temperature records collected at each site (`number` column)."
   ]
  },
  {
   "cell_type": "code",
   "execution_count": 15,
   "metadata": {},
   "outputs": [
    {
     "data": {
      "text/plain": [
       "<cartopy.mpl.feature_artist.FeatureArtist at 0x19a0c2fb1d0>"
      ]
     },
     "execution_count": 15,
     "metadata": {},
     "output_type": "execute_result"
    },
    {
     "data": {
      "image/png": "[encoded data removed]",
      "text/plain": [
       "<Figure size 640x480 with 1 Axes>"
      ]
     },
     "metadata": {},
     "output_type": "display_data"
    }
   ],
   "source": [
    "#Initiliasing the figure\n",
    "fig = plt.figure()\n",
    "\n",
    "#Adding a plot to the figure and assigning projection\n",
    "ax = plt.axes(projection = ccrs.PlateCarree())\n",
    "\n",
    "#Plotting the data using a scatter plot\n",
    "ax.scatter(x = counts.lonMean, y = counts.latMean, s = counts.number/50000, alpha = 0.5)\n",
    "\n",
    "#Adding a basemap of land areas\n",
    "ax.add_feature(cf.LAND)"
   ]
  },
  {
   "attachments": {},
   "cell_type": "markdown",
   "metadata": {},
   "source": [
    "We have successfully plotted the location of the AIMS temperature loggers within the GBRMPA bounding box. We can see that the number of temperature records per logger is not the same throughout the GBRMPA. The largest number of records are for loggers located near the coast."
   ]
  }
 ],
 "metadata": {
  "kernelspec": {
   "display_name": "rimrep",
   "language": "python",
   "name": "python3"
  },
  "language_info": {
   "codemirror_mode": {
    "name": "ipython",
    "version": 3
   },
   "file_extension": ".py",
   "mimetype": "text/x-python",
   "name": "python",
   "nbconvert_exporter": "python",
   "pygments_lexer": "ipython3",
   "version": "3.11.4"
  },
  "orig_nbformat": 4
 },
 "nbformat": 4,
 "nbformat_minor": 2
}

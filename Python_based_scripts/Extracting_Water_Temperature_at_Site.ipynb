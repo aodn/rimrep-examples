{
 "cells": [
  {
   "attachments": {},
   "cell_type": "markdown",
   "metadata": {},
   "source": [
    "# Extracting temperature at specific reefs\n",
    "Authors: Leo Ghignone, Denisse Fierro Arcos  \n",
    "  \n",
    "This notebook demonstrates direct access to the [AIMS Temperature Logger Monitoring Program](https://apps.aims.gov.au/metadata/view/4a12a8c0-c573-11dc-b99b-00008a07204e) dataset in the RIMReP `geoparquet` collection. This dataset includes sea temperature data from 1980 for tropical and subtropical coral reefs around Australia, and it includes sites within the Great Barrier Reef.   \n",
    "  \n",
    "In this example, we will extract the coordinates for all sites sampled in this monitoring program and then extract the temperature data for a specific site of interest. This means that we will not need to know the exact location of the site, but we will need to know the name of the site of our interest. \n",
    "  \n",
    "**Note:** The `geoparquet` collection is a compilation of datasets that have been converted to the Apache `parquet` format. This format is designed for efficient storage and retrieval of tabular data. The `geoparquet` collection is stored on the RIMReP S3 bucket and is accessible to all users."
   ]
  },
  {
   "attachments": {},
   "cell_type": "markdown",
   "metadata": {},
   "source": [
    "## Loading libraries"
   ]
  },
  {
   "cell_type": "code",
   "execution_count": 3,
   "metadata": {},
   "outputs": [],
   "source": [
    "# Accessing S3 bucket\n",
    "from pyarrow import parquet as pq\n",
    "# Manipulating dataframes\n",
    "import pandas as pd\n",
    "# Load and manipulate geospatial data\n",
    "import dask_geopandas\n",
    "import geopandas as gpd\n",
    "# Spatial data\n",
    "from shapely.geometry import Polygon\n",
    "# Plotting\n",
    "import matplotlib.pyplot as plt\n",
    "# Mapping\n",
    "import cartopy.crs as ccrs\n",
    "import cartopy.feature as cf"
   ]
  },
  {
   "attachments": {},
   "cell_type": "markdown",
   "metadata": {},
   "source": [
    "## Inspecting metadata\n",
    "The AIMS Temperature dataset contains over 150 million records. We will use its metadata to check the structure of the dataset and to determine the best way to access the data."
   ]
  },
  {
   "cell_type": "code",
   "execution_count": 2,
   "metadata": {},
   "outputs": [
    {
     "data": {
      "text/plain": [
       "<pyarrow._parquet.FileMetaData object at 0x000002B230BE0BD0>\n",
       "  created_by: parquet-cpp-arrow version 10.0.1\n",
       "  num_columns: 23\n",
       "  num_rows: 150663521\n",
       "  num_row_groups: 50\n",
       "  format_version: 2.6\n",
       "  serialized_size: 155051"
      ]
     },
     "execution_count": 2,
     "metadata": {},
     "output_type": "execute_result"
    }
   ],
   "source": [
    "#Connecting to metadata file\n",
    "md = pq.read_metadata(f\"s3://rimrep-data-public/091-aims-sst/test-50-64-spatialpart/_metadata\")\n",
    "#Checking contents\n",
    "md"
   ]
  },
  {
   "attachments": {},
   "cell_type": "markdown",
   "metadata": {},
   "source": [
    "The metadata is telling us that the AIMS temperature dataset contains 23 columns and over 150 million rows, and it is made up of 50 different files.  \n",
    "  \n",
    "We can check the structure of the data by calling its `schema` attribute. This will return a list containing the name of the column and its data type."
   ]
  },
  {
   "cell_type": "code",
   "execution_count": 3,
   "metadata": {},
   "outputs": [
    {
     "data": {
      "text/plain": [
       "<pyarrow._parquet.ParquetSchema object at 0x000002B230BE5C40>\n",
       "required group field_id=-1 schema {\n",
       "  optional int64 field_id=-1 fid;\n",
       "  optional int64 field_id=-1 deployment_id;\n",
       "  optional binary field_id=-1 site (String);\n",
       "  optional int64 field_id=-1 site_id;\n",
       "  optional binary field_id=-1 subsite (String);\n",
       "  optional int64 field_id=-1 subsite_id;\n",
       "  optional int64 field_id=-1 from_date (Timestamp(isAdjustedToUTC=false, timeUnit=microseconds, is_from_converted_type=false, force_set_converted_type=false));\n",
       "  optional int64 field_id=-1 thru_date (Timestamp(isAdjustedToUTC=false, timeUnit=microseconds, is_from_converted_type=false, force_set_converted_type=false));\n",
       "  optional double field_id=-1 depth;\n",
       "  optional binary field_id=-1 parameter (String);\n",
       "  optional binary field_id=-1 instrument_type (String);\n",
       "  optional binary field_id=-1 serial_num (String);\n",
       "  optional double field_id=-1 lat;\n",
       "  optional double field_id=-1 lon;\n",
       "  optional binary field_id=-1 gbrmpa_reef_id (String);\n",
       "  optional binary field_id=-1 metadata_uuid (String);\n",
       "  optional double field_id=-1 sites_with_climatology_available;\n",
       "  optional int64 field_id=-1 time (Timestamp(isAdjustedToUTC=true, timeUnit=microseconds, is_from_converted_type=false, force_set_converted_type=false));\n",
       "  optional double field_id=-1 cal_val;\n",
       "  optional double field_id=-1 qc_val;\n",
       "  optional double field_id=-1 qc_flag;\n",
       "  optional binary field_id=-1 geometry;\n",
       "  optional int64 field_id=-1 hilbert_distance (Int(bitWidth=64, isSigned=false));\n",
       "}"
      ]
     },
     "execution_count": 3,
     "metadata": {},
     "output_type": "execute_result"
    }
   ],
   "source": [
    "md.schema"
   ]
  },
  {
   "attachments": {},
   "cell_type": "markdown",
   "metadata": {},
   "source": [
    "The `schema` tells us that the dataset contains 23 columns, which matches the information we got from the metadata. It also tells us that the data types are either `string` or `double`.  \n",
    "  \n",
    "We can also obtain more details about a specific column, by calling the `column` method and passing the name of the column as an argument as shown below."
   ]
  },
  {
   "cell_type": "code",
   "execution_count": 4,
   "metadata": {},
   "outputs": [
    {
     "data": {
      "text/plain": [
       "<ParquetColumnSchema>\n",
       "  name: qc_val\n",
       "  path: qc_val\n",
       "  max_definition_level: 1\n",
       "  max_repetition_level: 0\n",
       "  physical_type: DOUBLE\n",
       "  logical_type: None\n",
       "  converted_type (legacy): NONE"
      ]
     },
     "execution_count": 4,
     "metadata": {},
     "output_type": "execute_result"
    }
   ],
   "source": [
    "md.schema.column(19)"
   ]
  },
  {
   "attachments": {},
   "cell_type": "markdown",
   "metadata": {},
   "source": [
    "If we refer to the original site for the [AIMS Temperature Logger Monitoring Program](https://apps.aims.gov.au/metadata/view/4a12a8c0-c573-11dc-b99b-00008a07204e), we can see that the `qc_val` column refers to the quality controlled temperature obtained from the loggers deployed as part of this program."
   ]
  },
  {
   "attachments": {},
   "cell_type": "markdown",
   "metadata": {},
   "source": [
    "## Connecting to S3 parquet directory\n",
    "We will connect to the S3 bucket containing the AIMS Temperature dataset using the `pyarrow` library. We will only keep sites that have been deployed in the Great Barrier Reef Marine Protected Area (GBRMPA), so we will provide a `filter` that contains the minimum and maximum coordinates (i.e., `lat` and `lon`) of a bounding box around the Great Barrier Reef Marine Protected Area.\n",
    "\n",
    "As we saw above, this dataset includes 23 columns, but we will only select a few that contain information that is interesting to us:\n",
    "- `site`: name of site where temperature logger was deployed,\n",
    "- `subsite`: contains a shorten version of the site name and an indication of where loggers where deployed (see below for more details),\n",
    "- `geometry`: includes latitude and longitude coordinates in [well-known binary (WKB)](https://loc.gov/preservation/digital/formats/fdd/fdd000549.shtml) format  \n",
    "  \n",
    "Based on the `subsite` information, we will create a new column that we will call `deployment_location`. If the `subsite` string in a row includes `SL` it indicates that the temperature logger was deployed on a reef slope (depths of 3 m or more). Thus, our new column will be labelled reef slope. If a row contains `FL` in the `subsite` column, this means the temperature logger was deployed on a reef flat (areas less than 3 m deep). Therefore, we will classify this observation as reef flat in our new column.\n",
    "\n",
    "Note that when we use the `dask_geopandas` library, the `geometry` field is automatically recognised as coordinates in decimal degrees and used as the `geometry` column in a `geopandas` `GeoDataFrame` object. This means we can use it to plot the data in a map easily.\n",
    "\n",
    "The following code chunk may take a few minutes to run, as it is loading over 150 million records."
   ]
  },
  {
   "cell_type": "code",
   "execution_count": 9,
   "metadata": {},
   "outputs": [
    {
     "data": {
      "text/html": [
       "<div>\n",
       "<style scoped>\n",
       "    .dataframe tbody tr th:only-of-type {\n",
       "        vertical-align: middle;\n",
       "    }\n",
       "\n",
       "    .dataframe tbody tr th {\n",
       "        vertical-align: top;\n",
       "    }\n",
       "\n",
       "    .dataframe thead th {\n",
       "        text-align: right;\n",
       "    }\n",
       "</style>\n",
       "<table border=\"1\" class=\"dataframe\">\n",
       "  <thead>\n",
       "    <tr style=\"text-align: right;\">\n",
       "      <th></th>\n",
       "      <th>site</th>\n",
       "      <th>subsite</th>\n",
       "      <th>geometry</th>\n",
       "    </tr>\n",
       "    <tr>\n",
       "      <th>fid</th>\n",
       "      <th></th>\n",
       "      <th></th>\n",
       "      <th></th>\n",
       "    </tr>\n",
       "  </thead>\n",
       "  <tbody>\n",
       "    <tr>\n",
       "      <th>149842221</th>\n",
       "      <td>Karumba</td>\n",
       "      <td>KURSL1</td>\n",
       "      <td>POINT (140.83020 -17.49350)</td>\n",
       "    </tr>\n",
       "    <tr>\n",
       "      <th>149696096</th>\n",
       "      <td>Karumba</td>\n",
       "      <td>KURFL1</td>\n",
       "      <td>POINT (140.83020 -17.49350)</td>\n",
       "    </tr>\n",
       "    <tr>\n",
       "      <th>149519190</th>\n",
       "      <td>Night Island</td>\n",
       "      <td>NIGFL1</td>\n",
       "      <td>POINT (143.58030 -13.16910)</td>\n",
       "    </tr>\n",
       "    <tr>\n",
       "      <th>149501081</th>\n",
       "      <td>Night Island</td>\n",
       "      <td>NIGSL1</td>\n",
       "      <td>POINT (143.58030 -13.16900)</td>\n",
       "    </tr>\n",
       "    <tr>\n",
       "      <th>53983161</th>\n",
       "      <td>Curd Reef</td>\n",
       "      <td>CURDFL1</td>\n",
       "      <td>POINT (143.51120 -12.58530)</td>\n",
       "    </tr>\n",
       "  </tbody>\n",
       "</table>\n",
       "</div>"
      ],
      "text/plain": [
       "                   site  subsite                     geometry\n",
       "fid                                                          \n",
       "149842221       Karumba   KURSL1  POINT (140.83020 -17.49350)\n",
       "149696096       Karumba   KURFL1  POINT (140.83020 -17.49350)\n",
       "149519190  Night Island   NIGFL1  POINT (143.58030 -13.16910)\n",
       "149501081  Night Island   NIGSL1  POINT (143.58030 -13.16900)\n",
       "53983161      Curd Reef  CURDFL1  POINT (143.51120 -12.58530)"
      ]
     },
     "execution_count": 9,
     "metadata": {},
     "output_type": "execute_result"
    }
   ],
   "source": [
    "# Creating maximum and minimum coordinates for bounding box around the GBRMPA\n",
    "filter = [('lon', '>=', 140.5),\n",
    "          ('lat', '>=', -28.5),\n",
    "          ('lon', '<=', 156.0),\n",
    "          ('lat', '<=', -6.5)]\n",
    "\n",
    "# Connecting to the S3 bucket where the AIMS temperature data is stored\n",
    "dask_geo_df = dask_geopandas.read_parquet(\"s3://rimrep-data-public/091-aims-sst/test-50-64-spatialpart/\", \n",
    "                                          #Applying initial bounding box filter\n",
    "                                          filters = [filter], \n",
    "                                          #Specifying which columns to read\n",
    "                                          columns = ['site', 'subsite', 'geometry'],\n",
    "                                          #Specifying the column to be used as index\n",
    "                                          index = 'fid',\n",
    "                                          #Connecting anonimously as no authentication is needed for this s3 bucket (it is public)\n",
    "                                          storage_options = {\"anon\": True}) \n",
    "\n",
    "# Keeping unique values\n",
    "dask_geo_df = dask_geo_df.drop_duplicates()\n",
    "\n",
    "# Transforming to pandas dataframe\n",
    "df = dask_geo_df.compute()\n",
    "\n",
    "# #Checking the contents of the dataframe - First five rows\n",
    "df.head()"
   ]
  },
  {
   "cell_type": "code",
   "execution_count": 29,
   "metadata": {},
   "outputs": [
    {
     "data": {
      "text/plain": [
       "'FL1'"
      ]
     },
     "execution_count": 29,
     "metadata": {},
     "output_type": "execute_result"
    }
   ],
   "source": [
    "import re\n",
    "x = re.search('FL[0-9]', 'KURFL1')\n",
    "x.group()"
   ]
  },
  {
   "attachments": {},
   "cell_type": "markdown",
   "metadata": {},
   "source": [
    "## Mapping sites\n",
    "From the summary table we created in the previous step, we will make a map with the location of all deployment sites within the GBRMPA bounding box. We will also highlight the location of two sites: **Hayman Island** and **Heron Island** in red. We will use these two sites as examples on how to extract data from sites of interest. "
   ]
  },
  {
   "cell_type": "code",
   "execution_count": 26,
   "metadata": {},
   "outputs": [
    {
     "data": {
      "text/plain": [
       "<cartopy.mpl.feature_artist.FeatureArtist at 0x28846da9b50>"
      ]
     },
     "execution_count": 26,
     "metadata": {},
     "output_type": "execute_result"
    },
    {
     "data": {
      "image/png": "[encoded data removed]",
      "text/plain": [
       "<Figure size 640x480 with 1 Axes>"
      ]
     },
     "metadata": {},
     "output_type": "display_data"
    }
   ],
   "source": [
    "#Initiliasing the figure\n",
    "fig = plt.figure()\n",
    "\n",
    "#Adding a plot to the figure and assigning projection\n",
    "ax = plt.axes(projection = ccrs.PlateCarree())\n",
    "\n",
    "#Plotting the data using a scatter plot\n",
    "df.plot(ax = ax, alpha = 0.5, markersize = 10)\n",
    "\n",
    "#Plotting sites of interest in red\n",
    "df[(df.site == 'Heron Island') | (df.site == 'Hayman Island')].plot(ax = ax, color = 'red',\n",
    "                                                                    alpha = 0.5, markersize = 15)\n",
    "\n",
    "#Adding a basemap of land areas\n",
    "ax.add_feature(cf.LAND)"
   ]
  },
  {
   "attachments": {},
   "cell_type": "markdown",
   "metadata": {},
   "source": [
    "We have successfully plotted the location of the AIMS temperature loggers within the GBRMPA bounding box. We can see that the number of temperature records per logger is not the same throughout the GBRMPA. The largest number of records are for loggers located near the coast."
   ]
  }
 ],
 "metadata": {
  "kernelspec": {
   "display_name": "rimrep",
   "language": "python",
   "name": "python3"
  },
  "language_info": {
   "codemirror_mode": {
    "name": "ipython",
    "version": 3
   },
   "file_extension": ".py",
   "mimetype": "text/x-python",
   "name": "python",
   "nbconvert_exporter": "python",
   "pygments_lexer": "ipython3",
   "version": "3.11.4"
  },
  "orig_nbformat": 4
 },
 "nbformat": 4,
 "nbformat_minor": 2
}

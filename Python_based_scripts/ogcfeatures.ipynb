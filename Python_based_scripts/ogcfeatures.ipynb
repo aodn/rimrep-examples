{
 "cells": [
  {
   "attachments": {},
   "cell_type": "markdown",
   "metadata": {},
   "source": [
    "# Data API: OGC Features example\n",
    "\n",
    "OGC Features is the replacement for Web Feature Service.\n",
    "\n",
    "More info about the API can be found here - https://ogcapi.ogc.org/features/overview.html\n",
    "\n",
    "### Using AIMS Temperature Loggers data as an example - this notebook demonstrates\n",
    "\n",
    "- List available datasets (coverages)\n",
    "- Get \"queryables\" for a collection\n",
    "- Fetch subset of data - filtered by\n",
    "  - Bounding box\n",
    "  - Temporal extent\n",
    "  - Property values (`deployment_id` and `qc_flag`)\n",
    "\n",
    "### Notes on `owslib`\n",
    "\n",
    "`owslib` is a python library for working with OGC web services and the new OGC APIs - it has up-to-date support of the OGC Features standard."
   ]
  },
  {
   "cell_type": "code",
   "execution_count": null,
   "metadata": {},
   "outputs": [],
   "source": [
    "# First, install and load the required packages.\n",
    "\n",
    "import subprocess\n",
    "\n",
    "packages = [\n",
    "    'getpass',\n",
    "    'owslib'\n",
    "]\n",
    "\n",
    "for package in packages:\n",
    "    try:\n",
    "        subprocess.check_call(['pip', 'install', package])\n",
    "        print(f'Successfully installed {package}')\n",
    "    except subprocess.CalledProcessError as e:\n",
    "        print(f'Error occurred while installing {package}: {e}')"
   ]
  },
  {
   "cell_type": "code",
   "execution_count": 1,
   "metadata": {},
   "outputs": [],
   "source": [
    "from IPython.display import JSON\n",
    "from owslib.ogcapi.features import Features\n",
    "from getpass import getpass"
   ]
  },
  {
   "attachments": {},
   "cell_type": "markdown",
   "metadata": {},
   "source": [
    "# Connecting to Data API - OGC Features\n",
    "\n",
    "We first connect to the Data API by setting up a OGC Features API endpoint.\n",
    "\n",
    "To do this, you will need to go to https://dashboard.staging.reefdata.io/ and copy your Authentication token.\n",
    "This can then be pasted into the password prompt."
   ]
  },
  {
   "cell_type": "code",
   "execution_count": 2,
   "metadata": {},
   "outputs": [],
   "source": [
    "w = Features('https://pygeoapi.staging.reefdata.io/', headers={'Authorization': f'Bearer {getpass()}'})"
   ]
  },
  {
   "attachments": {},
   "cell_type": "markdown",
   "metadata": {},
   "source": [
    "## List available collections"
   ]
  },
  {
   "cell_type": "code",
   "execution_count": 3,
   "metadata": {},
   "outputs": [
    {
     "data": {
      "text/plain": [
       "['aims-sst',\n",
       " 'aims-sst-private',\n",
       " 'abs-regional-lga-2021',\n",
       " 'gbrmpa-reef-biogeography',\n",
       " 'gbrmpa-complete-gbr-features',\n",
       " 'gbrmpa-management-areas',\n",
       " 'dcceew-coral-sea-boundary',\n",
       " 'gbrmpa-marine-park-zoning',\n",
       " 'gbrmpa-gbr-river-basins',\n",
       " 'abs-lgas-2021',\n",
       " 'abs-lgas-2022',\n",
       " 'abs-postal-areas-2021',\n",
       " 'gbrmpa-cruise-ship-transit-lines',\n",
       " 'gbrmpa-remote-natural-areas',\n",
       " 'gbrmpa-special-management-areas',\n",
       " 'gbrmpa-traditional-use-areas',\n",
       " 'gbrmpa-whale-protection-area',\n",
       " 'qtmr-recreational-boat-facilities',\n",
       " 'gbrmpa-marine-park-limits',\n",
       " 'qtmr-vessel-registrations']"
      ]
     },
     "execution_count": 3,
     "metadata": {},
     "output_type": "execute_result"
    }
   ],
   "source": [
    "w.feature_collections()"
   ]
  },
  {
   "attachments": {},
   "cell_type": "markdown",
   "metadata": {},
   "source": [
    "## Get collection metadata\n",
    "\n",
    "The following is equivalent to \n",
    "\n",
    "- https://pygeoapi.staging.reefdata.io/collections/aims-sst"
   ]
  },
  {
   "cell_type": "code",
   "execution_count": 4,
   "metadata": {},
   "outputs": [
    {
     "data": {
      "application/json": {
       "description": "The data provided here are from a number of sea water temperature monitoring programs conducted in tropical and subtropical coral reefs environments around Australia. Data are available from approximately 80 GBR sites, 16 Coral Sea sites, 7 sites in North West Western Australia (WA), 8 Queensland regional ports, 13 sites in the Solitary Islands, 4 sites in PNG and 10 sites in the Cocos (Keeling) Islands. Data are obtained from in-situ data loggers deployed on the reef. Temperature instruments sample water temperatures every 5-10 minutes (typically) and are exchanged and downloaded approximately every 12 months. Temperature loggers on the reef-flat are generally placed just below Lowest Astronomical Tide level. Reef-slope (or where specified as Upper reef-slope) generally refers to depths 5 - 9 m while Deep reef-slope refers to depths of ~20 m.\n",
       "extent": {
        "spatial": {
         "bbox": [
          [
           96.7556,
           -34.3725,
           159.2372,
           -2.6651
          ]
         ],
         "crs": "http://www.opengis.net/def/crs/OGC/1.3/CRS84"
        }
       },
       "id": "aims-sst",
       "itemType": "feature",
       "keywords": [],
       "links": [
        {
         "href": "https://stac.staging.reefdata.io/browser/collections/aims-oceanography/items/aims-sst",
         "hreflang": "en-AU",
         "rel": "canonical",
         "title": "information",
         "type": "text/html"
        },
        {
         "href": "https://pygeoapi.staging.reefdata.io?f=json",
         "rel": "root",
         "title": "The landing page of this server as JSON",
         "type": "application/json"
        },
        {
         "href": "https://pygeoapi.staging.reefdata.io?f=html",
         "rel": "root",
         "title": "The landing page of this server as HTML",
         "type": "text/html"
        },
        {
         "href": "https://pygeoapi.staging.reefdata.io/collections/aims-sst?f=json",
         "rel": "self",
         "title": "This document as JSON",
         "type": "application/json"
        },
        {
         "href": "https://pygeoapi.staging.reefdata.io/collections/aims-sst?f=jsonld",
         "rel": "alternate",
         "title": "This document as RDF (JSON-LD)",
         "type": "application/ld+json"
        },
        {
         "href": "https://pygeoapi.staging.reefdata.io/collections/aims-sst?f=html",
         "rel": "alternate",
         "title": "This document as HTML",
         "type": "text/html"
        },
        {
         "href": "https://pygeoapi.staging.reefdata.io/collections/aims-sst/queryables?f=json",
         "rel": "queryables",
         "title": "Queryables for this collection as JSON",
         "type": "application/json"
        },
        {
         "href": "https://pygeoapi.staging.reefdata.io/collections/aims-sst/queryables?f=html",
         "rel": "queryables",
         "title": "Queryables for this collection as HTML",
         "type": "text/html"
        },
        {
         "href": "https://pygeoapi.staging.reefdata.io/collections/aims-sst/items?f=json",
         "rel": "items",
         "title": "items as GeoJSON",
         "type": "application/geo+json"
        },
        {
         "href": "https://pygeoapi.staging.reefdata.io/collections/aims-sst/items?f=jsonld",
         "rel": "items",
         "title": "items as RDF (GeoJSON-LD)",
         "type": "application/ld+json"
        },
        {
         "href": "https://pygeoapi.staging.reefdata.io/collections/aims-sst/items?f=html",
         "rel": "items",
         "title": "Items as HTML",
         "type": "text/html"
        }
       ],
       "title": "AIMS Sea Surface Temperature Monitoring Program"
      },
      "text/plain": [
       "<IPython.core.display.JSON object>"
      ]
     },
     "execution_count": 4,
     "metadata": {
      "application/json": {
       "expanded": false,
       "root": "root"
      }
     },
     "output_type": "execute_result"
    }
   ],
   "source": [
    "coll_id = 'aims-sst'\n",
    "aims_sst = w.collection(coll_id)\n",
    "JSON(aims_sst)"
   ]
  },
  {
   "attachments": {},
   "cell_type": "markdown",
   "metadata": {},
   "source": [
    "## Get Queryables\n",
    "\n",
    "Queryables are the properties that can be used to filter the data (eg columns in a table).\n",
    "\n",
    "The following is equivalent to\n",
    "\n",
    "- https://pygeoapi.staging.reefdata.io/collections/aims-sst/queryables"
   ]
  },
  {
   "cell_type": "code",
   "execution_count": 5,
   "metadata": {},
   "outputs": [
    {
     "data": {
      "application/json": {
       "$id": "https://pygeoapi.staging.reefdata.io/collections/aims-sst/queryables",
       "$schema": "http://json-schema.org/draft/2019-09/schema",
       "properties": {
        "cal_val": {
         "title": "cal_val",
         "type": "number"
        },
        "deployment_id": {
         "title": "deployment_id",
         "type": "integer"
        },
        "depth": {
         "title": "depth",
         "type": "number"
        },
        "fid": {
         "title": "fid",
         "type": "integer"
        },
        "from_date": {
         "title": "from_date",
         "type": "string"
        },
        "gbrmpa_reef_id": {
         "title": "gbrmpa_reef_id",
         "type": "string"
        },
        "geometry": {
         "$ref": "https://geojson.org/schema/Geometry.json"
        },
        "hilbert_distance": {
         "title": "hilbert_distance",
         "type": "integer"
        },
        "instrument_type": {
         "title": "instrument_type",
         "type": "string"
        },
        "lat": {
         "title": "lat",
         "type": "number"
        },
        "lon": {
         "title": "lon",
         "type": "number"
        },
        "metadata_uuid": {
         "title": "metadata_uuid",
         "type": "string"
        },
        "parameter": {
         "title": "parameter",
         "type": "string"
        },
        "qc_flag": {
         "title": "qc_flag",
         "type": "number"
        },
        "qc_val": {
         "title": "qc_val",
         "type": "number"
        },
        "serial_num": {
         "title": "serial_num",
         "type": "string"
        },
        "site": {
         "title": "site",
         "type": "string"
        },
        "site_id": {
         "title": "site_id",
         "type": "integer"
        },
        "sites_with_climatology_available": {
         "title": "sites_with_climatology_available",
         "type": "number"
        },
        "subsite": {
         "title": "subsite",
         "type": "string"
        },
        "subsite_id": {
         "title": "subsite_id",
         "type": "integer"
        },
        "thru_date": {
         "title": "thru_date",
         "type": "string"
        },
        "time": {
         "title": "time",
         "type": "string"
        }
       },
       "title": "AIMS Sea Surface Temperature Monitoring Program",
       "type": "object"
      },
      "text/plain": [
       "<IPython.core.display.JSON object>"
      ]
     },
     "execution_count": 5,
     "metadata": {
      "application/json": {
       "expanded": false,
       "root": "root"
      }
     },
     "output_type": "execute_result"
    }
   ],
   "source": [
    "collection_queryables = w.collection_queryables(coll_id)\n",
    "\n",
    "JSON(collection_queryables)"
   ]
  },
  {
   "attachments": {},
   "cell_type": "markdown",
   "metadata": {},
   "source": [
    "## Get subset of data\n",
    "\n",
    "By default OGC Features API will return GeoJSON (Feature Collection)\n",
    "\n",
    "Here we are filtering the data by\n",
    "- Bounding box = `[149,-20,150,-19]`\n",
    "- Temporal extent = `2002-07-10` to `2002-07-20`\n",
    "- Deployment ID = `3499`\n",
    "- QC Flag = `1`\n",
    "\n",
    "The following is equivalent to\n",
    "\n",
    "- https://pygeoapi.staging.reefdata.io/collections/091-aims-sst/items?bbox=149,-20,150,-19&datetime=2002-07-10T00:00:00Z/2002-07-20T00:00:00Z&deployment_id=3499&qc_flag=1&limit=1000"
   ]
  },
  {
   "cell_type": "code",
   "execution_count": 11,
   "metadata": {},
   "outputs": [],
   "source": [
    "items = w.collection_items(coll_id,\n",
    "                            bbox=[149,-20,150,-19],\n",
    "                            datetime='2002-07-10T00:00:00Z/2002-07-20T00:00:00Z',\n",
    "                            deployment_id=3499,\n",
    "                            qc_flag=1,\n",
    "                            limit=1000)"
   ]
  },
  {
   "attachments": {},
   "cell_type": "markdown",
   "metadata": {},
   "source": [
    "## Print the first GeoJson Feature"
   ]
  },
  {
   "cell_type": "code",
   "execution_count": 12,
   "metadata": {},
   "outputs": [
    {
     "data": {
      "application/json": {
       "bbox": [
        149.1828,
        -19.7453,
        149.1828,
        -19.7453
       ],
       "geometry": {
        "coordinates": [
         149.1828,
         -19.7453
        ],
        "type": "Point"
       },
       "id": "147920142",
       "properties": {
        "cal_val": 22.219,
        "deployment_id": 3499,
        "depth": 9,
        "from_date": "2002-06-13T00:00:00",
        "gbrmpa_reef_id": "19-135",
        "instrument_type": "Odyssey",
        "lat": -19.7453,
        "lon": 149.1828,
        "metadata_uuid": "fc73ac05-a4a7-4bcb-931d-c246f47aed93",
        "parameter": "Water Temperature",
        "qc_flag": 1,
        "qc_val": 22.219,
        "serial_num": "SST-905217",
        "site": "Hardy Reef",
        "site_id": 6,
        "sites_with_climatology_available": null,
        "subsite": "HARAWS",
        "subsite_id": 3499,
        "thru_date": "2002-11-20T00:00:00",
        "time": "2002-07-19T08:30:00+00:00"
       },
       "type": "Feature"
      },
      "text/plain": [
       "<IPython.core.display.JSON object>"
      ]
     },
     "execution_count": 12,
     "metadata": {
      "application/json": {
       "expanded": false,
       "root": "root"
      }
     },
     "output_type": "execute_result"
    }
   ],
   "source": [
    "JSON(items['features'][0])"
   ]
  },
  {
   "attachments": {},
   "cell_type": "markdown",
   "metadata": {},
   "source": [
    "## Plot the data!\n",
    "\n",
    "This is a very basic example that just plots time-series. We ignore geometry as all the data is from the same location."
   ]
  },
  {
   "cell_type": "code",
   "execution_count": 4,
   "metadata": {},
   "outputs": [
    {
     "data": {
      "text/plain": [
       "<Axes: title={'center': 'SST at Hardy Reef'}, xlabel='time', ylabel='Temperature (C)'>"
      ]
     },
     "execution_count": 4,
     "metadata": {},
     "output_type": "execute_result"
    },
    {
     "data": {
      "image/png": "[encoded data removed]",
      "text/plain": [
       "<Figure size 640x480 with 1 Axes>"
      ]
     },
     "metadata": {},
     "output_type": "display_data"
    }
   ],
   "source": [
    "from geopandas import GeoDataFrame\n",
    "import matplotlib.pyplot as plt\n",
    "import pandas as pd\n",
    "\n",
    "gdf = GeoDataFrame.from_features(items)\n",
    "gdf.time = pd.to_datetime(gdf.time)  # Convert from string to datetime\n",
    "site_name = gdf.site[0]\n",
    "gdf.plot.line(x='time', \n",
    "              y='qc_val', \n",
    "              legend=False, \n",
    "              ylabel='Temperature (C)', \n",
    "              title=f'SST at {site_name}')"
   ]
  }
 ],
 "metadata": {
  "kernelspec": {
   "display_name": ".venv",
   "language": "python",
   "name": "python3"
  },
  "language_info": {
   "codemirror_mode": {
    "name": "ipython",
    "version": 3
   },
   "file_extension": ".py",
   "mimetype": "text/x-python",
   "name": "python",
   "nbconvert_exporter": "python",
   "pygments_lexer": "ipython3",
   "version": "3.11.3"
  },
  "orig_nbformat": 4,
  "vscode": {
   "interpreter": {
    "hash": "ac4bbee1919ea7aef9c6cfd22a25c3c68d6ebab6b5f3e31fb17a356d6f400124"
   }
  }
 },
 "nbformat": 4,
 "nbformat_minor": 2
}

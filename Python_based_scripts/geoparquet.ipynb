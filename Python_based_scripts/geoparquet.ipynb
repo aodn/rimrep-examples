{
 "cells": [
  {
   "attachments": {},
   "cell_type": "markdown",
   "metadata": {},
   "source": [
    "# `Geoparquet` direct access example\n",
    "\n",
    "Authors: Leo Ghignone, Denisse Fierro Arcos\n",
    "\n",
    "This notebook demonstrates direct access to a dataset in the RIMReP `geoparquet` collection. The `geoparquet` collection is a collection of datasets that have been converted to the Apache `parquet` format. This format is designed for efficient storage and retrieval of tabular data. The `geoparquet` collection is stored on the RIMReP S3 bucket and is accessible to all users.  \n",
    "  \n",
    "We will use the [AIMS Temperature Logger Monitoring Program](https://apps.aims.gov.au/metadata/view/4a12a8c0-c573-11dc-b99b-00008a07204e) dataset as an example. This dataset includes sea temperature data since 1980 for tropical and subtropical coral reefs around Australia, including sites within the Great Barrier Reef.  \n",
    "  \n",
    "The workflow in this notebook is as follows:\n",
    "- Inspect dataset metadata\n",
    "- Aggregate and plot temperature data for all sites where temperature loggers were deployed\n",
    "- Collect data for a specific region, in this case we will use the Great Barrier Reef Marine Protected Area as our region of interest"
   ]
  },
  {
   "attachments": {},
   "cell_type": "markdown",
   "metadata": {},
   "source": [
    "## Loading libraries"
   ]
  },
  {
   "cell_type": "code",
   "execution_count": 1,
   "metadata": {},
   "outputs": [],
   "source": [
    "# Accessing S3 bucket\n",
    "from pyarrow import parquet as pq\n",
    "# Manipulating dataframes\n",
    "import pandas as pd\n",
    "# Load and manipulate geospatial data\n",
    "import dask_geopandas\n",
    "import geopandas as gpd\n",
    "# Spatial data\n",
    "from shapely.geometry import Polygon\n",
    "# Plotting\n",
    "import matplotlib.pyplot as plt\n",
    "# Mapping\n",
    "import cartopy.crs as ccrs\n",
    "import cartopy.feature as cf\n"
   ]
  },
  {
   "attachments": {},
   "cell_type": "markdown",
   "metadata": {},
   "source": [
    "## Inspecting metadata\n",
    "The AIMS Temperature dataset contains over 150 million records. We will use its metadata to check the structure of the dataset and to determine the best way to access the data."
   ]
  },
  {
   "cell_type": "code",
   "execution_count": 2,
   "metadata": {},
   "outputs": [
    {
     "data": {
      "text/plain": [
       "<pyarrow._parquet.FileMetaData object at 0x000002270743FB00>\n",
       "  created_by: parquet-cpp-arrow version 10.0.1\n",
       "  num_columns: 23\n",
       "  num_rows: 150663521\n",
       "  num_row_groups: 50\n",
       "  format_version: 2.6\n",
       "  serialized_size: 155051"
      ]
     },
     "execution_count": 2,
     "metadata": {},
     "output_type": "execute_result"
    }
   ],
   "source": [
    "#Connecting to metadata file\n",
    "md = pq.read_metadata(f\"s3://rimrep-data-public/091-aims-sst/test-50-64-spatialpart/_metadata\")\n",
    "#Checking contents\n",
    "md"
   ]
  },
  {
   "attachments": {},
   "cell_type": "markdown",
   "metadata": {},
   "source": [
    "The metadata is telling us that the AIMS temperature dataset contains 23 columns and over 150 million rows, and it is made up of 50 different files.  \n",
    "  \n",
    "We can check the structure of the data by calling its `schema` attribute. This will return a list containing the name of the column and its data type."
   ]
  },
  {
   "cell_type": "code",
   "execution_count": 3,
   "metadata": {},
   "outputs": [
    {
     "data": {
      "text/plain": [
       "<pyarrow._parquet.ParquetSchema object at 0x000002660E290440>\n",
       "required group field_id=-1 schema {\n",
       "  optional int64 field_id=-1 fid;\n",
       "  optional int64 field_id=-1 deployment_id;\n",
       "  optional binary field_id=-1 site (String);\n",
       "  optional int64 field_id=-1 site_id;\n",
       "  optional binary field_id=-1 subsite (String);\n",
       "  optional int64 field_id=-1 subsite_id;\n",
       "  optional int64 field_id=-1 from_date (Timestamp(isAdjustedToUTC=false, timeUnit=microseconds, is_from_converted_type=false, force_set_converted_type=false));\n",
       "  optional int64 field_id=-1 thru_date (Timestamp(isAdjustedToUTC=false, timeUnit=microseconds, is_from_converted_type=false, force_set_converted_type=false));\n",
       "  optional double field_id=-1 depth;\n",
       "  optional binary field_id=-1 parameter (String);\n",
       "  optional binary field_id=-1 instrument_type (String);\n",
       "  optional binary field_id=-1 serial_num (String);\n",
       "  optional double field_id=-1 lat;\n",
       "  optional double field_id=-1 lon;\n",
       "  optional binary field_id=-1 gbrmpa_reef_id (String);\n",
       "  optional binary field_id=-1 metadata_uuid (String);\n",
       "  optional double field_id=-1 sites_with_climatology_available;\n",
       "  optional int64 field_id=-1 time (Timestamp(isAdjustedToUTC=true, timeUnit=microseconds, is_from_converted_type=false, force_set_converted_type=false));\n",
       "  optional double field_id=-1 cal_val;\n",
       "  optional double field_id=-1 qc_val;\n",
       "  optional double field_id=-1 qc_flag;\n",
       "  optional binary field_id=-1 geometry;\n",
       "  optional int64 field_id=-1 hilbert_distance (Int(bitWidth=64, isSigned=false));\n",
       "}"
      ]
     },
     "execution_count": 3,
     "metadata": {},
     "output_type": "execute_result"
    }
   ],
   "source": [
    "md.schema"
   ]
  },
  {
   "attachments": {},
   "cell_type": "markdown",
   "metadata": {},
   "source": [
    "The `schema` tells us that the dataset contains 23 columns, which matches the information we got from the metadata. It also tells us that the data types are either `string` or `double`.  \n",
    "  \n",
    "We can also obtain more details about a specific column, by calling the `column` method and passing the name of the column as an argument as shown below."
   ]
  },
  {
   "cell_type": "code",
   "execution_count": 15,
   "metadata": {},
   "outputs": [
    {
     "data": {
      "text/plain": [
       "<ParquetColumnSchema>\n",
       "  name: qc_val\n",
       "  path: qc_val\n",
       "  max_definition_level: 1\n",
       "  max_repetition_level: 0\n",
       "  physical_type: DOUBLE\n",
       "  logical_type: None\n",
       "  converted_type (legacy): NONE"
      ]
     },
     "execution_count": 15,
     "metadata": {},
     "output_type": "execute_result"
    }
   ],
   "source": [
    "md.schema.column(19)"
   ]
  },
  {
   "attachments": {},
   "cell_type": "markdown",
   "metadata": {},
   "source": [
    "If we refer to the original site for the [AIMS Temperature Logger Monitoring Program](https://apps.aims.gov.au/metadata/view/4a12a8c0-c573-11dc-b99b-00008a07204e), we can see that the `qc_val` column refers to the quality controlled temperature obtained from the loggers deployed as part of this program."
   ]
  },
  {
   "attachments": {},
   "cell_type": "markdown",
   "metadata": {},
   "source": [
    "## Connecting to S3 bucket and loading temperature logger deployment sites\n",
    "Now that we have checked the structure of the dataset, we will connect to the RIMReP S3 bucket and load the dataset into memory. We will use the `dask_geopandas` library to connect to the S3 bucket and load the dataset into a `pandas` dataframe.  \n",
    "  \n",
    "First, we will load the temperature logger deployment sites from the `geoparquet` collection. We will use the following columns:  \n",
    "- `site_id`: unique ID of the logger deployment site,\n",
    "- `lat`: latitude of the logger deployment site,\n",
    "- `lon`: longitude of the logger deployment site\n",
    "    \n",
    "We will only keep sites that have been deployed in the Great Barrier Reef Marine Protected Area (GBRMPA), so we will provide a `filter` that contains the minimum and maximum coordinates (i.e., `lat` and `lon`) of a bounding box around the Great Barrier Reef Marine Protected Area."
   ]
  },
  {
   "cell_type": "code",
   "execution_count": 14,
   "metadata": {},
   "outputs": [
    {
     "data": {
      "text/html": [
       "<div>\n",
       "<style scoped>\n",
       "    .dataframe tbody tr th:only-of-type {\n",
       "        vertical-align: middle;\n",
       "    }\n",
       "\n",
       "    .dataframe tbody tr th {\n",
       "        vertical-align: top;\n",
       "    }\n",
       "\n",
       "    .dataframe thead th {\n",
       "        text-align: right;\n",
       "    }\n",
       "</style>\n",
       "<table border=\"1\" class=\"dataframe\">\n",
       "  <thead>\n",
       "    <tr style=\"text-align: right;\">\n",
       "      <th></th>\n",
       "      <th>site_id</th>\n",
       "      <th>lat</th>\n",
       "      <th>lon</th>\n",
       "    </tr>\n",
       "    <tr>\n",
       "      <th>hilbert_distance</th>\n",
       "      <th></th>\n",
       "      <th></th>\n",
       "      <th></th>\n",
       "    </tr>\n",
       "  </thead>\n",
       "  <tbody>\n",
       "    <tr>\n",
       "      <th>2245686156</th>\n",
       "      <td>979</td>\n",
       "      <td>-17.4935</td>\n",
       "      <td>140.8302</td>\n",
       "    </tr>\n",
       "    <tr>\n",
       "      <th>2245686156</th>\n",
       "      <td>979</td>\n",
       "      <td>-17.4935</td>\n",
       "      <td>140.8302</td>\n",
       "    </tr>\n",
       "    <tr>\n",
       "      <th>2245686156</th>\n",
       "      <td>979</td>\n",
       "      <td>-17.4935</td>\n",
       "      <td>140.8302</td>\n",
       "    </tr>\n",
       "    <tr>\n",
       "      <th>2245686156</th>\n",
       "      <td>979</td>\n",
       "      <td>-17.4935</td>\n",
       "      <td>140.8302</td>\n",
       "    </tr>\n",
       "    <tr>\n",
       "      <th>2245686156</th>\n",
       "      <td>979</td>\n",
       "      <td>-17.4935</td>\n",
       "      <td>140.8302</td>\n",
       "    </tr>\n",
       "  </tbody>\n",
       "</table>\n",
       "</div>"
      ],
      "text/plain": [
       "                  site_id      lat       lon\n",
       "hilbert_distance                            \n",
       "2245686156            979 -17.4935  140.8302\n",
       "2245686156            979 -17.4935  140.8302\n",
       "2245686156            979 -17.4935  140.8302\n",
       "2245686156            979 -17.4935  140.8302\n",
       "2245686156            979 -17.4935  140.8302"
      ]
     },
     "execution_count": 14,
     "metadata": {},
     "output_type": "execute_result"
    }
   ],
   "source": [
    "#Defining maximum and minimum coordinates for bounding box around the GBRMPA\n",
    "filter = [('lon', '>=', 140.5),\n",
    "          ('lat', '>=', -28.5),\n",
    "          ('lon', '<=', 156.0),\n",
    "          ('lat', '<=', -6.5)]\n",
    "\n",
    "#Connecting to the S3 bucket where the AIMS temperature data is stored\n",
    "dask_geo_df = dask_geopandas.read_parquet(\"s3://rimrep-data-public/091-aims-sst/test-50-64-spatialpart/\", \n",
    "                                          #We specify the columns we want to read\n",
    "                                          columns = ['site_id', 'lat', 'lon'],\n",
    "                                          #We specify the filter we want to apply - which we specified at the beginning of this code chunk\n",
    "                                          filters = [filter],\n",
    "                                          #Connecting anonimously as no authentication is needed for this s3 bucket (it is public)\n",
    "                                          storage_options = {\"anon\": True})  \n",
    "\n",
    "#Checking the contents of the dataframe - First five rows\n",
    "dask_geo_df.head()"
   ]
  },
  {
   "attachments": {},
   "cell_type": "markdown",
   "metadata": {},
   "source": [
    "You can see above that the `site_id` is repeated multiple times. This is because the temperature loggers were deployed on multiple occassions at the same site. If we print more rows, you will also see that the coordinates for a particular site vary slightly. This is because the temperature loggers were not deployed at the exact same location each time, but they were all deployed near each other.  \n",
    "    \n",
    "Next, we will calculate the mean deployment coordinate and total number of temperature records for each site. We will use the `groupby` method to group the data by `site_id` and then we will use the `agg` method to perform our calculations.  \n",
    "  \n",
    "Note the use of `compute()` at the end of our code. This will trigger our calculations and load the results as a data frame into memory."
   ]
  },
  {
   "cell_type": "code",
   "execution_count": 15,
   "metadata": {},
   "outputs": [
    {
     "data": {
      "text/html": [
       "<div>\n",
       "<style scoped>\n",
       "    .dataframe tbody tr th:only-of-type {\n",
       "        vertical-align: middle;\n",
       "    }\n",
       "\n",
       "    .dataframe tbody tr th {\n",
       "        vertical-align: top;\n",
       "    }\n",
       "\n",
       "    .dataframe thead th {\n",
       "        text-align: right;\n",
       "    }\n",
       "</style>\n",
       "<table border=\"1\" class=\"dataframe\">\n",
       "  <thead>\n",
       "    <tr style=\"text-align: right;\">\n",
       "      <th></th>\n",
       "      <th>lat</th>\n",
       "      <th>lon</th>\n",
       "      <th>number</th>\n",
       "    </tr>\n",
       "    <tr>\n",
       "      <th>site_id</th>\n",
       "      <th></th>\n",
       "      <th></th>\n",
       "      <th></th>\n",
       "    </tr>\n",
       "  </thead>\n",
       "  <tbody>\n",
       "    <tr>\n",
       "      <th>979</th>\n",
       "      <td>-17.493500</td>\n",
       "      <td>140.8302</td>\n",
       "      <td>139636</td>\n",
       "    </tr>\n",
       "    <tr>\n",
       "      <th>910</th>\n",
       "      <td>-13.169053</td>\n",
       "      <td>143.5803</td>\n",
       "      <td>453962</td>\n",
       "    </tr>\n",
       "    <tr>\n",
       "      <th>3480</th>\n",
       "      <td>-12.585000</td>\n",
       "      <td>143.5112</td>\n",
       "      <td>321118</td>\n",
       "    </tr>\n",
       "    <tr>\n",
       "      <th>927</th>\n",
       "      <td>-12.670900</td>\n",
       "      <td>141.8665</td>\n",
       "      <td>113305</td>\n",
       "    </tr>\n",
       "    <tr>\n",
       "      <th>928</th>\n",
       "      <td>-12.678300</td>\n",
       "      <td>141.7883</td>\n",
       "      <td>12907</td>\n",
       "    </tr>\n",
       "  </tbody>\n",
       "</table>\n",
       "</div>"
      ],
      "text/plain": [
       "               lat       lon  number\n",
       "site_id                             \n",
       "979     -17.493500  140.8302  139636\n",
       "910     -13.169053  143.5803  453962\n",
       "3480    -12.585000  143.5112  321118\n",
       "927     -12.670900  141.8665  113305\n",
       "928     -12.678300  141.7883   12907"
      ]
     },
     "execution_count": 15,
     "metadata": {},
     "output_type": "execute_result"
    }
   ],
   "source": [
    "#Grouping our dataframe by site_id and aggregating the lat and lon columns by mean and the site_id column by count\n",
    "counts = dask_geo_df.groupby('site_id').agg(\n",
    "    #Calculating mean lat and lon\n",
    "    lat = pd.NamedAgg(column = 'lat', aggfunc = 'mean'),\n",
    "    lon = pd.NamedAgg(column = 'lon', aggfunc = 'mean'),\n",
    "    #Calculating the number of rows (i.e., deployments) per site_id\n",
    "    number = pd.NamedAgg(column = 'site_id', aggfunc = 'count')).compute()\n",
    "\n",
    "#Checking the contents of the dataframe - First five rows\n",
    "counts.head()"
   ]
  },
  {
   "attachments": {},
   "cell_type": "markdown",
   "metadata": {},
   "source": [
    "### Plotting the deployment sites\n",
    "Now that we have the mean deployment coordinates for each site, we can plot them on a map. We will plot the data using markers which will change in size in proportion to the number of temperature records taken at each site."
   ]
  },
  {
   "cell_type": "code",
   "execution_count": 17,
   "metadata": {},
   "outputs": [
    {
     "data": {
      "text/plain": [
       "<cartopy.mpl.feature_artist.FeatureArtist at 0x266131c65d0>"
      ]
     },
     "execution_count": 17,
     "metadata": {},
     "output_type": "execute_result"
    },
    {
     "name": "stderr",
     "output_type": "stream",
     "text": [
      "c:\\Users\\ldfierro\\AppData\\Local\\miniconda3\\envs\\rimrep\\Lib\\site-packages\\cartopy\\io\\__init__.py:241: DownloadWarning: Downloading: https://naturalearth.s3.amazonaws.com/10m_physical/ne_10m_land.zip\n",
      "  warnings.warn(f'Downloading: {url}', DownloadWarning)\n"
     ]
    },
    {
     "data": {
      "image/png": "[encoded data removed]",
      "text/plain": [
       "<Figure size 640x480 with 1 Axes>"
      ]
     },
     "metadata": {},
     "output_type": "display_data"
    }
   ],
   "source": [
    "#Initiliasing the figure\n",
    "fig = plt.figure()\n",
    "\n",
    "#Adding a plot to the figure and assigning projection\n",
    "ax = plt.axes(projection = ccrs.PlateCarree())\n",
    "\n",
    "#Plotting the data using a scatter plot\n",
    "ax.scatter(x = counts.lon, y = counts.lat, s = counts.number/50000, alpha = 0.5)\n",
    "\n",
    "#Adding a basemap of land areas\n",
    "ax.add_feature(cf.LAND)"
   ]
  },
  {
   "attachments": {},
   "cell_type": "markdown",
   "metadata": {},
   "source": [
    "## Connecting to S3 bucket and loading temperature data for a specific region\n",
    "In the previous section we showed how to filter data using a bounding box. We provided a maximum and minimum coordinates for this bounding box around the GBRMPA. In this section, we will show how to filter data using a more complex shape. We will define a polygon for an area of interest and use this polygon to filter the temperature data.  \n",
    "  \n",
    "We will use the boundaries of the South-east of Great Palm Island as our area of interest. Note that each pair of coordinates represents a node along the polygon boundary. It should also be noted that the first and last coordinates must be the same as to close the polygon."
   ]
  },
  {
   "cell_type": "code",
   "execution_count": 4,
   "metadata": {},
   "outputs": [
    {
     "data": {
      "image/svg+xml": [
       "<svg xmlns=\"http://www.w3.org/2000/svg\" xmlns:xlink=\"http://www.w3.org/1999/xlink\" width=\"100.0\" height=\"100.0\" viewBox=\"146.48931316504 -18.9698480989599 0.5252073469200127 0.4560028749198999\" preserveAspectRatio=\"xMinYMin meet\"><g transform=\"matrix(1,0,0,-1,0,-37.4836933229999)\"><path fill-rule=\"evenodd\" fill=\"#66cc99\" stroke=\"#555555\" stroke-width=\"0.010504146938400254\" opacity=\"0.6\" d=\"M 146.551097906,-18.533297348 L 146.995068388,-18.829679637 L 146.995068388,-18.9503959749999 L 146.741000438,-18.9503959749999 L 146.726817846,-18.9503959749999 L 146.726817846,-18.901664877 L 146.559980192,-18.901664877 L 146.559980192,-18.860043204 L 146.559980192,-18.830003607 L 146.559980192,-18.7916486789999 L 146.699865007,-18.7916486789999 L 146.699865007,-18.7975971989999 L 146.725899924,-18.7975971989999 L 146.725899924,-18.746824945 L 146.725899924,-18.7468142619999 L 146.725872512,-18.746799391 L 146.587994956,-18.672003247 L 146.587994956,-18.665847742 L 146.508765289,-18.5543376589999 L 146.508765289,-18.544419717 L 146.508765289,-18.533297348 L 146.551097906,-18.533297348 z\" /></g></svg>"
      ],
      "text/plain": [
       "<POLYGON ((146.551 -18.533, 146.995 -18.83, 146.995 -18.95, 146.741 -18.95, ...>"
      ]
     },
     "execution_count": 4,
     "metadata": {},
     "output_type": "execute_result"
    }
   ],
   "source": [
    "# Defining boundaries of the GBRMP zone MNP-18-1082 \"South-east of Great Palm Island\"\n",
    "boundary = Polygon(\n",
    "    [(146.551097906,-18.533297348),\n",
    "    (146.995068388,-18.829679637),\n",
    "    (146.995068388,-18.9503959749999),\n",
    "    (146.741000438,-18.9503959749999),\n",
    "    (146.726817846,-18.9503959749999),\n",
    "    (146.726817846,-18.901664877),\n",
    "    (146.559980192,-18.901664877),\n",
    "    (146.559980192,-18.860043204),\n",
    "    (146.559980192,-18.830003607),\n",
    "    (146.559980192,-18.7916486789999),\n",
    "    (146.699865007,-18.7916486789999),\n",
    "    (146.699865007,-18.7975971989999),\n",
    "    (146.725899924,-18.7975971989999),\n",
    "    (146.725899924,-18.746824945),\n",
    "    (146.725899924,-18.7468142619999),\n",
    "    (146.725872512,-18.746799391),\n",
    "    (146.587994956,-18.672003247),\n",
    "    (146.587994956,-18.665847742),\n",
    "    (146.508765289,-18.5543376589999),\n",
    "    (146.508765289,-18.544419717),\n",
    "    (146.508765289,-18.533297348),\n",
    "    (146.551097906,-18.533297348)]\n",
    ")\n",
    "\n",
    "# Checking the variable we just created\n",
    "boundary"
   ]
  },
  {
   "attachments": {},
   "cell_type": "markdown",
   "metadata": {},
   "source": [
    "Our polygon has been successfully defined as a `shapely` polygon. We can now use this polygon to filter the AIMS temperature data. We will use the `within` method to filter the data. This method will return `True` if the coordinates of a temperature record are within the polygon and `False` if they are not."
   ]
  },
  {
   "attachments": {},
   "cell_type": "markdown",
   "metadata": {},
   "source": [
    "### Building a filter using polygon boundaries\n",
    "Filtering the temperature data using the shape directly is possible, but not very inefficient. This why we will use a 2-step approach. First, we will filter the data using a bounding box as shown in the section above. Second, we will intersect the filtered data with the polygon we defined above."
   ]
  },
  {
   "cell_type": "code",
   "execution_count": 5,
   "metadata": {},
   "outputs": [],
   "source": [
    "# Getting the bounding box for the polygon defined above\n",
    "minx, miny, maxx, maxy = boundary.bounds\n",
    "\n",
    "# Building the filter using the bounding box\n",
    "filter = [('lon', '>=', minx),\n",
    "          ('lat', '>=', miny),\n",
    "          ('lon', '<=', maxx),\n",
    "          ('lat', '<=', maxy),\n",
    "          #We will add another condition to our filter. We will only keep data with quality control flag 1\n",
    "          ('qc_flag', '=', 1),\n",
    "          #('time', '>=', pd.Timestamp('2002-07-20', tz=\"UTC\"))\n",
    "          #('time', '<', pd.Timestamp('2002-07-20', tz=\"UTC\"))\n",
    "          ]"
   ]
  },
  {
   "attachments": {},
   "cell_type": "markdown",
   "metadata": {},
   "source": [
    "### Applying filter to AIMS dataset using `pyarrow`\n",
    "We will connect to the S3 bucket using `pyarrow`, but we will only load the columns of our interest:  \n",
    "- `fid`: unique ID,\n",
    "- `site`: name of deployment site,\n",
    "- `qc_val`: quality controlled temperature,\n",
    "- `geometry`: coordinates of logger deployment sites given in  [well-known binary (WKB)](https://loc.gov/preservation/digital/formats/fdd/fdd000549.shtml) format."
   ]
  },
  {
   "cell_type": "code",
   "execution_count": 6,
   "metadata": {},
   "outputs": [
    {
     "data": {
      "text/plain": [
       "<pyarrow.parquet.core._ParquetDatasetV2 at 0x2270755b610>"
      ]
     },
     "execution_count": 6,
     "metadata": {},
     "output_type": "execute_result"
    }
   ],
   "source": [
    "# Connecting to the S3 bucket where the AIMS temperature data is stored\n",
    "ds = pq.ParquetDataset(\"s3://rimrep-data-public/091-aims-sst/test-50-64-spatialpart/\", \n",
    "                       #Applying filter\n",
    "                       filters = [filter]) "
   ]
  },
  {
   "attachments": {},
   "cell_type": "markdown",
   "metadata": {},
   "source": [
    "The above code chunk creates a `Parquet Dataset` object that contains data from the AIMS temperature dataset that has been filtered using the bounding box we defined above. We can now choose which columns we want to read from this dataset: `fid`, `site`, `qc_val` and `geometry`. Finally, we can turn it into a `pandas` dataframe by calling the `to_pandas()` method as shown below.  \n",
    "  \n",
    "Note that this make take a few minutes depending on your internet connection. This is because we are querying over 150 million temperature records."
   ]
  },
  {
   "cell_type": "code",
   "execution_count": 8,
   "metadata": {},
   "outputs": [
    {
     "data": {
      "text/html": [
       "<div>\n",
       "<style scoped>\n",
       "    .dataframe tbody tr th:only-of-type {\n",
       "        vertical-align: middle;\n",
       "    }\n",
       "\n",
       "    .dataframe tbody tr th {\n",
       "        vertical-align: top;\n",
       "    }\n",
       "\n",
       "    .dataframe thead th {\n",
       "        text-align: right;\n",
       "    }\n",
       "</style>\n",
       "<table border=\"1\" class=\"dataframe\">\n",
       "  <thead>\n",
       "    <tr style=\"text-align: right;\">\n",
       "      <th></th>\n",
       "      <th>fid</th>\n",
       "      <th>site</th>\n",
       "      <th>qc_val</th>\n",
       "      <th>geometry</th>\n",
       "    </tr>\n",
       "  </thead>\n",
       "  <tbody>\n",
       "    <tr>\n",
       "      <th>0</th>\n",
       "      <td>28085253</td>\n",
       "      <td>Orpheus Island</td>\n",
       "      <td>26.3531</td>\n",
       "      <td>b'\\x01\\x01\\x00\\x00\\x00\\x1e\\x16jM\\xf3Vb@=\\n\\xd7...</td>\n",
       "    </tr>\n",
       "    <tr>\n",
       "      <th>1</th>\n",
       "      <td>28085252</td>\n",
       "      <td>Orpheus Island</td>\n",
       "      <td>26.3232</td>\n",
       "      <td>b'\\x01\\x01\\x00\\x00\\x00\\x1e\\x16jM\\xf3Vb@=\\n\\xd7...</td>\n",
       "    </tr>\n",
       "    <tr>\n",
       "      <th>2</th>\n",
       "      <td>28085251</td>\n",
       "      <td>Orpheus Island</td>\n",
       "      <td>26.3034</td>\n",
       "      <td>b'\\x01\\x01\\x00\\x00\\x00\\x1e\\x16jM\\xf3Vb@=\\n\\xd7...</td>\n",
       "    </tr>\n",
       "    <tr>\n",
       "      <th>3</th>\n",
       "      <td>28085250</td>\n",
       "      <td>Orpheus Island</td>\n",
       "      <td>26.2934</td>\n",
       "      <td>b'\\x01\\x01\\x00\\x00\\x00\\x1e\\x16jM\\xf3Vb@=\\n\\xd7...</td>\n",
       "    </tr>\n",
       "    <tr>\n",
       "      <th>4</th>\n",
       "      <td>28085249</td>\n",
       "      <td>Orpheus Island</td>\n",
       "      <td>26.2636</td>\n",
       "      <td>b'\\x01\\x01\\x00\\x00\\x00\\x1e\\x16jM\\xf3Vb@=\\n\\xd7...</td>\n",
       "    </tr>\n",
       "  </tbody>\n",
       "</table>\n",
       "</div>"
      ],
      "text/plain": [
       "        fid            site   qc_val  \\\n",
       "0  28085253  Orpheus Island  26.3531   \n",
       "1  28085252  Orpheus Island  26.3232   \n",
       "2  28085251  Orpheus Island  26.3034   \n",
       "3  28085250  Orpheus Island  26.2934   \n",
       "4  28085249  Orpheus Island  26.2636   \n",
       "\n",
       "                                            geometry  \n",
       "0  b'\\x01\\x01\\x00\\x00\\x00\\x1e\\x16jM\\xf3Vb@=\\n\\xd7...  \n",
       "1  b'\\x01\\x01\\x00\\x00\\x00\\x1e\\x16jM\\xf3Vb@=\\n\\xd7...  \n",
       "2  b'\\x01\\x01\\x00\\x00\\x00\\x1e\\x16jM\\xf3Vb@=\\n\\xd7...  \n",
       "3  b'\\x01\\x01\\x00\\x00\\x00\\x1e\\x16jM\\xf3Vb@=\\n\\xd7...  \n",
       "4  b'\\x01\\x01\\x00\\x00\\x00\\x1e\\x16jM\\xf3Vb@=\\n\\xd7...  "
      ]
     },
     "execution_count": 8,
     "metadata": {},
     "output_type": "execute_result"
    }
   ],
   "source": [
    "# The above give us access to all columns in the dataset. Here, we specify which columns we want to read\n",
    "table = ds.read(['fid', 'site', 'qc_val', 'geometry']) \n",
    "\n",
    "# Converting to pandas dataframe\n",
    "df = table.to_pandas()\n",
    "\n",
    "# Checking the contents of the dataframe - First five rows\n",
    "df.head()"
   ]
  },
  {
   "attachments": {},
   "cell_type": "markdown",
   "metadata": {},
   "source": [
    "### Transforming `geometry` column from WKB format to coordinates\n",
    "As we can see above, the `geometry` column is not very useful in its current format (WKB). In this section, we will transform the information in this column to a `geopandas` object, which contains latitude and longitude coordinates that we can use to apply our polygon filter, and to plot the filtered `data in a map."
   ]
  },
  {
   "cell_type": "code",
   "execution_count": 10,
   "metadata": {},
   "outputs": [
    {
     "data": {
      "text/html": [
       "<div>\n",
       "<style scoped>\n",
       "    .dataframe tbody tr th:only-of-type {\n",
       "        vertical-align: middle;\n",
       "    }\n",
       "\n",
       "    .dataframe tbody tr th {\n",
       "        vertical-align: top;\n",
       "    }\n",
       "\n",
       "    .dataframe thead th {\n",
       "        text-align: right;\n",
       "    }\n",
       "</style>\n",
       "<table border=\"1\" class=\"dataframe\">\n",
       "  <thead>\n",
       "    <tr style=\"text-align: right;\">\n",
       "      <th></th>\n",
       "      <th>fid</th>\n",
       "      <th>site</th>\n",
       "      <th>qc_val</th>\n",
       "      <th>geometry</th>\n",
       "    </tr>\n",
       "  </thead>\n",
       "  <tbody>\n",
       "    <tr>\n",
       "      <th>0</th>\n",
       "      <td>28085253</td>\n",
       "      <td>Orpheus Island</td>\n",
       "      <td>26.3531</td>\n",
       "      <td>POINT (146.71720 -18.80250)</td>\n",
       "    </tr>\n",
       "    <tr>\n",
       "      <th>1</th>\n",
       "      <td>28085252</td>\n",
       "      <td>Orpheus Island</td>\n",
       "      <td>26.3232</td>\n",
       "      <td>POINT (146.71720 -18.80250)</td>\n",
       "    </tr>\n",
       "    <tr>\n",
       "      <th>2</th>\n",
       "      <td>28085251</td>\n",
       "      <td>Orpheus Island</td>\n",
       "      <td>26.3034</td>\n",
       "      <td>POINT (146.71720 -18.80250)</td>\n",
       "    </tr>\n",
       "    <tr>\n",
       "      <th>3</th>\n",
       "      <td>28085250</td>\n",
       "      <td>Orpheus Island</td>\n",
       "      <td>26.2934</td>\n",
       "      <td>POINT (146.71720 -18.80250)</td>\n",
       "    </tr>\n",
       "    <tr>\n",
       "      <th>4</th>\n",
       "      <td>28085249</td>\n",
       "      <td>Orpheus Island</td>\n",
       "      <td>26.2636</td>\n",
       "      <td>POINT (146.71720 -18.80250)</td>\n",
       "    </tr>\n",
       "    <tr>\n",
       "      <th>...</th>\n",
       "      <td>...</td>\n",
       "      <td>...</td>\n",
       "      <td>...</td>\n",
       "      <td>...</td>\n",
       "    </tr>\n",
       "    <tr>\n",
       "      <th>983715</th>\n",
       "      <td>44619517</td>\n",
       "      <td>Havannah Island</td>\n",
       "      <td>24.9381</td>\n",
       "      <td>POINT (146.54270 -18.84750)</td>\n",
       "    </tr>\n",
       "    <tr>\n",
       "      <th>983716</th>\n",
       "      <td>44619513</td>\n",
       "      <td>Havannah Island</td>\n",
       "      <td>24.9581</td>\n",
       "      <td>POINT (146.54270 -18.84750)</td>\n",
       "    </tr>\n",
       "    <tr>\n",
       "      <th>983717</th>\n",
       "      <td>44619520</td>\n",
       "      <td>Havannah Island</td>\n",
       "      <td>24.9281</td>\n",
       "      <td>POINT (146.54270 -18.84750)</td>\n",
       "    </tr>\n",
       "    <tr>\n",
       "      <th>983718</th>\n",
       "      <td>44619519</td>\n",
       "      <td>Havannah Island</td>\n",
       "      <td>24.9281</td>\n",
       "      <td>POINT (146.54270 -18.84750)</td>\n",
       "    </tr>\n",
       "    <tr>\n",
       "      <th>983719</th>\n",
       "      <td>44619518</td>\n",
       "      <td>Havannah Island</td>\n",
       "      <td>24.9381</td>\n",
       "      <td>POINT (146.54270 -18.84750)</td>\n",
       "    </tr>\n",
       "  </tbody>\n",
       "</table>\n",
       "<p>983720 rows × 4 columns</p>\n",
       "</div>"
      ],
      "text/plain": [
       "             fid             site   qc_val                     geometry\n",
       "0       28085253   Orpheus Island  26.3531  POINT (146.71720 -18.80250)\n",
       "1       28085252   Orpheus Island  26.3232  POINT (146.71720 -18.80250)\n",
       "2       28085251   Orpheus Island  26.3034  POINT (146.71720 -18.80250)\n",
       "3       28085250   Orpheus Island  26.2934  POINT (146.71720 -18.80250)\n",
       "4       28085249   Orpheus Island  26.2636  POINT (146.71720 -18.80250)\n",
       "...          ...              ...      ...                          ...\n",
       "983715  44619517  Havannah Island  24.9381  POINT (146.54270 -18.84750)\n",
       "983716  44619513  Havannah Island  24.9581  POINT (146.54270 -18.84750)\n",
       "983717  44619520  Havannah Island  24.9281  POINT (146.54270 -18.84750)\n",
       "983718  44619519  Havannah Island  24.9281  POINT (146.54270 -18.84750)\n",
       "983719  44619518  Havannah Island  24.9381  POINT (146.54270 -18.84750)\n",
       "\n",
       "[983720 rows x 4 columns]"
      ]
     },
     "execution_count": 10,
     "metadata": {},
     "output_type": "execute_result"
    }
   ],
   "source": [
    "# Transforming the geometry column into a geopandas geometry object\n",
    "geom = gpd.GeoSeries.from_wkb(df['geometry'])\n",
    "\n",
    "# Replacing the original geometry column in WKB format with the new geometry object containing lat and lon coordinates, and changing to a geopandas dataframe\n",
    "gdf = gpd.GeoDataFrame(df, geometry = geom)\n",
    "\n",
    "#Checking results\n",
    "gdf"
   ]
  },
  {
   "attachments": {},
   "cell_type": "markdown",
   "metadata": {},
   "source": [
    "### Applying polygon filter to temperature data\n",
    "Now that we have transformed the `geometry` column into a `geopandas` object, we can apply our polygon filter. We will use the `within` method to filter the data."
   ]
  },
  {
   "cell_type": "code",
   "execution_count": 11,
   "metadata": {},
   "outputs": [
    {
     "data": {
      "text/html": [
       "<div>\n",
       "<style scoped>\n",
       "    .dataframe tbody tr th:only-of-type {\n",
       "        vertical-align: middle;\n",
       "    }\n",
       "\n",
       "    .dataframe tbody tr th {\n",
       "        vertical-align: top;\n",
       "    }\n",
       "\n",
       "    .dataframe thead th {\n",
       "        text-align: right;\n",
       "    }\n",
       "</style>\n",
       "<table border=\"1\" class=\"dataframe\">\n",
       "  <thead>\n",
       "    <tr style=\"text-align: right;\">\n",
       "      <th></th>\n",
       "      <th>fid</th>\n",
       "      <th>site</th>\n",
       "      <th>qc_val</th>\n",
       "      <th>geometry</th>\n",
       "    </tr>\n",
       "  </thead>\n",
       "  <tbody>\n",
       "    <tr>\n",
       "      <th>0</th>\n",
       "      <td>28085253</td>\n",
       "      <td>Orpheus Island</td>\n",
       "      <td>26.3531</td>\n",
       "      <td>POINT (146.71720 -18.80250)</td>\n",
       "    </tr>\n",
       "    <tr>\n",
       "      <th>1</th>\n",
       "      <td>28085252</td>\n",
       "      <td>Orpheus Island</td>\n",
       "      <td>26.3232</td>\n",
       "      <td>POINT (146.71720 -18.80250)</td>\n",
       "    </tr>\n",
       "    <tr>\n",
       "      <th>2</th>\n",
       "      <td>28085251</td>\n",
       "      <td>Orpheus Island</td>\n",
       "      <td>26.3034</td>\n",
       "      <td>POINT (146.71720 -18.80250)</td>\n",
       "    </tr>\n",
       "    <tr>\n",
       "      <th>3</th>\n",
       "      <td>28085250</td>\n",
       "      <td>Orpheus Island</td>\n",
       "      <td>26.2934</td>\n",
       "      <td>POINT (146.71720 -18.80250)</td>\n",
       "    </tr>\n",
       "    <tr>\n",
       "      <th>4</th>\n",
       "      <td>28085249</td>\n",
       "      <td>Orpheus Island</td>\n",
       "      <td>26.2636</td>\n",
       "      <td>POINT (146.71720 -18.80250)</td>\n",
       "    </tr>\n",
       "    <tr>\n",
       "      <th>...</th>\n",
       "      <td>...</td>\n",
       "      <td>...</td>\n",
       "      <td>...</td>\n",
       "      <td>...</td>\n",
       "    </tr>\n",
       "    <tr>\n",
       "      <th>50547</th>\n",
       "      <td>27760270</td>\n",
       "      <td>Orpheus Island</td>\n",
       "      <td>28.6604</td>\n",
       "      <td>POINT (146.71720 -18.80250)</td>\n",
       "    </tr>\n",
       "    <tr>\n",
       "      <th>50548</th>\n",
       "      <td>27760267</td>\n",
       "      <td>Orpheus Island</td>\n",
       "      <td>28.6902</td>\n",
       "      <td>POINT (146.71720 -18.80250)</td>\n",
       "    </tr>\n",
       "    <tr>\n",
       "      <th>50549</th>\n",
       "      <td>27762279</td>\n",
       "      <td>Orpheus Island</td>\n",
       "      <td>28.6703</td>\n",
       "      <td>POINT (146.71720 -18.80250)</td>\n",
       "    </tr>\n",
       "    <tr>\n",
       "      <th>50550</th>\n",
       "      <td>27760269</td>\n",
       "      <td>Orpheus Island</td>\n",
       "      <td>28.6703</td>\n",
       "      <td>POINT (146.71720 -18.80250)</td>\n",
       "    </tr>\n",
       "    <tr>\n",
       "      <th>50551</th>\n",
       "      <td>27760268</td>\n",
       "      <td>Orpheus Island</td>\n",
       "      <td>28.6803</td>\n",
       "      <td>POINT (146.71720 -18.80250)</td>\n",
       "    </tr>\n",
       "  </tbody>\n",
       "</table>\n",
       "<p>50552 rows × 4 columns</p>\n",
       "</div>"
      ],
      "text/plain": [
       "            fid            site   qc_val                     geometry\n",
       "0      28085253  Orpheus Island  26.3531  POINT (146.71720 -18.80250)\n",
       "1      28085252  Orpheus Island  26.3232  POINT (146.71720 -18.80250)\n",
       "2      28085251  Orpheus Island  26.3034  POINT (146.71720 -18.80250)\n",
       "3      28085250  Orpheus Island  26.2934  POINT (146.71720 -18.80250)\n",
       "4      28085249  Orpheus Island  26.2636  POINT (146.71720 -18.80250)\n",
       "...         ...             ...      ...                          ...\n",
       "50547  27760270  Orpheus Island  28.6604  POINT (146.71720 -18.80250)\n",
       "50548  27760267  Orpheus Island  28.6902  POINT (146.71720 -18.80250)\n",
       "50549  27762279  Orpheus Island  28.6703  POINT (146.71720 -18.80250)\n",
       "50550  27760269  Orpheus Island  28.6703  POINT (146.71720 -18.80250)\n",
       "50551  27760268  Orpheus Island  28.6803  POINT (146.71720 -18.80250)\n",
       "\n",
       "[50552 rows x 4 columns]"
      ]
     },
     "execution_count": 11,
     "metadata": {},
     "output_type": "execute_result"
    }
   ],
   "source": [
    "# Intersecting filtered temperature data with the polygon created at the beginning of this section\n",
    "gdf = gdf[gdf['geometry'].within(boundary)]\n",
    "\n",
    "#Checking results\n",
    "gdf"
   ]
  },
  {
   "attachments": {},
   "cell_type": "markdown",
   "metadata": {},
   "source": [
    "By applying this polygon filter, the number of rows were reduced from almost one million records to just over 50,500 records. We can now plot the filtered data on a map."
   ]
  },
  {
   "attachments": {},
   "cell_type": "markdown",
   "metadata": {},
   "source": [
    "### Plotting map of filtered data"
   ]
  },
  {
   "cell_type": "code",
   "execution_count": 40,
   "metadata": {},
   "outputs": [
    {
     "data": {
      "text/plain": [
       "(146.008765289, 147.495068388)"
      ]
     },
     "execution_count": 40,
     "metadata": {},
     "output_type": "execute_result"
    },
    {
     "data": {
      "image/png": "[encoded data removed]",
      "text/plain": [
       "<Figure size 640x480 with 1 Axes>"
      ]
     },
     "metadata": {},
     "output_type": "display_data"
    }
   ],
   "source": [
    "#Initiliasing the figure\n",
    "fig = plt.figure()\n",
    "\n",
    "#Adding a plot to the figure and assigning projection\n",
    "ax = plt.axes(projection = ccrs.PlateCarree())\n",
    "\n",
    "#Plotting the mean location for all deployment sites \n",
    "ax.scatter(x = counts.lon, y = counts.lat, alpha = 0.5)\n",
    "\n",
    "#Plotting the unqiue location filtered temperature data\n",
    "gpd.GeoSeries(pd.unique(gdf.geometry)).plot(color = 'green', ax = ax)\n",
    "\n",
    "#Plotting the boundary of the GBRMP zone MNP-18-1082 \"South-east of Great Palm Island\"\n",
    "gpd.GeoSeries(boundary).plot(ax = ax, color = 'red', alpha=0.2)\n",
    "\n",
    "#Adding a basemap of land areas\n",
    "ax.add_feature(cf.LAND)\n",
    "\n",
    "#Changing the limits of the plot to zoom in on the GBRMP zone MNP-18-1082 \"South-east of Great Palm Island\"\n",
    "plt.ylim([miny-0.5, maxy+0.5])\n",
    "plt.xlim([minx-0.5, maxx+0.5])"
   ]
  },
  {
   "attachments": {},
   "cell_type": "markdown",
   "metadata": {},
   "source": [
    "## Accessing S3 bucket and filtering data using `dask_geopandas`\n",
    "We can use geopandas directly to extract the data from the S3 bucket. This section offers a different approach to the section before, but the results are the same."
   ]
  },
  {
   "cell_type": "code",
   "execution_count": 41,
   "metadata": {},
   "outputs": [],
   "source": [
    "# Connecting to S3 bucket\n",
    "dask_geo_df = dask_geopandas.read_parquet(\"s3://rimrep-data-public/091-aims-sst/test-50-64-spatialpart/\", \n",
    "                                          #Applying initial bounding box filter\n",
    "                                          filters = [filter], \n",
    "                                          #Specifying which columns to read\n",
    "                                          columns = ['site', 'time', 'qc_val', 'geometry'],\n",
    "                                          #Specifying the column to be used as index\n",
    "                                          index = 'fid',\n",
    "                                          #Connecting anonimously as no authentication is needed for this s3 bucket (it is public)\n",
    "                                          storage_options = {\"anon\": True}) "
   ]
  },
  {
   "attachments": {},
   "cell_type": "markdown",
   "metadata": {},
   "source": [
    "We have established the connection to the S3 bucket and applied the initial bounding box filter. Now, we will filter the data further by applying the polygon filter by applying the `within` method to the `geometry` column. We will then apply the `compute()` method to load the filtered data into memory."
   ]
  },
  {
   "cell_type": "code",
   "execution_count": 42,
   "metadata": {},
   "outputs": [
    {
     "data": {
      "text/html": [
       "<div>\n",
       "<style scoped>\n",
       "    .dataframe tbody tr th:only-of-type {\n",
       "        vertical-align: middle;\n",
       "    }\n",
       "\n",
       "    .dataframe tbody tr th {\n",
       "        vertical-align: top;\n",
       "    }\n",
       "\n",
       "    .dataframe thead th {\n",
       "        text-align: right;\n",
       "    }\n",
       "</style>\n",
       "<table border=\"1\" class=\"dataframe\">\n",
       "  <thead>\n",
       "    <tr style=\"text-align: right;\">\n",
       "      <th></th>\n",
       "      <th>site</th>\n",
       "      <th>time</th>\n",
       "      <th>qc_val</th>\n",
       "      <th>geometry</th>\n",
       "    </tr>\n",
       "    <tr>\n",
       "      <th>fid</th>\n",
       "      <th></th>\n",
       "      <th></th>\n",
       "      <th></th>\n",
       "      <th></th>\n",
       "    </tr>\n",
       "  </thead>\n",
       "  <tbody>\n",
       "    <tr>\n",
       "      <th>28085253</th>\n",
       "      <td>Orpheus Island</td>\n",
       "      <td>2012-05-06 03:21:47+00:00</td>\n",
       "      <td>26.3531</td>\n",
       "      <td>POINT (146.71720 -18.80250)</td>\n",
       "    </tr>\n",
       "    <tr>\n",
       "      <th>28085252</th>\n",
       "      <td>Orpheus Island</td>\n",
       "      <td>2012-05-06 03:11:47+00:00</td>\n",
       "      <td>26.3232</td>\n",
       "      <td>POINT (146.71720 -18.80250)</td>\n",
       "    </tr>\n",
       "    <tr>\n",
       "      <th>28085251</th>\n",
       "      <td>Orpheus Island</td>\n",
       "      <td>2012-05-06 03:01:47+00:00</td>\n",
       "      <td>26.3034</td>\n",
       "      <td>POINT (146.71720 -18.80250)</td>\n",
       "    </tr>\n",
       "    <tr>\n",
       "      <th>28085250</th>\n",
       "      <td>Orpheus Island</td>\n",
       "      <td>2012-05-06 02:51:47+00:00</td>\n",
       "      <td>26.2934</td>\n",
       "      <td>POINT (146.71720 -18.80250)</td>\n",
       "    </tr>\n",
       "    <tr>\n",
       "      <th>28085249</th>\n",
       "      <td>Orpheus Island</td>\n",
       "      <td>2012-05-06 02:41:47+00:00</td>\n",
       "      <td>26.2636</td>\n",
       "      <td>POINT (146.71720 -18.80250)</td>\n",
       "    </tr>\n",
       "  </tbody>\n",
       "</table>\n",
       "</div>"
      ],
      "text/plain": [
       "                    site                      time   qc_val  \\\n",
       "fid                                                           \n",
       "28085253  Orpheus Island 2012-05-06 03:21:47+00:00  26.3531   \n",
       "28085252  Orpheus Island 2012-05-06 03:11:47+00:00  26.3232   \n",
       "28085251  Orpheus Island 2012-05-06 03:01:47+00:00  26.3034   \n",
       "28085250  Orpheus Island 2012-05-06 02:51:47+00:00  26.2934   \n",
       "28085249  Orpheus Island 2012-05-06 02:41:47+00:00  26.2636   \n",
       "\n",
       "                             geometry  \n",
       "fid                                    \n",
       "28085253  POINT (146.71720 -18.80250)  \n",
       "28085252  POINT (146.71720 -18.80250)  \n",
       "28085251  POINT (146.71720 -18.80250)  \n",
       "28085250  POINT (146.71720 -18.80250)  \n",
       "28085249  POINT (146.71720 -18.80250)  "
      ]
     },
     "execution_count": 42,
     "metadata": {},
     "output_type": "execute_result"
    }
   ],
   "source": [
    "# Intersecting filtered data with geometry boundaries\n",
    "dask_geo_df = dask_geo_df[dask_geo_df['geometry'].within(boundary)]\n",
    "\n",
    "# Do the computation!\n",
    "gdf = dask_geo_df.compute()\n",
    "\n",
    "#Check results\n",
    "gdf.head()"
   ]
  },
  {
   "attachments": {},
   "cell_type": "markdown",
   "metadata": {},
   "source": [
    "### Plotting map of filtered data\n",
    "This map should be exactly the same as the previous map because both data filtering methods are equivalent and produce the same results."
   ]
  },
  {
   "cell_type": "code",
   "execution_count": 47,
   "metadata": {},
   "outputs": [
    {
     "data": {
      "text/plain": [
       "(146.008765289, 147.495068388)"
      ]
     },
     "execution_count": 47,
     "metadata": {},
     "output_type": "execute_result"
    },
    {
     "data": {
      "image/png": "[encoded data removed]",
      "text/plain": [
       "<Figure size 640x480 with 1 Axes>"
      ]
     },
     "metadata": {},
     "output_type": "display_data"
    }
   ],
   "source": [
    "#Initiliasing the figure\n",
    "fig = plt.figure()\n",
    "\n",
    "#Adding a plot to the figure and assigning projection\n",
    "ax = plt.axes(projection = ccrs.PlateCarree())\n",
    "\n",
    "#Plotting the mean location for all deployment sites \n",
    "ax.scatter(x = counts.lon, y = counts.lat, alpha = 0.5)\n",
    "\n",
    "#Plotting the unqiue location filtered temperature data\n",
    "gpd.GeoSeries(pd.unique(gdf.geometry)).plot(color = 'purple', ax = ax)\n",
    "\n",
    "#Plotting the boundary of the GBRMP zone MNP-18-1082 \"South-east of Great Palm Island\"\n",
    "gpd.GeoSeries(boundary).plot(ax = ax, color = 'green', alpha=0.2)\n",
    "\n",
    "#Adding a basemap of land areas\n",
    "ax.add_feature(cf.LAND)\n",
    "\n",
    "#Changing the limits of the plot to zoom in on the GBRMP zone MNP-18-1082 \"South-east of Great Palm Island\"\n",
    "plt.ylim([miny-0.5, maxy+0.5])\n",
    "plt.xlim([minx-0.5, maxx+0.5])"
   ]
  },
  {
   "attachments": {},
   "cell_type": "markdown",
   "metadata": {},
   "source": [
    "### Plotting time series of filtered data\n",
    "We selected the time column to be included in the data we extracted using `dask_geopandas`, so we will use this information to plot a time series of the filtered data."
   ]
  },
  {
   "cell_type": "code",
   "execution_count": 52,
   "metadata": {},
   "outputs": [
    {
     "data": {
      "text/plain": [
       "<matplotlib.collections.PathCollection at 0x22721018850>"
      ]
     },
     "execution_count": 52,
     "metadata": {},
     "output_type": "execute_result"
    },
    {
     "data": {
      "image/png": "[encoded data removed]",
      "text/plain": [
       "<Figure size 640x480 with 1 Axes>"
      ]
     },
     "metadata": {},
     "output_type": "display_data"
    }
   ],
   "source": [
    "#Initiliasing the figure\n",
    "fig = plt.figure()\n",
    "\n",
    "#Adding a plot to the figure\n",
    "ax = plt.axes()\n",
    "\n",
    "#Plotting the temperature data across time at the filtered location\n",
    "ax.scatter(x = gdf.time, y = gdf.qc_val, alpha = 0.5, s = 0.5)"
   ]
  }
 ],
 "metadata": {
  "kernelspec": {
   "display_name": "Python 3",
   "language": "python",
   "name": "python3"
  },
  "language_info": {
   "codemirror_mode": {
    "name": "ipython",
    "version": 3
   },
   "file_extension": ".py",
   "mimetype": "text/x-python",
   "name": "python",
   "nbconvert_exporter": "python",
   "pygments_lexer": "ipython3",
   "version": "3.11.4"
  },
  "orig_nbformat": 4,
  "vscode": {
   "interpreter": {
    "hash": "62e598b81e8297da5d40950c3453010588329d0d6a0295ba186ada6308140d3b"
   }
  }
 },
 "nbformat": 4,
 "nbformat_minor": 2
}

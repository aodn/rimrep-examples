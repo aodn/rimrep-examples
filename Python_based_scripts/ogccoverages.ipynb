{
 "cells": [
  {
   "attachments": {},
   "cell_type": "markdown",
   "metadata": {},
   "source": [
    "# Data API: OGC Coverages example\n",
    "\n",
    "OGC Coverages is the replacement for Web Coverage Service. It is only a draft standard at the moment.\n",
    "\n",
    "More info about the API can be found here - https://ogcapi.ogc.org/coverages/overview.html\n",
    "\n",
    "### Using NOAA CRW degree heating week data as an example - this notebook demonstrates\n",
    "\n",
    "- List available datasets (coverages)\n",
    "- Get metadata for a coverage\n",
    "- Get \"domain set\" for a coverage\n",
    "- Get \"range type\" for a coverage\n",
    "- Fetch single time step across entire spatial extent\n",
    "  - as CoverageJSON\n",
    "  - as zipped zarr dataset\n",
    "- Fetch single point across time interval\n",
    "  - as CoverageJSON\n",
    "  - as zipped zarr dataset\n",
    "\n",
    "### Notes on `owslib`\n",
    "\n",
    "`owslib` is a python library for working with OGC web services and the new OGC APIs - it has incomplete support for OGC Coverages.\n",
    "\n",
    "### Notes on CoverageJSON\n",
    "\n",
    "- It is a new and immature format\n",
    "- Not widely supported (no nice python wrapper for it yet)\n",
    "- Basically it returns a flat JSON array with a bunch of metadata"
   ]
  },
  {
   "cell_type": "code",
   "execution_count": 2,
   "metadata": {},
   "outputs": [
    {
     "name": "stdout",
     "output_type": "stream",
     "text": [
      "Collecting matplotlib\n",
      "  Downloading matplotlib-3.7.1-cp311-cp311-macosx_10_12_x86_64.whl (7.4 MB)\n",
      "\u001b[2K     ━━━━━━━━━━━━━━━━━━━━━━━━━━━━━━━━━━━━━━━━ 7.4/7.4 MB 22.3 MB/s eta 0:00:00\n",
      "\u001b[?25hCollecting contourpy>=1.0.1 (from matplotlib)\n",
      "  Downloading contourpy-1.1.0-cp311-cp311-macosx_10_9_x86_64.whl (243 kB)\n",
      "\u001b[2K     ━━━━━━━━━━━━━━━━━━━━━━━━━━━━━━━━━━━━━━━ 243.5/243.5 kB 7.9 MB/s eta 0:00:00\n",
      "\u001b[?25hCollecting cycler>=0.10 (from matplotlib)\n",
      "  Downloading cycler-0.11.0-py3-none-any.whl (6.4 kB)\n",
      "Collecting fonttools>=4.22.0 (from matplotlib)\n",
      "  Downloading fonttools-4.40.0-cp311-cp311-macosx_10_9_x86_64.whl (2.1 MB)\n",
      "\u001b[2K     ━━━━━━━━━━━━━━━━━━━━━━━━━━━━━━━━━━━━━━━━ 2.1/2.1 MB 27.9 MB/s eta 0:00:00\n",
      "\u001b[?25hCollecting kiwisolver>=1.0.1 (from matplotlib)\n",
      "  Downloading kiwisolver-1.4.4-cp311-cp311-macosx_10_9_x86_64.whl (65 kB)\n",
      "\u001b[2K     ━━━━━━━━━━━━━━━━━━━━━━━━━━━━━━━━━━━━━━━━ 65.5/65.5 kB 2.2 MB/s eta 0:00:00\n",
      "\u001b[?25hRequirement already satisfied: numpy>=1.20 in /Library/Frameworks/Python.framework/Versions/3.11/lib/python3.11/site-packages (from matplotlib) (1.25.0)\n",
      "Requirement already satisfied: packaging>=20.0 in /Users/mmiller8/Library/Python/3.11/lib/python/site-packages (from matplotlib) (23.1)\n",
      "Collecting pillow>=6.2.0 (from matplotlib)\n",
      "  Downloading Pillow-9.5.0-cp311-cp311-macosx_10_10_x86_64.whl (3.4 MB)\n",
      "\u001b[2K     ━━━━━━━━━━━━━━━━━━━━━━━━━━━━━━━━━━━━━━━━ 3.4/3.4 MB 28.6 MB/s eta 0:00:00\n",
      "\u001b[?25hCollecting pyparsing>=2.3.1 (from matplotlib)\n",
      "  Downloading pyparsing-3.1.0-py3-none-any.whl (102 kB)\n",
      "\u001b[2K     ━━━━━━━━━━━━━━━━━━━━━━━━━━━━━━━━━━━━━━━ 102.6/102.6 kB 3.6 MB/s eta 0:00:00\n",
      "\u001b[?25hRequirement already satisfied: python-dateutil>=2.7 in /Users/mmiller8/Library/Python/3.11/lib/python/site-packages (from matplotlib) (2.8.2)\n",
      "Requirement already satisfied: six>=1.5 in /Users/mmiller8/Library/Python/3.11/lib/python/site-packages (from python-dateutil>=2.7->matplotlib) (1.16.0)\n",
      "Installing collected packages: pyparsing, pillow, kiwisolver, fonttools, cycler, contourpy, matplotlib\n",
      "Successfully installed contourpy-1.1.0 cycler-0.11.0 fonttools-4.40.0 kiwisolver-1.4.4 matplotlib-3.7.1 pillow-9.5.0 pyparsing-3.1.0\n",
      "Successfully installed matplotlib\n",
      "Requirement already satisfied: numpy in /Library/Frameworks/Python.framework/Versions/3.11/lib/python3.11/site-packages (1.25.0)\n",
      "Successfully installed numpy\n",
      "Requirement already satisfied: requests in /Library/Frameworks/Python.framework/Versions/3.11/lib/python3.11/site-packages (2.31.0)\n",
      "Requirement already satisfied: charset-normalizer<4,>=2 in /Library/Frameworks/Python.framework/Versions/3.11/lib/python3.11/site-packages (from requests) (3.1.0)\n",
      "Requirement already satisfied: idna<4,>=2.5 in /Library/Frameworks/Python.framework/Versions/3.11/lib/python3.11/site-packages (from requests) (3.4)\n",
      "Requirement already satisfied: urllib3<3,>=1.21.1 in /Library/Frameworks/Python.framework/Versions/3.11/lib/python3.11/site-packages (from requests) (2.0.3)\n",
      "Requirement already satisfied: certifi>=2017.4.17 in /Library/Frameworks/Python.framework/Versions/3.11/lib/python3.11/site-packages (from requests) (2022.12.7)\n",
      "Successfully installed requests\n",
      "Collecting xarray\n",
      "  Downloading xarray-2023.6.0-py3-none-any.whl (999 kB)\n",
      "\u001b[2K     ━━━━━━━━━━━━━━━━━━━━━━━━━━━━━━━━━━━━━━━ 999.1/999.1 kB 9.3 MB/s eta 0:00:00\n",
      "\u001b[?25hRequirement already satisfied: numpy>=1.21 in /Library/Frameworks/Python.framework/Versions/3.11/lib/python3.11/site-packages (from xarray) (1.25.0)\n",
      "Requirement already satisfied: pandas>=1.4 in /Library/Frameworks/Python.framework/Versions/3.11/lib/python3.11/site-packages (from xarray) (2.0.2)\n",
      "Requirement already satisfied: packaging>=21.3 in /Users/mmiller8/Library/Python/3.11/lib/python/site-packages (from xarray) (23.1)\n",
      "Requirement already satisfied: python-dateutil>=2.8.2 in /Users/mmiller8/Library/Python/3.11/lib/python/site-packages (from pandas>=1.4->xarray) (2.8.2)\n",
      "Requirement already satisfied: pytz>=2020.1 in /Library/Frameworks/Python.framework/Versions/3.11/lib/python3.11/site-packages (from pandas>=1.4->xarray) (2023.3)\n",
      "Requirement already satisfied: tzdata>=2022.1 in /Library/Frameworks/Python.framework/Versions/3.11/lib/python3.11/site-packages (from pandas>=1.4->xarray) (2023.3)\n",
      "Requirement already satisfied: six>=1.5 in /Users/mmiller8/Library/Python/3.11/lib/python/site-packages (from python-dateutil>=2.8.2->pandas>=1.4->xarray) (1.16.0)\n",
      "Installing collected packages: xarray\n",
      "Successfully installed xarray-2023.6.0\n",
      "Successfully installed xarray\n",
      "Collecting zarr\n",
      "  Downloading zarr-2.15.0-py3-none-any.whl (206 kB)\n",
      "\u001b[2K     ━━━━━━━━━━━━━━━━━━━━━━━━━━━━━━━━━━━━━━━ 206.1/206.1 kB 2.8 MB/s eta 0:00:00\n",
      "\u001b[?25hCollecting asciitree (from zarr)\n",
      "  Downloading asciitree-0.3.3.tar.gz (4.0 kB)\n",
      "  Preparing metadata (setup.py): started\n",
      "  Preparing metadata (setup.py): finished with status 'done'\n",
      "Requirement already satisfied: numpy>=1.20 in /Library/Frameworks/Python.framework/Versions/3.11/lib/python3.11/site-packages (from zarr) (1.25.0)\n",
      "Collecting fasteners (from zarr)\n",
      "  Downloading fasteners-0.18-py3-none-any.whl (18 kB)\n",
      "Collecting numcodecs>=0.10.0 (from zarr)\n",
      "  Downloading numcodecs-0.11.0-cp311-cp311-macosx_10_9_x86_64.whl (1.4 MB)\n",
      "\u001b[2K     ━━━━━━━━━━━━━━━━━━━━━━━━━━━━━━━━━━━━━━━━ 1.4/1.4 MB 12.3 MB/s eta 0:00:00\n",
      "\u001b[?25hCollecting entrypoints (from numcodecs>=0.10.0->zarr)\n",
      "  Downloading entrypoints-0.4-py3-none-any.whl (5.3 kB)\n",
      "Building wheels for collected packages: asciitree\n",
      "  Building wheel for asciitree (setup.py): started\n",
      "  Building wheel for asciitree (setup.py): finished with status 'done'\n",
      "  Created wheel for asciitree: filename=asciitree-0.3.3-py3-none-any.whl size=5034 sha256=e366d8c2accade85d7d125069520022d258e0405fb078d75f5b5a08a1064b911\n",
      "  Stored in directory: /Users/mmiller8/Library/Caches/pip/wheels/71/c1/da/23077eb3b87d24d6f3852ed1ed1a1ac2d3c885ad6ebd2b4a07\n",
      "Successfully built asciitree\n",
      "Installing collected packages: asciitree, fasteners, entrypoints, numcodecs, zarr\n",
      "Successfully installed asciitree-0.3.3 entrypoints-0.4 fasteners-0.18 numcodecs-0.11.0 zarr-2.15.0\n",
      "Successfully installed zarr\n"
     ]
    }
   ],
   "source": [
    "# First, install and load the required packages.\n",
    "\n",
    "import subprocess\n",
    "\n",
    "packages = [\n",
    "    'matplotlib',\n",
    "    'numpy',\n",
    "    'requests',\n",
    "    'xarray',\n",
    "    'zarr'\n",
    "]\n",
    "\n",
    "for package in packages:\n",
    "    try:\n",
    "        subprocess.check_call(['pip', 'install', package])\n",
    "        print(f'Successfully installed {package}')\n",
    "    except subprocess.CalledProcessError as e:\n",
    "        print(f'Error occurred while installing {package}: {e}')"
   ]
  },
  {
   "cell_type": "code",
   "execution_count": 3,
   "metadata": {},
   "outputs": [],
   "source": [
    "# Import packages and load environment\n",
    "\n",
    "import os\n",
    "from getpass import getpass\n",
    "\n",
    "import matplotlib.pyplot as plt\n",
    "import numpy as np\n",
    "import requests\n",
    "import xarray as xr\n",
    "import zarr\n",
    "from IPython.display import JSON\n",
    "from owslib.ogcapi.coverages import Coverages"
   ]
  },
  {
   "attachments": {},
   "cell_type": "markdown",
   "metadata": {},
   "source": [
    "# Connecting to Data API - OGC Coverages\n",
    "\n",
    "We first connect to the Data API by setting up a OGC Coverages API endpoint.\n",
    "\n",
    "To do this, you will need to go to https://dashboard.staging.reefdata.io/ and copy your Authentication token.\n",
    "This can then be pasted into the password prompt."
   ]
  },
  {
   "cell_type": "code",
   "execution_count": 4,
   "metadata": {},
   "outputs": [],
   "source": [
    "token = getpass()\n",
    "w = Coverages(f'https://pygeoapi.staging.reefdata.io', headers={'Authorization': f'Bearer {token}'})"
   ]
  },
  {
   "attachments": {},
   "cell_type": "markdown",
   "metadata": {},
   "source": [
    "## List available coverages"
   ]
  },
  {
   "cell_type": "code",
   "execution_count": 5,
   "metadata": {},
   "outputs": [
    {
     "data": {
      "text/plain": [
       "['noaa-crw-dhw']"
      ]
     },
     "execution_count": 5,
     "metadata": {},
     "output_type": "execute_result"
    }
   ],
   "source": [
    "coverages = w.coverages()\n",
    "coverages"
   ]
  },
  {
   "attachments": {},
   "cell_type": "markdown",
   "metadata": {},
   "source": [
    "## Get coverage metadata\n",
    "\n",
    "The following is equivalent to \n",
    "\n",
    "- https://pygeoapi.staging.reefdata.io/collections/noaa-crw-dhw"
   ]
  },
  {
   "cell_type": "code",
   "execution_count": 8,
   "metadata": {},
   "outputs": [
    {
     "data": {
      "application/json": {
       "crs": [
        null
       ],
       "description": "NOAA Coral Reef Watch Daily Global 5km Satellite Coral Bleaching Degree Heating Week\n",
       "domainset": {
        "_meta": {
         "tags": {
          "Conventions": "CF-1.6, ACDD-1.3",
          "NCO": "netCDF Operators version 5.0.6 (Homepage = http://nco.sf.net, Code = http://github.com/nco/nco)",
          "acknowledgement": "NOAA Coral Reef Watch Program",
          "cdm_data_type": "Grid",
          "comment": "This is a product of the NOAA Coral Reef Watch Daily Global 5km Satellite Coral Bleaching Heat Stress Monitoring Product Suite Version 3.1.",
          "contributor_name": "NOAA Coral Reef Watch Program",
          "contributor_role": "Collecting source data and deriving products; performing quality control of products; disseminating, storing, and submitting data to archive",
          "creator_email": "coralreefwatch@noaa.gov",
          "creator_institution": "NOAA/NESDIS/STAR Coral Reef Watch Program",
          "creator_name": "NOAA Coral Reef Watch Program",
          "creator_type": "group",
          "creator_url": "https://coralreefwatch.noaa.gov/",
          "date_created": "20180301T120000Z",
          "date_issued": "20200302T152652Z",
          "date_metadata_modified": "20190405T120000Z",
          "date_modified": "20180301T120000Z",
          "geospatial_bounds": "POLYGON((-90.0 180.0, 90.0 180.0, 90.0 -180.0, -90.0 -180.0, -90.0 180.0))",
          "geospatial_bounds_crs": "EPSG:32663",
          "geospatial_lat_max": 89.9749984741211,
          "geospatial_lat_min": -89.9749984741211,
          "geospatial_lat_resolution": 0.05000000074505806,
          "geospatial_lat_units": "degrees_north",
          "geospatial_lon_max": 179.97500610351562,
          "geospatial_lon_min": -179.97500610351562,
          "geospatial_lon_resolution": 0.05000000074505806,
          "geospatial_lon_units": "degrees_east",
          "history": "Tue Feb 21 09:58:33 2023: ncks -d lat,-26.0,-8.0 -d lon,133.0,169.0 ct5km_dhw_v3.1_19850325.nc ct5km_dhw_v3.1_19850325_gbr.nc\nThis is a product data file of the NOAA Coral Reef Watch Daily Global 5km Satellite Coral Bleaching Heat Stress Monitoring Product Suite Version 3.1 (v3.1) in its NetCDF Version 1.0 (v1.0).",
          "id": "Satellite_Daily_Global_5km_Degree_Heating_Week",
          "institution": "NOAA/NESDIS/STAR Coral Reef Watch Program",
          "instrument": "ATSR-1, ATSR-2, AATSR, AVHRR, AVHRR-2, AVHRR-3, VIIRS, GOES Imager, MTSAT Imager, MTSAT 2 Imager, AHI, ABI, SEVIRI, buoy - moored buoy, buoy - drifting buoy, buoy - TAO buoy, surface seawater intake",
          "instrument_vocabulary": "NOAA NODC Ocean Archive System Instruments",
          "keywords": "Oceans > Ocean Temperature > Water Temperature,  Spectral/Engineering > Infrared Wavelengths > Thermal Infrared, Oceans > Ocean Temperature > Degree Heating Week",
          "keywords_vocabulary": "NASA Global Change Master Directory (GCMD) Science Keywords",
          "license": "The data produced by Coral Reef Watch are available for use without restriction, but Coral Reef Watch relies on the ethics and integrity of the user to ensure that the source of the data and products is appropriately cited and credited. When using these data and products, credit and courtesy should be given to NOAA Coral Reef Watch. Please include the appropriate DOI associated with this dataset in the citation. For more information, visit the NOAA Coral Reef Watch website: https://coralreefwatch.noaa.gov. Recommendations for citing and providing credit are provided at https://coralreefwatch.noaa.gov/satellite/docs/recommendations_crw_citation.php. Users are referred to the footer section of the Coral Reef Watch website (https://coralreefwatch.noaa.gov/index.php) for disclaimers, policies, notices pertaining to the use of the data.",
          "metadata_link": "https://coralreefwatch.noaa.gov/product/5km/index.php",
          "naming_authority": "gov.noaa.coralreefwatch",
          "ncei_template_version": "NCEI_NetCDF_Grid_Template_v2.0",
          "pangeo-forge:inputs_hash": "d80b5196a680325dc2d775d8aee7607cb2f6e5196b8a553b6e2489545a292ba8",
          "pangeo-forge:recipe_hash": "d7a1649301fe73de160a8d8d28d650270ceca8b83c0029aa4d9e11ea5934c9fe",
          "pangeo-forge:version": "0.9.4",
          "platform": "Ships, drifting buoys, moored buoys, TOGA-TAO buoy arrays, GOES-8 satellite, GOES-9 satellite, GOES-10 satellite, GOES-11 satellite, GOES-12 satellite, GOES-13 satellite, GOES-14 satellite, GOES-15 satellite, GOES-16 satellite, MTSAT-1R satellite, MTSAT-2 satellite, Himawari-8 satellite, Meteosat-8 satellite, Meteosat-9 satellite, Meteoset-10 satellite, Meteosat-11 satellite, Suomi NPP, MetOp-A satellite, MetOp-B satellite, NOAA-9 satellite, NOAA-11 satellite, NOAA-12 satellite, NOAA-14 satellite, NOAA-15 satellite, NOAA-16 satellite, NOAA-17 satellite, NOAA-18 satellite, NOAA-19 satellite.",
          "platform_vocabulary": "NOAA NODC Ocean Archive System Platforms",
          "processing_level": "Derived from L4 satellite sea surface temperaure analysis",
          "product_version": "3.1",
          "program": "NOAA Coral Reef Watch Program",
          "project": "NOAA Coral Reef Watch Program",
          "publisher_email": "coralreefwatch@noaa.gov",
          "publisher_institution": "NOAA/NESDIS/STAR Coral Reef Watch Program",
          "publisher_name": "NOAA Coral Reef Watch Program",
          "publisher_type": "group",
          "publisher_url": "https://coralreefwatch.noaa.gov",
          "references": "https://coralreefwatch.noaa.gov/product/5km/index.php",
          "source": "Coral Reef Watch Daily Global 5km Satellite Sea Surface Temperature v3.1 (CoralTemp v3.1)",
          "spatial_resolution": "0.05 degrees",
          "standard_name_vocabulary": "CF Standard Name Table v27",
          "summary": "This is a product of NOAA Coral Reef Watch Daily Global 5km Satellite Coral Bleaching Heat Stress Monitoring Product Suite",
          "time_coverage_duration": "P1D",
          "time_coverage_end": "19850326T000000Z",
          "time_coverage_resolution": "P1D",
          "time_coverage_start": "19850325T000000Z",
          "title": "NOAA Coral Reef Watch Daily Global 5km Satellite Coral Bleaching Degree Heating Week ",
          "uuid": "24c7f597-298c-4be6-a0c2-ad97b993f60f"
         }
        },
        "generalGrid": {
         "axis": [
          {
           "axisLabel": "lon",
           "lowerBound": 133.02499389648438,
           "resolution": 0.0500030517578125,
           "type": "RegularAxis",
           "uomLabel": "degrees",
           "upperBound": 168.97500610351562
          },
          {
           "axisLabel": "lat",
           "lowerBound": -8.024999618530273,
           "resolution": 0.05000019073486328,
           "type": "RegularAxis",
           "uomLabel": "degrees",
           "upperBound": -25.975000381469727
          },
          {
           "axisLabel": "time",
           "lowerBound": "1985-03-25T12:00:00.000000000",
           "resolution": "1 days",
           "type": "RegularAxis",
           "uomLabel": "1 days",
           "upperBound": "2023-02-19T12:00:00.000000000"
          }
         ],
         "axisLabels": [
          "lon",
          "lat",
          "time"
         ],
         "gridLimits": {
          "axis": [
           {
            "axisLabel": "i",
            "lowerBound": 0,
            "type": "IndexAxis",
            "upperBound": 720
           },
           {
            "axisLabel": "j",
            "lowerBound": 0,
            "type": "IndexAxis",
            "upperBound": 360
           }
          ],
          "axisLabels": [
           "i",
           "j"
          ],
          "srsName": "http://www.opengis.net/def/crs/OGC/0/Index2D",
          "type": "GridLimits"
         },
         "srsName": "http://www.opengis.net/def/crs/OGC/1.3/EPSG:32663",
         "type": "GeneralGridCoverage"
        },
        "type": "DomainSet"
       },
       "extent": {
        "spatial": {
         "bbox": [
          [
           133,
           -26,
           169,
           -8
          ]
         ],
         "crs": "http://www.opengis.net/def/crs/OGC/1.3/CRS84"
        }
       },
       "id": "noaa-crw-dhw",
       "keywords": [],
       "links": [
        {
         "href": "https://stac.staging.reefdata.io/browser/collections/noaa-crw/items/noaa-crw-dhw",
         "hreflang": "en-US",
         "rel": "canonical",
         "title": "information",
         "type": "text/html"
        },
        {
         "href": "https://pygeoapi.staging.reefdata.io?f=json",
         "rel": "root",
         "title": "The landing page of this server as JSON",
         "type": "application/json"
        },
        {
         "href": "https://pygeoapi.staging.reefdata.io?f=html",
         "rel": "root",
         "title": "The landing page of this server as HTML",
         "type": "text/html"
        },
        {
         "href": "https://pygeoapi.staging.reefdata.io/collections/noaa-crw-dhw?f=json",
         "rel": "self",
         "title": "This document as JSON",
         "type": "application/json"
        },
        {
         "href": "https://pygeoapi.staging.reefdata.io/collections/noaa-crw-dhw?f=jsonld",
         "rel": "alternate",
         "title": "This document as RDF (JSON-LD)",
         "type": "application/ld+json"
        },
        {
         "href": "https://pygeoapi.staging.reefdata.io/collections/noaa-crw-dhw?f=html",
         "rel": "alternate",
         "title": "This document as HTML",
         "type": "text/html"
        },
        {
         "href": "https://pygeoapi.staging.reefdata.io/collections/noaa-crw-dhw?f=json",
         "rel": "collection",
         "title": "Detailed Coverage metadata in JSON",
         "type": "application/json"
        },
        {
         "href": "https://pygeoapi.staging.reefdata.io/collections/noaa-crw-dhw?f=html",
         "rel": "collection",
         "title": "Detailed Coverage metadata in HTML",
         "type": "text/html"
        },
        {
         "href": "https://pygeoapi.staging.reefdata.io/collections/noaa-crw-dhw/coverage/domainset?f=json",
         "rel": "http://www.opengis.net/def/rel/ogc/1.0/coverage-domainset",
         "title": "Coverage domain set of collection in JSON",
         "type": "application/json"
        },
        {
         "href": "https://pygeoapi.staging.reefdata.io/collections/noaa-crw-dhw/coverage/domainset?f=html",
         "rel": "http://www.opengis.net/def/rel/ogc/1.0/coverage-domainset",
         "title": "Coverage domain set of collection in HTML",
         "type": "text/html"
        },
        {
         "href": "https://pygeoapi.staging.reefdata.io/collections/noaa-crw-dhw/coverage/rangetype?f=json",
         "rel": "http://www.opengis.net/def/rel/ogc/1.0/coverage-rangetype",
         "title": "Coverage range type of collection in JSON",
         "type": "application/json"
        },
        {
         "href": "https://pygeoapi.staging.reefdata.io/collections/noaa-crw-dhw/coverage/rangetype?f=html",
         "rel": "http://www.opengis.net/def/rel/ogc/1.0/coverage-rangetype",
         "title": "Coverage range type of collection in HTML",
         "type": "text/html"
        },
        {
         "href": "https://pygeoapi.staging.reefdata.io/collections/noaa-crw-dhw/coverage?f=json",
         "rel": "http://www.opengis.net/def/rel/ogc/1.0/coverage",
         "title": "Coverage data",
         "type": "application/prs.coverage+json"
        },
        {
         "href": "https://pygeoapi.staging.reefdata.io/collections/noaa-crw-dhw/coverage?f=zarr",
         "rel": "http://www.opengis.net/def/rel/ogc/1.0/coverage",
         "title": "Coverage data as zarr",
         "type": "application/zip"
        },
        {
         "href": "https://pygeoapi.staging.reefdata.io/collections/noaa-crw-dhw/coverage?f=netcdf",
         "rel": "http://www.opengis.net/def/rel/ogc/1.0/coverage",
         "title": "Coverage data as netcdf",
         "type": "application/x-netcdf"
        }
       ],
       "rangetype": {
        "field": [
         {
          "_meta": {
           "tags": {
            "coverage_content_type": "physicalMeasurement",
            "grid_mapping": "crs",
            "long_name": "degree heating week",
            "standard_name": "N/A",
            "units": "degree_Celsius_weeks",
            "valid_max": 10000,
            "valid_min": 0
           }
          },
          "encodingInfo": {
           "dataType": "http://www.opengis.net/def/dataType/OGC/0/float64"
          },
          "id": "degree_heating_week",
          "name": "degree heating week",
          "nodata": "null",
          "type": "Quantity",
          "uom": {
           "code": "degree_Celsius_weeks",
           "id": "http://www.opengis.net/def/uom/UCUM/degree_Celsius_weeks",
           "type": "UnitReference"
          }
         },
         {
          "_meta": {
           "tags": {
            "comment": "A 2D array, in the same size as the data array in the X and Y directions, classifying land, missing, and ice pixels that are all flagged by the same missing_value (specified by the variable attribute _FillValue) in the data array(s), along with water (data) pixels.",
            "coverage_content_type": "thematicClassification",
            "flag_meanings": "valid-water land missing ice",
            "flag_values": [
             0,
             1,
             2,
             4
            ],
            "grid_mapping": "crs",
            "long_name": "pixel characteristics flag array",
            "units": "pixel_classification"
           }
          },
          "encodingInfo": {
           "dataType": "http://www.opengis.net/def/dataType/OGC/0/float64"
          },
          "id": "mask",
          "name": "pixel characteristics flag array",
          "nodata": "null",
          "type": "Quantity",
          "uom": {
           "code": "pixel_classification",
           "id": "http://www.opengis.net/def/uom/UCUM/pixel_classification",
           "type": "UnitReference"
          }
         }
        ],
        "type": "DataRecord"
       },
       "title": "NOAA Coral Reef Watch - Degree Heating Week"
      },
      "text/plain": [
       "<IPython.core.display.JSON object>"
      ]
     },
     "execution_count": 8,
     "metadata": {
      "application/json": {
       "expanded": false,
       "root": "root"
      }
     },
     "output_type": "execute_result"
    }
   ],
   "source": [
    "coverage = w.collection('noaa-crw-dhw')\n",
    "JSON(coverage)"
   ]
  },
  {
   "attachments": {},
   "cell_type": "markdown",
   "metadata": {},
   "source": [
    "## Get Coverage DomainSet\n",
    "\n",
    "The domain set is the detailed n-dimensional space covered by the data. It is a list of axes, each with a name, a description, a range of values, and a reference system.\n",
    "\n",
    "The following is equivalent to\n",
    "\n",
    "- https://pygeoapi.staging.reefdata.io/collections/noaa-crw-dhw/coverage/domainset"
   ]
  },
  {
   "cell_type": "code",
   "execution_count": 9,
   "metadata": {},
   "outputs": [
    {
     "data": {
      "application/json": {
       "axis": [
        {
         "axisLabel": "lon",
         "lowerBound": 133.02499389648438,
         "resolution": 0.0500030517578125,
         "type": "RegularAxis",
         "uomLabel": "degrees",
         "upperBound": 168.97500610351562
        },
        {
         "axisLabel": "lat",
         "lowerBound": -8.024999618530273,
         "resolution": 0.05000019073486328,
         "type": "RegularAxis",
         "uomLabel": "degrees",
         "upperBound": -25.975000381469727
        },
        {
         "axisLabel": "time",
         "lowerBound": "1985-03-25T12:00:00.000000000",
         "resolution": "1 days",
         "type": "RegularAxis",
         "uomLabel": "1 days",
         "upperBound": "2023-02-19T12:00:00.000000000"
        }
       ],
       "axisLabels": [
        "lon",
        "lat",
        "time"
       ],
       "gridLimits": {
        "axis": [
         {
          "axisLabel": "i",
          "lowerBound": 0,
          "type": "IndexAxis",
          "upperBound": 720
         },
         {
          "axisLabel": "j",
          "lowerBound": 0,
          "type": "IndexAxis",
          "upperBound": 360
         }
        ],
        "axisLabels": [
         "i",
         "j"
        ],
        "srsName": "http://www.opengis.net/def/crs/OGC/0/Index2D",
        "type": "GridLimits"
       },
       "srsName": "http://www.opengis.net/def/crs/OGC/1.3/EPSG:32663",
       "type": "GeneralGridCoverage"
      },
      "text/plain": [
       "<IPython.core.display.JSON object>"
      ]
     },
     "execution_count": 9,
     "metadata": {
      "application/json": {
       "expanded": false,
       "root": "root"
      }
     },
     "output_type": "execute_result"
    }
   ],
   "source": [
    "coverage_domainset = w.coverage_domainset('noaa-crw-dhw')\n",
    "\n",
    "JSON(coverage_domainset[\"generalGrid\"])"
   ]
  },
  {
   "attachments": {},
   "cell_type": "markdown",
   "metadata": {},
   "source": [
    "## Get Coverage RangeType\n",
    "\n",
    "A `RangeType` describes the data values semantics (their components and data type)\n",
    "\n",
    "The following is equivalent to\n",
    "\n",
    "- https://pygeoapi.staging.reefdata.io/collections/noaa-crw-dhw/coverage/rangetype"
   ]
  },
  {
   "cell_type": "code",
   "execution_count": 10,
   "metadata": {},
   "outputs": [
    {
     "data": {
      "application/json": {
       "field": [
        {
         "_meta": {
          "tags": {
           "coverage_content_type": "physicalMeasurement",
           "grid_mapping": "crs",
           "long_name": "degree heating week",
           "standard_name": "N/A",
           "units": "degree_Celsius_weeks",
           "valid_max": 10000,
           "valid_min": 0
          }
         },
         "encodingInfo": {
          "dataType": "http://www.opengis.net/def/dataType/OGC/0/float64"
         },
         "id": "degree_heating_week",
         "name": "degree heating week",
         "nodata": "null",
         "type": "Quantity",
         "uom": {
          "code": "degree_Celsius_weeks",
          "id": "http://www.opengis.net/def/uom/UCUM/degree_Celsius_weeks",
          "type": "UnitReference"
         }
        },
        {
         "_meta": {
          "tags": {
           "comment": "A 2D array, in the same size as the data array in the X and Y directions, classifying land, missing, and ice pixels that are all flagged by the same missing_value (specified by the variable attribute _FillValue) in the data array(s), along with water (data) pixels.",
           "coverage_content_type": "thematicClassification",
           "flag_meanings": "valid-water land missing ice",
           "flag_values": [
            0,
            1,
            2,
            4
           ],
           "grid_mapping": "crs",
           "long_name": "pixel characteristics flag array",
           "units": "pixel_classification"
          }
         },
         "encodingInfo": {
          "dataType": "http://www.opengis.net/def/dataType/OGC/0/float64"
         },
         "id": "mask",
         "name": "pixel characteristics flag array",
         "nodata": "null",
         "type": "Quantity",
         "uom": {
          "code": "pixel_classification",
          "id": "http://www.opengis.net/def/uom/UCUM/pixel_classification",
          "type": "UnitReference"
         }
        }
       ],
       "type": "DataRecord"
      },
      "text/plain": [
       "<IPython.core.display.JSON object>"
      ]
     },
     "execution_count": 10,
     "metadata": {
      "application/json": {
       "expanded": false,
       "root": "root"
      }
     },
     "output_type": "execute_result"
    }
   ],
   "source": [
    "coverage_rangetype = w.coverage_rangetype('noaa-crw-dhw')\n",
    "\n",
    "JSON(coverage_rangetype)"
   ]
  },
  {
   "attachments": {},
   "cell_type": "markdown",
   "metadata": {},
   "source": [
    "## Get CoverageJson\n",
    "\n",
    "Get a single time slice of the data - at `2023-02-01`\n",
    "\n",
    "- https://pygeoapi.staging.reefdata.io/collections/noaa-crw-dhw/coverage?datetime=2023-02-01"
   ]
  },
  {
   "cell_type": "code",
   "execution_count": 11,
   "metadata": {},
   "outputs": [],
   "source": [
    "# owslib doesn't support all coverage parameters at this time\n",
    "# test = w.coverage('016-023-noaa-crw', datetime=\"1985-04-03T00:00:00/1985-04-04T00:00:00\")\n",
    "\n",
    "# So we request the URL equivalent\n",
    "url = f'https://pygeoapi.staging.reefdata.io/collections/noaa-crw-dhw/coverage?datetime=2023-02-01'\n",
    "\n",
    "coverage_json = requests.get(url, headers={'Authorization': f'Bearer {token}'}).json()"
   ]
  },
  {
   "attachments": {},
   "cell_type": "markdown",
   "metadata": {},
   "source": [
    "## Print CoverageJSON parameters"
   ]
  },
  {
   "cell_type": "code",
   "execution_count": 12,
   "metadata": {},
   "outputs": [
    {
     "data": {
      "application/json": {
       "degree_heating_week": {
        "description": "degree heating week",
        "observedProperty": {
         "id": "degree_heating_week",
         "label": {
          "en": "degree heating week"
         }
        },
        "type": "Parameter",
        "unit": {
         "symbol": "degree_Celsius_weeks"
        }
       },
       "mask": {
        "description": "pixel characteristics flag array",
        "observedProperty": {
         "id": "mask",
         "label": {
          "en": "pixel characteristics flag array"
         }
        },
        "type": "Parameter",
        "unit": {
         "symbol": "pixel_classification"
        }
       }
      },
      "text/plain": [
       "<IPython.core.display.JSON object>"
      ]
     },
     "execution_count": 12,
     "metadata": {
      "application/json": {
       "expanded": false,
       "root": "root"
      }
     },
     "output_type": "execute_result"
    }
   ],
   "source": [
    "JSON(coverage_json[\"parameters\"])"
   ]
  },
  {
   "attachments": {},
   "cell_type": "markdown",
   "metadata": {},
   "source": [
    "## Print CoverageJSON domain"
   ]
  },
  {
   "cell_type": "code",
   "execution_count": 13,
   "metadata": {},
   "outputs": [
    {
     "data": {
      "application/json": {
       "axes": {
        "time": {
         "num": 1,
         "start": "2023-02-01T12:00:00.000000000",
         "stop": "2023-02-01T12:00:00.000000000"
        },
        "x": {
         "num": 720,
         "start": 133.02499389648438,
         "stop": 168.97500610351562
        },
        "y": {
         "num": 360,
         "start": -8.024999618530273,
         "stop": -25.975000381469727
        }
       },
       "domainType": "Grid",
       "referencing": [
        {
         "coordinates": [
          "x",
          "y"
         ],
         "system": {
          "id": "http://www.opengis.net/def/crs/OGC/1.3/EPSG:32663",
          "type": "ProjectedCRS"
         }
        }
       ],
       "type": "Domain"
      },
      "text/plain": [
       "<IPython.core.display.JSON object>"
      ]
     },
     "execution_count": 13,
     "metadata": {
      "application/json": {
       "expanded": false,
       "root": "root"
      }
     },
     "output_type": "execute_result"
    }
   ],
   "source": [
    "JSON(coverage_json[\"domain\"])"
   ]
  },
  {
   "attachments": {},
   "cell_type": "markdown",
   "metadata": {},
   "source": [
    "## Plot the data!\n",
    "\n",
    "This is a very basic example that just draws pixels on a grid."
   ]
  },
  {
   "cell_type": "code",
   "execution_count": 14,
   "metadata": {},
   "outputs": [
    {
     "data": {
      "image/png": "[encoded data removed]",
      "text/plain": [
       "<Figure size 640x480 with 1 Axes>"
      ]
     },
     "metadata": {},
     "output_type": "display_data"
    }
   ],
   "source": [
    "degree_heating_week = coverage_json[\"ranges\"][\"degree_heating_week\"]\n",
    "width = coverage_json[\"domain\"][\"axes\"][\"x\"][\"num\"]\n",
    "height = coverage_json[\"domain\"][\"axes\"][\"y\"][\"num\"]\n",
    "\n",
    "# Values is 1D array - so reshape into 2D\n",
    "data = np.array(degree_heating_week[\"values\"]).reshape(width, height).astype(float)\n",
    "\n",
    "# Plot raster data\n",
    "plt.imshow(data)\n",
    "plt.show()"
   ]
  },
  {
   "attachments": {},
   "cell_type": "markdown",
   "metadata": {},
   "source": [
    "## Do a pixel drill\n",
    "\n",
    "Get pixel values from `2013-01-01` to `2023-01-01` at single point `(-20.42, 155.5)`.\n",
    "\n",
    "Note: currently this example uses the `subset` parameter to request a tiny bounding box around the point.\n",
    "\n",
    "This is calling\n",
    "\n",
    "- https://pygeoapi.staging.reefdata.io/collections/noaa-crw-dhw/coverage?datetime=2013-01-01/2023-01-01&subset=lon(155.52:155.54),lat(-20.43:-20.42)"
   ]
  },
  {
   "cell_type": "code",
   "execution_count": 15,
   "metadata": {},
   "outputs": [],
   "source": [
    "url = f'https://pygeoapi.staging.reefdata.io/collections/noaa-crw-dhw/coverage?datetime=2013-01-01/2023-01-01&subset=lon(155.52:155.54),lat(-20.43:-20.42)'\n",
    "\n",
    "coverage_json = requests.get(url, headers={'Authorization': f'Bearer {token}'}).json()"
   ]
  },
  {
   "attachments": {},
   "cell_type": "markdown",
   "metadata": {},
   "source": [
    "## Plot the (raw) data!\n",
    "\n",
    "This is a very basic example that just draws line plot of the values."
   ]
  },
  {
   "cell_type": "code",
   "execution_count": 16,
   "metadata": {},
   "outputs": [
    {
     "data": {
      "text/plain": [
       "[<matplotlib.lines.Line2D at 0x1307766d0>]"
      ]
     },
     "execution_count": 16,
     "metadata": {},
     "output_type": "execute_result"
    },
    {
     "data": {
      "image/png": "[encoded data removed]",
      "text/plain": [
       "<Figure size 640x480 with 1 Axes>"
      ]
     },
     "metadata": {},
     "output_type": "display_data"
    }
   ],
   "source": [
    "degree_heating_week = coverage_json[\"ranges\"][\"degree_heating_week\"]\n",
    "\n",
    "plt.plot(degree_heating_week[\"values\"])"
   ]
  },
  {
   "attachments": {},
   "cell_type": "markdown",
   "metadata": {},
   "source": [
    "## Fetch zarr instead of CoverageJSON\n",
    "\n",
    "CoverageJSON does not have a nice python wrapper. Zarr does.\n",
    "\n",
    "So we repeat the previous example but fetch zarr instead\n",
    "\n",
    "Unfortunately, the file is zipped up - so we have to save it to disk first.\n",
    "\n",
    "This calls\n",
    "\n",
    "- https://pygeoapi.staging.reefdata.io/collections/noaa-crw-dhw/coverage?datetime=2013-01-01/2023-01-01&subset=lon(155.52:155.54),lat(-20.43:-20.42)&f=zarr"
   ]
  },
  {
   "cell_type": "code",
   "execution_count": 17,
   "metadata": {},
   "outputs": [],
   "source": [
    "url = f'https://pygeoapi.staging.reefdata.io/collections/noaa-crw-dhw/coverage?datetime=2013-01-01/2023-01-01&subset=lon(155.52:155.54),lat(-20.43:-20.42)&f=zarr'\n",
    "\n",
    "zip_path = \"noaa-crw-dhw-temp.zip\"\n",
    "\n",
    "r = requests.get(url, headers={'Authorization': f'Bearer {token}'}, stream=True)\n",
    "\n",
    "with open(zip_path, 'wb') as f:\n",
    "    for chunk in r.iter_content(chunk_size=1024):\n",
    "        if chunk:\n",
    "            f.write(chunk)"
   ]
  },
  {
   "attachments": {},
   "cell_type": "markdown",
   "metadata": {},
   "source": [
    "## Look inside zarr dataset"
   ]
  },
  {
   "cell_type": "code",
   "execution_count": 18,
   "metadata": {},
   "outputs": [
    {
     "data": {
      "text/html": [
       "<div><svg style=\"position: absolute; width: 0; height: 0; overflow: hidden\">\n",
       "<defs>\n",
       "<symbol id=\"icon-database\" viewBox=\"0 0 32 32\">\n",
       "<path d=\"M16 0c-8.837 0-16 2.239-16 5v4c0 2.761 7.163 5 16 5s16-2.239 16-5v-4c0-2.761-7.163-5-16-5z\"></path>\n",
       "<path d=\"M16 17c-8.837 0-16-2.239-16-5v6c0 2.761 7.163 5 16 5s16-2.239 16-5v-6c0 2.761-7.163 5-16 5z\"></path>\n",
       "<path d=\"M16 26c-8.837 0-16-2.239-16-5v6c0 2.761 7.163 5 16 5s16-2.239 16-5v-6c0 2.761-7.163 5-16 5z\"></path>\n",
       "</symbol>\n",
       "<symbol id=\"icon-file-text2\" viewBox=\"0 0 32 32\">\n",
       "<path d=\"M28.681 7.159c-0.694-0.947-1.662-2.053-2.724-3.116s-2.169-2.030-3.116-2.724c-1.612-1.182-2.393-1.319-2.841-1.319h-15.5c-1.378 0-2.5 1.121-2.5 2.5v27c0 1.378 1.122 2.5 2.5 2.5h23c1.378 0 2.5-1.122 2.5-2.5v-19.5c0-0.448-0.137-1.23-1.319-2.841zM24.543 5.457c0.959 0.959 1.712 1.825 2.268 2.543h-4.811v-4.811c0.718 0.556 1.584 1.309 2.543 2.268zM28 29.5c0 0.271-0.229 0.5-0.5 0.5h-23c-0.271 0-0.5-0.229-0.5-0.5v-27c0-0.271 0.229-0.5 0.5-0.5 0 0 15.499-0 15.5 0v7c0 0.552 0.448 1 1 1h7v19.5z\"></path>\n",
       "<path d=\"M23 26h-14c-0.552 0-1-0.448-1-1s0.448-1 1-1h14c0.552 0 1 0.448 1 1s-0.448 1-1 1z\"></path>\n",
       "<path d=\"M23 22h-14c-0.552 0-1-0.448-1-1s0.448-1 1-1h14c0.552 0 1 0.448 1 1s-0.448 1-1 1z\"></path>\n",
       "<path d=\"M23 18h-14c-0.552 0-1-0.448-1-1s0.448-1 1-1h14c0.552 0 1 0.448 1 1s-0.448 1-1 1z\"></path>\n",
       "</symbol>\n",
       "</defs>\n",
       "</svg>\n",
       "<style>/* CSS stylesheet for displaying xarray objects in jupyterlab.\n",
       " *\n",
       " */\n",
       "\n",
       ":root {\n",
       "  --xr-font-color0: var(--jp-content-font-color0, rgba(0, 0, 0, 1));\n",
       "  --xr-font-color2: var(--jp-content-font-color2, rgba(0, 0, 0, 0.54));\n",
       "  --xr-font-color3: var(--jp-content-font-color3, rgba(0, 0, 0, 0.38));\n",
       "  --xr-border-color: var(--jp-border-color2, #e0e0e0);\n",
       "  --xr-disabled-color: var(--jp-layout-color3, #bdbdbd);\n",
       "  --xr-background-color: var(--jp-layout-color0, white);\n",
       "  --xr-background-color-row-even: var(--jp-layout-color1, white);\n",
       "  --xr-background-color-row-odd: var(--jp-layout-color2, #eeeeee);\n",
       "}\n",
       "\n",
       "html[theme=dark],\n",
       "body[data-theme=dark],\n",
       "body.vscode-dark {\n",
       "  --xr-font-color0: rgba(255, 255, 255, 1);\n",
       "  --xr-font-color2: rgba(255, 255, 255, 0.54);\n",
       "  --xr-font-color3: rgba(255, 255, 255, 0.38);\n",
       "  --xr-border-color: #1F1F1F;\n",
       "  --xr-disabled-color: #515151;\n",
       "  --xr-background-color: #111111;\n",
       "  --xr-background-color-row-even: #111111;\n",
       "  --xr-background-color-row-odd: #313131;\n",
       "}\n",
       "\n",
       ".xr-wrap {\n",
       "  display: block !important;\n",
       "  min-width: 300px;\n",
       "  max-width: 700px;\n",
       "}\n",
       "\n",
       ".xr-text-repr-fallback {\n",
       "  /* fallback to plain text repr when CSS is not injected (untrusted notebook) */\n",
       "  display: none;\n",
       "}\n",
       "\n",
       ".xr-header {\n",
       "  padding-top: 6px;\n",
       "  padding-bottom: 6px;\n",
       "  margin-bottom: 4px;\n",
       "  border-bottom: solid 1px var(--xr-border-color);\n",
       "}\n",
       "\n",
       ".xr-header > div,\n",
       ".xr-header > ul {\n",
       "  display: inline;\n",
       "  margin-top: 0;\n",
       "  margin-bottom: 0;\n",
       "}\n",
       "\n",
       ".xr-obj-type,\n",
       ".xr-array-name {\n",
       "  margin-left: 2px;\n",
       "  margin-right: 10px;\n",
       "}\n",
       "\n",
       ".xr-obj-type {\n",
       "  color: var(--xr-font-color2);\n",
       "}\n",
       "\n",
       ".xr-sections {\n",
       "  padding-left: 0 !important;\n",
       "  display: grid;\n",
       "  grid-template-columns: 150px auto auto 1fr 20px 20px;\n",
       "}\n",
       "\n",
       ".xr-section-item {\n",
       "  display: contents;\n",
       "}\n",
       "\n",
       ".xr-section-item input {\n",
       "  display: none;\n",
       "}\n",
       "\n",
       ".xr-section-item input + label {\n",
       "  color: var(--xr-disabled-color);\n",
       "}\n",
       "\n",
       ".xr-section-item input:enabled + label {\n",
       "  cursor: pointer;\n",
       "  color: var(--xr-font-color2);\n",
       "}\n",
       "\n",
       ".xr-section-item input:enabled + label:hover {\n",
       "  color: var(--xr-font-color0);\n",
       "}\n",
       "\n",
       ".xr-section-summary {\n",
       "  grid-column: 1;\n",
       "  color: var(--xr-font-color2);\n",
       "  font-weight: 500;\n",
       "}\n",
       "\n",
       ".xr-section-summary > span {\n",
       "  display: inline-block;\n",
       "  padding-left: 0.5em;\n",
       "}\n",
       "\n",
       ".xr-section-summary-in:disabled + label {\n",
       "  color: var(--xr-font-color2);\n",
       "}\n",
       "\n",
       ".xr-section-summary-in + label:before {\n",
       "  display: inline-block;\n",
       "  content: '►';\n",
       "  font-size: 11px;\n",
       "  width: 15px;\n",
       "  text-align: center;\n",
       "}\n",
       "\n",
       ".xr-section-summary-in:disabled + label:before {\n",
       "  color: var(--xr-disabled-color);\n",
       "}\n",
       "\n",
       ".xr-section-summary-in:checked + label:before {\n",
       "  content: '▼';\n",
       "}\n",
       "\n",
       ".xr-section-summary-in:checked + label > span {\n",
       "  display: none;\n",
       "}\n",
       "\n",
       ".xr-section-summary,\n",
       ".xr-section-inline-details {\n",
       "  padding-top: 4px;\n",
       "  padding-bottom: 4px;\n",
       "}\n",
       "\n",
       ".xr-section-inline-details {\n",
       "  grid-column: 2 / -1;\n",
       "}\n",
       "\n",
       ".xr-section-details {\n",
       "  display: none;\n",
       "  grid-column: 1 / -1;\n",
       "  margin-bottom: 5px;\n",
       "}\n",
       "\n",
       ".xr-section-summary-in:checked ~ .xr-section-details {\n",
       "  display: contents;\n",
       "}\n",
       "\n",
       ".xr-array-wrap {\n",
       "  grid-column: 1 / -1;\n",
       "  display: grid;\n",
       "  grid-template-columns: 20px auto;\n",
       "}\n",
       "\n",
       ".xr-array-wrap > label {\n",
       "  grid-column: 1;\n",
       "  vertical-align: top;\n",
       "}\n",
       "\n",
       ".xr-preview {\n",
       "  color: var(--xr-font-color3);\n",
       "}\n",
       "\n",
       ".xr-array-preview,\n",
       ".xr-array-data {\n",
       "  padding: 0 5px !important;\n",
       "  grid-column: 2;\n",
       "}\n",
       "\n",
       ".xr-array-data,\n",
       ".xr-array-in:checked ~ .xr-array-preview {\n",
       "  display: none;\n",
       "}\n",
       "\n",
       ".xr-array-in:checked ~ .xr-array-data,\n",
       ".xr-array-preview {\n",
       "  display: inline-block;\n",
       "}\n",
       "\n",
       ".xr-dim-list {\n",
       "  display: inline-block !important;\n",
       "  list-style: none;\n",
       "  padding: 0 !important;\n",
       "  margin: 0;\n",
       "}\n",
       "\n",
       ".xr-dim-list li {\n",
       "  display: inline-block;\n",
       "  padding: 0;\n",
       "  margin: 0;\n",
       "}\n",
       "\n",
       ".xr-dim-list:before {\n",
       "  content: '(';\n",
       "}\n",
       "\n",
       ".xr-dim-list:after {\n",
       "  content: ')';\n",
       "}\n",
       "\n",
       ".xr-dim-list li:not(:last-child):after {\n",
       "  content: ',';\n",
       "  padding-right: 5px;\n",
       "}\n",
       "\n",
       ".xr-has-index {\n",
       "  font-weight: bold;\n",
       "}\n",
       "\n",
       ".xr-var-list,\n",
       ".xr-var-item {\n",
       "  display: contents;\n",
       "}\n",
       "\n",
       ".xr-var-item > div,\n",
       ".xr-var-item label,\n",
       ".xr-var-item > .xr-var-name span {\n",
       "  background-color: var(--xr-background-color-row-even);\n",
       "  margin-bottom: 0;\n",
       "}\n",
       "\n",
       ".xr-var-item > .xr-var-name:hover span {\n",
       "  padding-right: 5px;\n",
       "}\n",
       "\n",
       ".xr-var-list > li:nth-child(odd) > div,\n",
       ".xr-var-list > li:nth-child(odd) > label,\n",
       ".xr-var-list > li:nth-child(odd) > .xr-var-name span {\n",
       "  background-color: var(--xr-background-color-row-odd);\n",
       "}\n",
       "\n",
       ".xr-var-name {\n",
       "  grid-column: 1;\n",
       "}\n",
       "\n",
       ".xr-var-dims {\n",
       "  grid-column: 2;\n",
       "}\n",
       "\n",
       ".xr-var-dtype {\n",
       "  grid-column: 3;\n",
       "  text-align: right;\n",
       "  color: var(--xr-font-color2);\n",
       "}\n",
       "\n",
       ".xr-var-preview {\n",
       "  grid-column: 4;\n",
       "}\n",
       "\n",
       ".xr-index-preview {\n",
       "  grid-column: 2 / 5;\n",
       "  color: var(--xr-font-color2);\n",
       "}\n",
       "\n",
       ".xr-var-name,\n",
       ".xr-var-dims,\n",
       ".xr-var-dtype,\n",
       ".xr-preview,\n",
       ".xr-attrs dt {\n",
       "  white-space: nowrap;\n",
       "  overflow: hidden;\n",
       "  text-overflow: ellipsis;\n",
       "  padding-right: 10px;\n",
       "}\n",
       "\n",
       ".xr-var-name:hover,\n",
       ".xr-var-dims:hover,\n",
       ".xr-var-dtype:hover,\n",
       ".xr-attrs dt:hover {\n",
       "  overflow: visible;\n",
       "  width: auto;\n",
       "  z-index: 1;\n",
       "}\n",
       "\n",
       ".xr-var-attrs,\n",
       ".xr-var-data,\n",
       ".xr-index-data {\n",
       "  display: none;\n",
       "  background-color: var(--xr-background-color) !important;\n",
       "  padding-bottom: 5px !important;\n",
       "}\n",
       "\n",
       ".xr-var-attrs-in:checked ~ .xr-var-attrs,\n",
       ".xr-var-data-in:checked ~ .xr-var-data,\n",
       ".xr-index-data-in:checked ~ .xr-index-data {\n",
       "  display: block;\n",
       "}\n",
       "\n",
       ".xr-var-data > table {\n",
       "  float: right;\n",
       "}\n",
       "\n",
       ".xr-var-name span,\n",
       ".xr-var-data,\n",
       ".xr-index-name div,\n",
       ".xr-index-data,\n",
       ".xr-attrs {\n",
       "  padding-left: 25px !important;\n",
       "}\n",
       "\n",
       ".xr-attrs,\n",
       ".xr-var-attrs,\n",
       ".xr-var-data,\n",
       ".xr-index-data {\n",
       "  grid-column: 1 / -1;\n",
       "}\n",
       "\n",
       "dl.xr-attrs {\n",
       "  padding: 0;\n",
       "  margin: 0;\n",
       "  display: grid;\n",
       "  grid-template-columns: 125px auto;\n",
       "}\n",
       "\n",
       ".xr-attrs dt,\n",
       ".xr-attrs dd {\n",
       "  padding: 0;\n",
       "  margin: 0;\n",
       "  float: left;\n",
       "  padding-right: 10px;\n",
       "  width: auto;\n",
       "}\n",
       "\n",
       ".xr-attrs dt {\n",
       "  font-weight: normal;\n",
       "  grid-column: 1;\n",
       "}\n",
       "\n",
       ".xr-attrs dt:hover span {\n",
       "  display: inline-block;\n",
       "  background: var(--xr-background-color);\n",
       "  padding-right: 10px;\n",
       "}\n",
       "\n",
       ".xr-attrs dd {\n",
       "  grid-column: 2;\n",
       "  white-space: pre-wrap;\n",
       "  word-break: break-all;\n",
       "}\n",
       "\n",
       ".xr-icon-database,\n",
       ".xr-icon-file-text2,\n",
       ".xr-no-icon {\n",
       "  display: inline-block;\n",
       "  vertical-align: middle;\n",
       "  width: 1em;\n",
       "  height: 1.5em !important;\n",
       "  stroke-width: 0;\n",
       "  stroke: currentColor;\n",
       "  fill: currentColor;\n",
       "}\n",
       "</style><pre class='xr-text-repr-fallback'>&lt;xarray.Dataset&gt;\n",
       "Dimensions:              (time: 3653, lat: 1, lon: 1)\n",
       "Coordinates:\n",
       "  * lat                  (lat) float64 -20.42\n",
       "  * lon                  (lon) float64 155.5\n",
       "  * time                 (time) datetime64[ns] 2013-01-01T12:00:00 ... 2023-0...\n",
       "Data variables:\n",
       "    degree_heating_week  (time, lat, lon) float64 ...\n",
       "    mask                 (time, lat, lon) float64 ...\n",
       "Attributes: (12/62)\n",
       "    Conventions:                CF-1.6, ACDD-1.3\n",
       "    NCO:                        netCDF Operators version 5.0.6 (Homepage = ht...\n",
       "    acknowledgement:            NOAA Coral Reef Watch Program\n",
       "    cdm_data_type:              Grid\n",
       "    comment:                    This is a product of the NOAA Coral Reef Watc...\n",
       "    contributor_name:           NOAA Coral Reef Watch Program\n",
       "    ...                         ...\n",
       "    time_coverage_duration:     P1D\n",
       "    time_coverage_end:          19850326T000000Z\n",
       "    time_coverage_resolution:   P1D\n",
       "    time_coverage_start:        19850325T000000Z\n",
       "    title:                      NOAA Coral Reef Watch Daily Global 5km Satell...\n",
       "    uuid:                       24c7f597-298c-4be6-a0c2-ad97b993f60f</pre><div class='xr-wrap' style='display:none'><div class='xr-header'><div class='xr-obj-type'>xarray.Dataset</div></div><ul class='xr-sections'><li class='xr-section-item'><input id='section-b96cd372-c7d2-4981-9153-337e856db4b5' class='xr-section-summary-in' type='checkbox' disabled ><label for='section-b96cd372-c7d2-4981-9153-337e856db4b5' class='xr-section-summary'  title='Expand/collapse section'>Dimensions:</label><div class='xr-section-inline-details'><ul class='xr-dim-list'><li><span class='xr-has-index'>time</span>: 3653</li><li><span class='xr-has-index'>lat</span>: 1</li><li><span class='xr-has-index'>lon</span>: 1</li></ul></div><div class='xr-section-details'></div></li><li class='xr-section-item'><input id='section-3d712c19-df00-4f9f-9e2f-9a88b84373a8' class='xr-section-summary-in' type='checkbox'  checked><label for='section-3d712c19-df00-4f9f-9e2f-9a88b84373a8' class='xr-section-summary' >Coordinates: <span>(3)</span></label><div class='xr-section-inline-details'></div><div class='xr-section-details'><ul class='xr-var-list'><li class='xr-var-item'><div class='xr-var-name'><span class='xr-has-index'>lat</span></div><div class='xr-var-dims'>(lat)</div><div class='xr-var-dtype'>float64</div><div class='xr-var-preview xr-preview'>-20.42</div><input id='attrs-166e6b94-ecd5-4b94-b283-1043a32c9a53' class='xr-var-attrs-in' type='checkbox' ><label for='attrs-166e6b94-ecd5-4b94-b283-1043a32c9a53' title='Show/Hide attributes'><svg class='icon xr-icon-file-text2'><use xlink:href='#icon-file-text2'></use></svg></label><input id='data-172c7595-1701-4395-9968-224653108abd' class='xr-var-data-in' type='checkbox'><label for='data-172c7595-1701-4395-9968-224653108abd' title='Show/Hide data repr'><svg class='icon xr-icon-database'><use xlink:href='#icon-database'></use></svg></label><div class='xr-var-attrs'><dl class='xr-attrs'><dt><span>axis :</span></dt><dd>Y</dd><dt><span>comment :</span></dt><dd>equirectangular projection and grid centers</dd><dt><span>coverage_content_type :</span></dt><dd>coordinate</dd><dt><span>long_name :</span></dt><dd>latitude</dd><dt><span>standard_name :</span></dt><dd>latitude</dd><dt><span>units :</span></dt><dd>degrees_north</dd><dt><span>valid_max :</span></dt><dd>89.9749984741211</dd><dt><span>valid_min :</span></dt><dd>-89.9749984741211</dd></dl></div><div class='xr-var-data'><pre>array([-20.424999])</pre></div></li><li class='xr-var-item'><div class='xr-var-name'><span class='xr-has-index'>lon</span></div><div class='xr-var-dims'>(lon)</div><div class='xr-var-dtype'>float64</div><div class='xr-var-preview xr-preview'>155.5</div><input id='attrs-f412f962-c5e3-402a-88d0-b3aae78f2f09' class='xr-var-attrs-in' type='checkbox' ><label for='attrs-f412f962-c5e3-402a-88d0-b3aae78f2f09' title='Show/Hide attributes'><svg class='icon xr-icon-file-text2'><use xlink:href='#icon-file-text2'></use></svg></label><input id='data-186a2605-0e36-4285-ae0d-53f1e2fb2eee' class='xr-var-data-in' type='checkbox'><label for='data-186a2605-0e36-4285-ae0d-53f1e2fb2eee' title='Show/Hide data repr'><svg class='icon xr-icon-database'><use xlink:href='#icon-database'></use></svg></label><div class='xr-var-attrs'><dl class='xr-attrs'><dt><span>axis :</span></dt><dd>X</dd><dt><span>comment :</span></dt><dd>equirectangular projection and grid centers</dd><dt><span>coverage_content_type :</span></dt><dd>coordinate</dd><dt><span>long_name :</span></dt><dd>longitude</dd><dt><span>standard_name :</span></dt><dd>longitude</dd><dt><span>units :</span></dt><dd>degrees_east</dd><dt><span>valid_max :</span></dt><dd>179.97500610351562</dd><dt><span>valid_min :</span></dt><dd>-179.97500610351562</dd></dl></div><div class='xr-var-data'><pre>array([155.524994])</pre></div></li><li class='xr-var-item'><div class='xr-var-name'><span class='xr-has-index'>time</span></div><div class='xr-var-dims'>(time)</div><div class='xr-var-dtype'>datetime64[ns]</div><div class='xr-var-preview xr-preview'>2013-01-01T12:00:00 ... 2023-01-...</div><input id='attrs-8e9934da-c8f7-4cbf-bb58-f2e71a7937ca' class='xr-var-attrs-in' type='checkbox' ><label for='attrs-8e9934da-c8f7-4cbf-bb58-f2e71a7937ca' title='Show/Hide attributes'><svg class='icon xr-icon-file-text2'><use xlink:href='#icon-file-text2'></use></svg></label><input id='data-71708e0d-540b-41aa-af22-d8d469cf4f34' class='xr-var-data-in' type='checkbox'><label for='data-71708e0d-540b-41aa-af22-d8d469cf4f34' title='Show/Hide data repr'><svg class='icon xr-icon-database'><use xlink:href='#icon-database'></use></svg></label><div class='xr-var-attrs'><dl class='xr-attrs'><dt><span>axis :</span></dt><dd>T</dd><dt><span>coverage_content_type :</span></dt><dd>coordinate</dd><dt><span>long_name :</span></dt><dd>reference time of the data</dd><dt><span>standard_name :</span></dt><dd>time</dd></dl></div><div class='xr-var-data'><pre>array([&#x27;2013-01-01T12:00:00.000000000&#x27;, &#x27;2013-01-02T12:00:00.000000000&#x27;,\n",
       "       &#x27;2013-01-03T12:00:00.000000000&#x27;, ..., &#x27;2022-12-30T12:00:00.000000000&#x27;,\n",
       "       &#x27;2022-12-31T12:00:00.000000000&#x27;, &#x27;2023-01-01T12:00:00.000000000&#x27;],\n",
       "      dtype=&#x27;datetime64[ns]&#x27;)</pre></div></li></ul></div></li><li class='xr-section-item'><input id='section-b3a91e38-3c76-46f8-9744-bc74a531150e' class='xr-section-summary-in' type='checkbox'  checked><label for='section-b3a91e38-3c76-46f8-9744-bc74a531150e' class='xr-section-summary' >Data variables: <span>(2)</span></label><div class='xr-section-inline-details'></div><div class='xr-section-details'><ul class='xr-var-list'><li class='xr-var-item'><div class='xr-var-name'><span>degree_heating_week</span></div><div class='xr-var-dims'>(time, lat, lon)</div><div class='xr-var-dtype'>float64</div><div class='xr-var-preview xr-preview'>...</div><input id='attrs-e2476255-5abf-45a6-91fb-1ee98e4422ac' class='xr-var-attrs-in' type='checkbox' ><label for='attrs-e2476255-5abf-45a6-91fb-1ee98e4422ac' title='Show/Hide attributes'><svg class='icon xr-icon-file-text2'><use xlink:href='#icon-file-text2'></use></svg></label><input id='data-7d0ae8b9-a65c-4105-a49a-e43750f0b02a' class='xr-var-data-in' type='checkbox'><label for='data-7d0ae8b9-a65c-4105-a49a-e43750f0b02a' title='Show/Hide data repr'><svg class='icon xr-icon-database'><use xlink:href='#icon-database'></use></svg></label><div class='xr-var-attrs'><dl class='xr-attrs'><dt><span>coverage_content_type :</span></dt><dd>physicalMeasurement</dd><dt><span>grid_mapping :</span></dt><dd>crs</dd><dt><span>long_name :</span></dt><dd>degree heating week</dd><dt><span>standard_name :</span></dt><dd>N/A</dd><dt><span>units :</span></dt><dd>degree_Celsius_weeks</dd><dt><span>valid_max :</span></dt><dd>10000</dd><dt><span>valid_min :</span></dt><dd>0</dd></dl></div><div class='xr-var-data'><pre>[3653 values with dtype=float64]</pre></div></li><li class='xr-var-item'><div class='xr-var-name'><span>mask</span></div><div class='xr-var-dims'>(time, lat, lon)</div><div class='xr-var-dtype'>float64</div><div class='xr-var-preview xr-preview'>...</div><input id='attrs-98a0be99-2511-4f97-a475-ae4fe14283e5' class='xr-var-attrs-in' type='checkbox' ><label for='attrs-98a0be99-2511-4f97-a475-ae4fe14283e5' title='Show/Hide attributes'><svg class='icon xr-icon-file-text2'><use xlink:href='#icon-file-text2'></use></svg></label><input id='data-2d3652c1-0b68-41a0-8d01-82d69998db45' class='xr-var-data-in' type='checkbox'><label for='data-2d3652c1-0b68-41a0-8d01-82d69998db45' title='Show/Hide data repr'><svg class='icon xr-icon-database'><use xlink:href='#icon-database'></use></svg></label><div class='xr-var-attrs'><dl class='xr-attrs'><dt><span>comment :</span></dt><dd>A 2D array, in the same size as the data array in the X and Y directions, classifying land, missing, and ice pixels that are all flagged by the same missing_value (specified by the variable attribute _FillValue) in the data array(s), along with water (data) pixels.</dd><dt><span>coverage_content_type :</span></dt><dd>thematicClassification</dd><dt><span>flag_meanings :</span></dt><dd>valid-water land missing ice</dd><dt><span>flag_values :</span></dt><dd>[0, 1, 2, 4]</dd><dt><span>grid_mapping :</span></dt><dd>crs</dd><dt><span>long_name :</span></dt><dd>pixel characteristics flag array</dd><dt><span>units :</span></dt><dd>pixel_classification</dd></dl></div><div class='xr-var-data'><pre>[3653 values with dtype=float64]</pre></div></li></ul></div></li><li class='xr-section-item'><input id='section-9ebf72be-4c66-4e23-a5ce-a7a023de0421' class='xr-section-summary-in' type='checkbox'  ><label for='section-9ebf72be-4c66-4e23-a5ce-a7a023de0421' class='xr-section-summary' >Indexes: <span>(3)</span></label><div class='xr-section-inline-details'></div><div class='xr-section-details'><ul class='xr-var-list'><li class='xr-var-item'><div class='xr-index-name'><div>lat</div></div><div class='xr-index-preview'>PandasIndex</div><div></div><input id='index-6987d92e-1a48-42ad-89eb-e312c37e46a1' class='xr-index-data-in' type='checkbox'/><label for='index-6987d92e-1a48-42ad-89eb-e312c37e46a1' title='Show/Hide index repr'><svg class='icon xr-icon-database'><use xlink:href='#icon-database'></use></svg></label><div class='xr-index-data'><pre>PandasIndex(Index([-20.424999237060547], dtype=&#x27;float64&#x27;, name=&#x27;lat&#x27;))</pre></div></li><li class='xr-var-item'><div class='xr-index-name'><div>lon</div></div><div class='xr-index-preview'>PandasIndex</div><div></div><input id='index-c9002819-7db8-4505-906e-fb563483dd0e' class='xr-index-data-in' type='checkbox'/><label for='index-c9002819-7db8-4505-906e-fb563483dd0e' title='Show/Hide index repr'><svg class='icon xr-icon-database'><use xlink:href='#icon-database'></use></svg></label><div class='xr-index-data'><pre>PandasIndex(Index([155.52499389648438], dtype=&#x27;float64&#x27;, name=&#x27;lon&#x27;))</pre></div></li><li class='xr-var-item'><div class='xr-index-name'><div>time</div></div><div class='xr-index-preview'>PandasIndex</div><div></div><input id='index-5f5fcd68-ee3a-4092-9fbf-0e3c39117b1c' class='xr-index-data-in' type='checkbox'/><label for='index-5f5fcd68-ee3a-4092-9fbf-0e3c39117b1c' title='Show/Hide index repr'><svg class='icon xr-icon-database'><use xlink:href='#icon-database'></use></svg></label><div class='xr-index-data'><pre>PandasIndex(DatetimeIndex([&#x27;2013-01-01 12:00:00&#x27;, &#x27;2013-01-02 12:00:00&#x27;,\n",
       "               &#x27;2013-01-03 12:00:00&#x27;, &#x27;2013-01-04 12:00:00&#x27;,\n",
       "               &#x27;2013-01-05 12:00:00&#x27;, &#x27;2013-01-06 12:00:00&#x27;,\n",
       "               &#x27;2013-01-07 12:00:00&#x27;, &#x27;2013-01-08 12:00:00&#x27;,\n",
       "               &#x27;2013-01-09 12:00:00&#x27;, &#x27;2013-01-10 12:00:00&#x27;,\n",
       "               ...\n",
       "               &#x27;2022-12-23 12:00:00&#x27;, &#x27;2022-12-24 12:00:00&#x27;,\n",
       "               &#x27;2022-12-25 12:00:00&#x27;, &#x27;2022-12-26 12:00:00&#x27;,\n",
       "               &#x27;2022-12-27 12:00:00&#x27;, &#x27;2022-12-28 12:00:00&#x27;,\n",
       "               &#x27;2022-12-29 12:00:00&#x27;, &#x27;2022-12-30 12:00:00&#x27;,\n",
       "               &#x27;2022-12-31 12:00:00&#x27;, &#x27;2023-01-01 12:00:00&#x27;],\n",
       "              dtype=&#x27;datetime64[ns]&#x27;, name=&#x27;time&#x27;, length=3653, freq=None))</pre></div></li></ul></div></li><li class='xr-section-item'><input id='section-d948b37b-810b-465d-b503-e333b1dbfd01' class='xr-section-summary-in' type='checkbox'  ><label for='section-d948b37b-810b-465d-b503-e333b1dbfd01' class='xr-section-summary' >Attributes: <span>(62)</span></label><div class='xr-section-inline-details'></div><div class='xr-section-details'><dl class='xr-attrs'><dt><span>Conventions :</span></dt><dd>CF-1.6, ACDD-1.3</dd><dt><span>NCO :</span></dt><dd>netCDF Operators version 5.0.6 (Homepage = http://nco.sf.net, Code = http://github.com/nco/nco)</dd><dt><span>acknowledgement :</span></dt><dd>NOAA Coral Reef Watch Program</dd><dt><span>cdm_data_type :</span></dt><dd>Grid</dd><dt><span>comment :</span></dt><dd>This is a product of the NOAA Coral Reef Watch Daily Global 5km Satellite Coral Bleaching Heat Stress Monitoring Product Suite Version 3.1.</dd><dt><span>contributor_name :</span></dt><dd>NOAA Coral Reef Watch Program</dd><dt><span>contributor_role :</span></dt><dd>Collecting source data and deriving products; performing quality control of products; disseminating, storing, and submitting data to archive</dd><dt><span>creator_email :</span></dt><dd>coralreefwatch@noaa.gov</dd><dt><span>creator_institution :</span></dt><dd>NOAA/NESDIS/STAR Coral Reef Watch Program</dd><dt><span>creator_name :</span></dt><dd>NOAA Coral Reef Watch Program</dd><dt><span>creator_type :</span></dt><dd>group</dd><dt><span>creator_url :</span></dt><dd>https://coralreefwatch.noaa.gov/</dd><dt><span>date_created :</span></dt><dd>20180301T120000Z</dd><dt><span>date_issued :</span></dt><dd>20200302T152652Z</dd><dt><span>date_metadata_modified :</span></dt><dd>20190405T120000Z</dd><dt><span>date_modified :</span></dt><dd>20180301T120000Z</dd><dt><span>geospatial_bounds :</span></dt><dd>POLYGON((-90.0 180.0, 90.0 180.0, 90.0 -180.0, -90.0 -180.0, -90.0 180.0))</dd><dt><span>geospatial_bounds_crs :</span></dt><dd>EPSG:32663</dd><dt><span>geospatial_lat_max :</span></dt><dd>89.9749984741211</dd><dt><span>geospatial_lat_min :</span></dt><dd>-89.9749984741211</dd><dt><span>geospatial_lat_resolution :</span></dt><dd>0.05000000074505806</dd><dt><span>geospatial_lat_units :</span></dt><dd>degrees_north</dd><dt><span>geospatial_lon_max :</span></dt><dd>179.97500610351562</dd><dt><span>geospatial_lon_min :</span></dt><dd>-179.97500610351562</dd><dt><span>geospatial_lon_resolution :</span></dt><dd>0.05000000074505806</dd><dt><span>geospatial_lon_units :</span></dt><dd>degrees_east</dd><dt><span>history :</span></dt><dd>Tue Feb 21 09:58:33 2023: ncks -d lat,-26.0,-8.0 -d lon,133.0,169.0 ct5km_dhw_v3.1_19850325.nc ct5km_dhw_v3.1_19850325_gbr.nc\n",
       "This is a product data file of the NOAA Coral Reef Watch Daily Global 5km Satellite Coral Bleaching Heat Stress Monitoring Product Suite Version 3.1 (v3.1) in its NetCDF Version 1.0 (v1.0).</dd><dt><span>id :</span></dt><dd>Satellite_Daily_Global_5km_Degree_Heating_Week</dd><dt><span>institution :</span></dt><dd>NOAA/NESDIS/STAR Coral Reef Watch Program</dd><dt><span>instrument :</span></dt><dd>ATSR-1, ATSR-2, AATSR, AVHRR, AVHRR-2, AVHRR-3, VIIRS, GOES Imager, MTSAT Imager, MTSAT 2 Imager, AHI, ABI, SEVIRI, buoy - moored buoy, buoy - drifting buoy, buoy - TAO buoy, surface seawater intake</dd><dt><span>instrument_vocabulary :</span></dt><dd>NOAA NODC Ocean Archive System Instruments</dd><dt><span>keywords :</span></dt><dd>Oceans &gt; Ocean Temperature &gt; Water Temperature,  Spectral/Engineering &gt; Infrared Wavelengths &gt; Thermal Infrared, Oceans &gt; Ocean Temperature &gt; Degree Heating Week</dd><dt><span>keywords_vocabulary :</span></dt><dd>NASA Global Change Master Directory (GCMD) Science Keywords</dd><dt><span>license :</span></dt><dd>The data produced by Coral Reef Watch are available for use without restriction, but Coral Reef Watch relies on the ethics and integrity of the user to ensure that the source of the data and products is appropriately cited and credited. When using these data and products, credit and courtesy should be given to NOAA Coral Reef Watch. Please include the appropriate DOI associated with this dataset in the citation. For more information, visit the NOAA Coral Reef Watch website: https://coralreefwatch.noaa.gov. Recommendations for citing and providing credit are provided at https://coralreefwatch.noaa.gov/satellite/docs/recommendations_crw_citation.php. Users are referred to the footer section of the Coral Reef Watch website (https://coralreefwatch.noaa.gov/index.php) for disclaimers, policies, notices pertaining to the use of the data.</dd><dt><span>metadata_link :</span></dt><dd>https://coralreefwatch.noaa.gov/product/5km/index.php</dd><dt><span>naming_authority :</span></dt><dd>gov.noaa.coralreefwatch</dd><dt><span>ncei_template_version :</span></dt><dd>NCEI_NetCDF_Grid_Template_v2.0</dd><dt><span>pangeo-forge:inputs_hash :</span></dt><dd>d80b5196a680325dc2d775d8aee7607cb2f6e5196b8a553b6e2489545a292ba8</dd><dt><span>pangeo-forge:recipe_hash :</span></dt><dd>d7a1649301fe73de160a8d8d28d650270ceca8b83c0029aa4d9e11ea5934c9fe</dd><dt><span>pangeo-forge:version :</span></dt><dd>0.9.4</dd><dt><span>platform :</span></dt><dd>Ships, drifting buoys, moored buoys, TOGA-TAO buoy arrays, GOES-8 satellite, GOES-9 satellite, GOES-10 satellite, GOES-11 satellite, GOES-12 satellite, GOES-13 satellite, GOES-14 satellite, GOES-15 satellite, GOES-16 satellite, MTSAT-1R satellite, MTSAT-2 satellite, Himawari-8 satellite, Meteosat-8 satellite, Meteosat-9 satellite, Meteoset-10 satellite, Meteosat-11 satellite, Suomi NPP, MetOp-A satellite, MetOp-B satellite, NOAA-9 satellite, NOAA-11 satellite, NOAA-12 satellite, NOAA-14 satellite, NOAA-15 satellite, NOAA-16 satellite, NOAA-17 satellite, NOAA-18 satellite, NOAA-19 satellite.</dd><dt><span>platform_vocabulary :</span></dt><dd>NOAA NODC Ocean Archive System Platforms</dd><dt><span>processing_level :</span></dt><dd>Derived from L4 satellite sea surface temperaure analysis</dd><dt><span>product_version :</span></dt><dd>3.1</dd><dt><span>program :</span></dt><dd>NOAA Coral Reef Watch Program</dd><dt><span>project :</span></dt><dd>NOAA Coral Reef Watch Program</dd><dt><span>publisher_email :</span></dt><dd>coralreefwatch@noaa.gov</dd><dt><span>publisher_institution :</span></dt><dd>NOAA/NESDIS/STAR Coral Reef Watch Program</dd><dt><span>publisher_name :</span></dt><dd>NOAA Coral Reef Watch Program</dd><dt><span>publisher_type :</span></dt><dd>group</dd><dt><span>publisher_url :</span></dt><dd>https://coralreefwatch.noaa.gov</dd><dt><span>references :</span></dt><dd>https://coralreefwatch.noaa.gov/product/5km/index.php</dd><dt><span>source :</span></dt><dd>Coral Reef Watch Daily Global 5km Satellite Sea Surface Temperature v3.1 (CoralTemp v3.1)</dd><dt><span>spatial_resolution :</span></dt><dd>0.05 degrees</dd><dt><span>standard_name_vocabulary :</span></dt><dd>CF Standard Name Table v27</dd><dt><span>summary :</span></dt><dd>This is a product of NOAA Coral Reef Watch Daily Global 5km Satellite Coral Bleaching Heat Stress Monitoring Product Suite</dd><dt><span>time_coverage_duration :</span></dt><dd>P1D</dd><dt><span>time_coverage_end :</span></dt><dd>19850326T000000Z</dd><dt><span>time_coverage_resolution :</span></dt><dd>P1D</dd><dt><span>time_coverage_start :</span></dt><dd>19850325T000000Z</dd><dt><span>title :</span></dt><dd>NOAA Coral Reef Watch Daily Global 5km Satellite Coral Bleaching Degree Heating Week </dd><dt><span>uuid :</span></dt><dd>24c7f597-298c-4be6-a0c2-ad97b993f60f</dd></dl></div></li></ul></div></div>"
      ],
      "text/plain": [
       "<xarray.Dataset>\n",
       "Dimensions:              (time: 3653, lat: 1, lon: 1)\n",
       "Coordinates:\n",
       "  * lat                  (lat) float64 -20.42\n",
       "  * lon                  (lon) float64 155.5\n",
       "  * time                 (time) datetime64[ns] 2013-01-01T12:00:00 ... 2023-0...\n",
       "Data variables:\n",
       "    degree_heating_week  (time, lat, lon) float64 ...\n",
       "    mask                 (time, lat, lon) float64 ...\n",
       "Attributes: (12/62)\n",
       "    Conventions:                CF-1.6, ACDD-1.3\n",
       "    NCO:                        netCDF Operators version 5.0.6 (Homepage = ht...\n",
       "    acknowledgement:            NOAA Coral Reef Watch Program\n",
       "    cdm_data_type:              Grid\n",
       "    comment:                    This is a product of the NOAA Coral Reef Watc...\n",
       "    contributor_name:           NOAA Coral Reef Watch Program\n",
       "    ...                         ...\n",
       "    time_coverage_duration:     P1D\n",
       "    time_coverage_end:          19850326T000000Z\n",
       "    time_coverage_resolution:   P1D\n",
       "    time_coverage_start:        19850325T000000Z\n",
       "    title:                      NOAA Coral Reef Watch Daily Global 5km Satell...\n",
       "    uuid:                       24c7f597-298c-4be6-a0c2-ad97b993f60f"
      ]
     },
     "execution_count": 18,
     "metadata": {},
     "output_type": "execute_result"
    }
   ],
   "source": [
    "store = zarr.ZipStore(zip_path, mode='r')\n",
    "data = xr.open_dataset(store, engine=\"zarr\")\n",
    "data"
   ]
  },
  {
   "cell_type": "code",
   "execution_count": 19,
   "metadata": {},
   "outputs": [
    {
     "data": {
      "text/plain": [
       "[<matplotlib.lines.Line2D at 0x12b106bd0>]"
      ]
     },
     "execution_count": 19,
     "metadata": {},
     "output_type": "execute_result"
    },
    {
     "data": {
      "image/png": "[encoded data removed]",
      "text/plain": [
       "<Figure size 640x480 with 1 Axes>"
      ]
     },
     "metadata": {},
     "output_type": "display_data"
    }
   ],
   "source": [
    "data.degree_heating_week.plot()"
   ]
  },
  {
   "attachments": {},
   "cell_type": "markdown",
   "metadata": {},
   "source": [
    "## Delete the temp zip file"
   ]
  },
  {
   "cell_type": "code",
   "execution_count": 20,
   "metadata": {},
   "outputs": [],
   "source": [
    "os.remove(zip_path)"
   ]
  }
 ],
 "metadata": {
  "kernelspec": {
   "display_name": ".venv",
   "language": "python",
   "name": "python3"
  },
  "language_info": {
   "codemirror_mode": {
    "name": "ipython",
    "version": 3
   },
   "file_extension": ".py",
   "mimetype": "text/x-python",
   "name": "python",
   "nbconvert_exporter": "python",
   "pygments_lexer": "ipython3",
   "version": "3.11.3"
  },
  "orig_nbformat": 4,
  "vscode": {
   "interpreter": {
    "hash": "ac4bbee1919ea7aef9c6cfd22a25c3c68d6ebab6b5f3e31fb17a356d6f400124"
   }
  }
 },
 "nbformat": 4,
 "nbformat_minor": 2
}

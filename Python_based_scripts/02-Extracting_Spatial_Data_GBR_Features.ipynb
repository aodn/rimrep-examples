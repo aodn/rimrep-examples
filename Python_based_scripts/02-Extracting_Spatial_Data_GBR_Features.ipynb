{
 "cells": [
  {
   "attachments": {},
   "cell_type": "markdown",
   "metadata": {},
   "source": [
    "# Extracting spatial data for Great Barrier Reef features\n",
    "**Author**: Denisse Fierro Arcos  \n",
    "  \n",
    "This notebook will show how to access the RIMReP `geoparquet` collection for Great Barrier Reef (GBR) Feature from the Great Barrier Reef Marine Park Authority (GBRMPA). This dataset includes the unique IDs and names of all features above water, including sand banks, reefs, cays, islets, and islands. Since this dataset includes spatial data, we can extract the spatial limits of each feature included in this dataset.  \n",
    "  \n",
    "We will use the spatial boundaries to extract environmental or biological information for sites of our interest.  \n",
    "  \n",
    "## Worfklow to be followed in this notebook\n",
    "1. Connect to RIMReP_DMS and inspect metadata\n",
    "2. Load GBR features from data collection  \n",
    "3. Get GBR features geometries to extract information from biological or environmental dataset within an area of interest\n",
    "4. Export polygons as shapefiles"
   ]
  },
  {
   "attachments": {},
   "cell_type": "markdown",
   "metadata": {},
   "source": [
    "## Loading libraries"
   ]
  },
  {
   "cell_type": "code",
   "execution_count": 1,
   "metadata": {},
   "outputs": [],
   "source": [
    "# Accessing S3 bucket\n",
    "import pyarrow.dataset as ds\n",
    "import s3fs\n",
    "# Load and manipulate geospatial data\n",
    "import dask_geopandas\n",
    "# Plotting\n",
    "import matplotlib.pyplot as plt\n",
    "# Mapping\n",
    "import cartopy.crs as ccrs\n",
    "import cartopy.feature as cf\n",
    "# Dealing with operating system, i.e. reading and writing files\n",
    "import os"
   ]
  },
  {
   "attachments": {},
   "cell_type": "markdown",
   "metadata": {},
   "source": [
    "## Inspecting metadata\n",
    "To get a better understanding of the GBR features dataset, we will inspect its metadata. This information will also help us determine the best way to load the data into memory."
   ]
  },
  {
   "cell_type": "code",
   "execution_count": 2,
   "metadata": {},
   "outputs": [
    {
     "name": "stdout",
     "output_type": "stream",
     "text": [
      "TARGET_FID: int64\n",
      "DATASET: string\n",
      "LOC_NAME_S: string\n",
      "GBR_NAME: string\n",
      "CHART_NAME: string\n",
      "TRAD_NAME: string\n",
      "UN_FEATURE: string\n",
      "LABEL_ID: string\n",
      "SORT_GBR_I: int64\n",
      "FEAT_NAME: string\n",
      "LEVEL_1: string\n",
      "LEVEL_2: string\n",
      "LEVEL_3: string\n",
      "CLASS_CONF: string\n",
      "CLASS_SRC: string\n",
      "POLY_ORIG: string\n",
      "IMG_SRC: string\n",
      "SUB_NO: int64\n",
      "CODE: string\n",
      "FEATURE_C: int64\n",
      "QLD_NAME: string\n",
      "X_LABEL: string\n",
      "GBR_ID: string\n",
      "LOC_NAME_L: string\n",
      "X_COORD: double\n",
      "Y_COORD: double\n",
      "SHAPE_AREA: double\n",
      "SHAPE_LEN: double\n",
      "Checked: string\n",
      "RegionID: int64\n",
      "LatitudeID: int64\n",
      "GroupID: int64\n",
      "PriorityLb: string\n",
      "Country: string\n",
      "UNIQUE_ID: string\n",
      "geometry: binary\n",
      "minx: double\n",
      "miny: double\n",
      "maxx: double\n",
      "maxy: double\n",
      "fid: int64\n",
      "-- schema metadata --\n",
      "pandas: '{\"index_columns\": [\"fid\"], \"column_indexes\": [{\"name\": null, \"fi' + 4911\n",
      "geo: '{\"primary_column\": \"geometry\", \"columns\": {\"geometry\": {\"encoding\":' + 1142\n",
      "Number of columns:  41\n",
      "Number of rows:  9612\n",
      "Variables: ['TARGET_FID', 'DATASET', 'LOC_NAME_S', 'GBR_NAME', 'CHART_NAME', 'TRAD_NAME', 'UN_FEATURE', 'LABEL_ID', 'SORT_GBR_I', 'FEAT_NAME', 'LEVEL_1', 'LEVEL_2', 'LEVEL_3', 'CLASS_CONF', 'CLASS_SRC', 'POLY_ORIG', 'IMG_SRC', 'SUB_NO', 'CODE', 'FEATURE_C', 'QLD_NAME', 'X_LABEL', 'GBR_ID', 'LOC_NAME_L', 'X_COORD', 'Y_COORD', 'SHAPE_AREA', 'SHAPE_LEN', 'Checked', 'RegionID', 'LatitudeID', 'GroupID', 'PriorityLb', 'Country', 'UNIQUE_ID', 'geometry', 'minx', 'miny', 'maxx', 'maxy', 'fid']\n"
     ]
    }
   ],
   "source": [
    "#Connecting to metadata file\n",
    "s3 = s3fs.S3FileSystem(anon=True)\n",
    "## this is the location of the parquet file in the DMS repository\n",
    "uri = \"gbr-dms-data-public/gbrmpa-complete-gbr-features/data.parquet\"\n",
    "dataset = ds.dataset(uri, filesystem=s3)\n",
    "print(dataset.schema)\n",
    "print('Number of columns: ', len(dataset.schema))\n",
    "print('Number of rows: ', dataset.count_rows())\n",
    "print('Variables:', dataset.schema.names)"
   ]
  },
  {
   "attachments": {},
   "cell_type": "markdown",
   "metadata": {},
   "source": [
    "The metadata is telling us that this dataset contains 41 columns and 9,612 rows. Each row represents a unique feature in the GBR.\n",
    "  \n",
    "We can check the structure of the data by calling its `schema` attribute. This will return a list containing the name of the column and its data type."
   ]
  },
  {
   "attachments": {},
   "cell_type": "markdown",
   "metadata": {},
   "source": [
    "The `schema` not only gives the names of the columns included in the GBR dataset, but it also tells us the data types included in each column (e.g., `string` or `double`).  \n",
    "  "
   ]
  },
  {
   "attachments": {},
   "cell_type": "markdown",
   "metadata": {},
   "source": [
    "We will need to access four variables to create a list of all above water sites in the Great Barrier Reef Marine Park:  \n",
    "- `UNIQUE_ID`, which includes a unique identification number for each area above water  \n",
    "- `GBR_NAME`, which includes the name of each location above water  \n",
    "- `LOC_NAME_S`, which is the combination between feature name and unique ID  \n",
    "- `geometry`, which includes latitude and longitude coordinates  \n",
    "  \n",
    "**Note**: One location (`GBR_NAME`) may contain multiple values under the `UNIQUE_ID` column. This is because above water structures may not appear connected when looking at the surface, but they are part of the same structure and thus are connected under water."
   ]
  },
  {
   "attachments": {},
   "cell_type": "markdown",
   "metadata": {},
   "source": [
    "## Connecting to S3 parquet directory\n",
    "We will connect to the S3 bucket containing the GBR features dataset using the `dask_geopandas` library. "
   ]
  },
  {
   "cell_type": "code",
   "execution_count": 3,
   "metadata": {},
   "outputs": [
    {
     "data": {
      "text/html": [
       "<div>\n",
       "<style scoped>\n",
       "    .dataframe tbody tr th:only-of-type {\n",
       "        vertical-align: middle;\n",
       "    }\n",
       "\n",
       "    .dataframe tbody tr th {\n",
       "        vertical-align: top;\n",
       "    }\n",
       "\n",
       "    .dataframe thead th {\n",
       "        text-align: right;\n",
       "    }\n",
       "</style>\n",
       "<table border=\"1\" class=\"dataframe\">\n",
       "  <thead>\n",
       "    <tr style=\"text-align: right;\">\n",
       "      <th></th>\n",
       "      <th>UNIQUE_ID</th>\n",
       "      <th>GBR_NAME</th>\n",
       "      <th>LOC_NAME_S</th>\n",
       "      <th>geometry</th>\n",
       "    </tr>\n",
       "    <tr>\n",
       "      <th>fid</th>\n",
       "      <th></th>\n",
       "      <th></th>\n",
       "      <th></th>\n",
       "      <th></th>\n",
       "    </tr>\n",
       "  </thead>\n",
       "  <tbody>\n",
       "    <tr>\n",
       "      <th>0</th>\n",
       "      <td>09347110101</td>\n",
       "      <td>U/N Sand Bank</td>\n",
       "      <td>U/N Sand Bank (09-347a)</td>\n",
       "      <td>POLYGON ((143.0851 -9.26657, 143.08702 -9.2676...</td>\n",
       "    </tr>\n",
       "    <tr>\n",
       "      <th>1</th>\n",
       "      <td>09347110100</td>\n",
       "      <td>U/N Sand Bank</td>\n",
       "      <td>U/N Sand Bank (09-347)</td>\n",
       "      <td>POLYGON ((143.05491 -9.2934, 143.05465 -9.2946...</td>\n",
       "    </tr>\n",
       "    <tr>\n",
       "      <th>2</th>\n",
       "      <td>09355110126</td>\n",
       "      <td>U/N Sand Bank</td>\n",
       "      <td>U/N Sand Bank (09-355z)</td>\n",
       "      <td>POLYGON ((143.10563 -9.3908, 143.10543 -9.3908...</td>\n",
       "    </tr>\n",
       "    <tr>\n",
       "      <th>3</th>\n",
       "      <td>09355110127</td>\n",
       "      <td>U/N Sand Bank</td>\n",
       "      <td>U/N Sand Bank (09-355a0)</td>\n",
       "      <td>POLYGON ((143.09853 -9.39008, 143.09812 -9.390...</td>\n",
       "    </tr>\n",
       "    <tr>\n",
       "      <th>4</th>\n",
       "      <td>09355110128</td>\n",
       "      <td>U/N Sand Bank</td>\n",
       "      <td>U/N Sand Bank (09-355a1)</td>\n",
       "      <td>POLYGON ((143.09389 -9.39146, 143.0936 -9.3914...</td>\n",
       "    </tr>\n",
       "  </tbody>\n",
       "</table>\n",
       "</div>"
      ],
      "text/plain": [
       "       UNIQUE_ID       GBR_NAME                LOC_NAME_S  \\\n",
       "fid                                                         \n",
       "0    09347110101  U/N Sand Bank   U/N Sand Bank (09-347a)   \n",
       "1    09347110100  U/N Sand Bank    U/N Sand Bank (09-347)   \n",
       "2    09355110126  U/N Sand Bank   U/N Sand Bank (09-355z)   \n",
       "3    09355110127  U/N Sand Bank  U/N Sand Bank (09-355a0)   \n",
       "4    09355110128  U/N Sand Bank  U/N Sand Bank (09-355a1)   \n",
       "\n",
       "                                              geometry  \n",
       "fid                                                     \n",
       "0    POLYGON ((143.0851 -9.26657, 143.08702 -9.2676...  \n",
       "1    POLYGON ((143.05491 -9.2934, 143.05465 -9.2946...  \n",
       "2    POLYGON ((143.10563 -9.3908, 143.10543 -9.3908...  \n",
       "3    POLYGON ((143.09853 -9.39008, 143.09812 -9.390...  \n",
       "4    POLYGON ((143.09389 -9.39146, 143.0936 -9.3914...  "
      ]
     },
     "execution_count": 3,
     "metadata": {},
     "output_type": "execute_result"
    }
   ],
   "source": [
    "# Connecting to the S3 bucket where the GBR data is stored\n",
    "dask_geo_df = dask_geopandas.read_parquet(uri,\n",
    "                                          #Specifying which columns to read\n",
    "                                          columns = ['UNIQUE_ID', 'GBR_NAME', 'LOC_NAME_S', 'geometry'],\n",
    "                                          #Specifying the column to be used as index\n",
    "                                          index = 'fid',\n",
    "                                          #Specifying the filesystem\n",
    "                                          filesystem=s3) \n",
    "\n",
    "# Transforming to pandas dataframe\n",
    "sites = dask_geo_df.compute()\n",
    "\n",
    "# Checking the contents of the dataframe - First five rows\n",
    "sites.head()"
   ]
  },
  {
   "attachments": {},
   "cell_type": "markdown",
   "metadata": {},
   "source": [
    "When exploring the GBR features dataset, you may have noticed other fields besides `geometry` that contain spatial information. For example, `X_COORD` and `Y_COORD` contain the coordinates of the centroid of each feature in the GBR dataset. While, `minx`, `miny`, `maxx`, and `maxy` fields contain the coordinates for the lower left corner and the upper right corner of a feature. This is otherwise known as the extent, which is a rectangle covering the maximum spatial extent of a feature.  \n",
    "  \n",
    "We chose to use the `geometry` field in this notebook because it gives us access to fine scale data about a feature (see light blue line in image below). The centroid (`X_COORD` and `Y_COORD` fields) would have only given information about a single point (white dot at the centre of the image). The extent (dark blue rectangle), on the other hand, would have coarsen the resolution of a feature.\n",
    "\n",
    "![title](../images/extent_geom.jpeg)"
   ]
  },
  {
   "attachments": {},
   "cell_type": "markdown",
   "metadata": {},
   "source": [
    "## Plotting all features\n",
    "We will make a map of all features included within the Great Barrier Reef Marine Protected Area in green so they are easily recognised. Note that the GBR features also includes a `Mainland` location, which represents the state of Queensland. We will show this state as light red."
   ]
  },
  {
   "cell_type": "code",
   "execution_count": 4,
   "metadata": {},
   "outputs": [
    {
     "data": {
      "text/plain": [
       "<cartopy.mpl.feature_artist.FeatureArtist at 0x7ca5580dd1d0>"
      ]
     },
     "execution_count": 4,
     "metadata": {},
     "output_type": "execute_result"
    },
    {
     "data": {
      "image/png": "[encoded data removed]",
      "text/plain": [
       "<Figure size 640x480 with 1 Axes>"
      ]
     },
     "metadata": {},
     "output_type": "display_data"
    }
   ],
   "source": [
    "#Initiliasing the figure\n",
    "fig = plt.figure()\n",
    "\n",
    "#Adding a plot to the figure and assigning projection\n",
    "ax = plt.axes(projection = ccrs.PlateCarree())\n",
    "\n",
    "#Plotting all sites in green\n",
    "sites.plot(ax = ax, alpha = 0.5, color = 'green')\n",
    "\n",
    "#Plotting mainland in red\n",
    "sites[sites.LOC_NAME_S.str.contains('Mainland')].plot(ax = ax, color = 'red', alpha = 0.5)\n",
    "\n",
    "#Adding a basemap of land areas\n",
    "ax.add_feature(cf.LAND)"
   ]
  },
  {
   "attachments": {},
   "cell_type": "markdown",
   "metadata": {},
   "source": [
    "## Saving GBR features as shapefile\n",
    "We will need to provide a path to the folder where we want to save our shapefile containing the limits of all features within the GBR Marine Protected Area."
   ]
  },
  {
   "cell_type": "code",
   "execution_count": 5,
   "metadata": {},
   "outputs": [],
   "source": [
    "# Checking if Outputs folder exists, if not, creates it\n",
    "os.makedirs('Outputs', exist_ok = True)\n",
    "\n",
    "#Save output\n",
    "sites.to_file('Outputs/GBR_features.shp')"
   ]
  },
  {
   "attachments": {},
   "cell_type": "markdown",
   "metadata": {},
   "source": [
    "That is the end of this notebook. We have demonstrated how to extract data from the Complete GBR Features dataset, how to plot it and save it locally.  "
   ]
  }
 ],
 "metadata": {
  "kernelspec": {
   "display_name": "rimrep",
   "language": "python",
   "name": "python3"
  },
  "language_info": {
   "codemirror_mode": {
    "name": "ipython",
    "version": 3
   },
   "file_extension": ".py",
   "mimetype": "text/x-python",
   "name": "python",
   "nbconvert_exporter": "python",
   "pygments_lexer": "ipython3",
   "version": "3.11.9"
  },
  "orig_nbformat": 4
 },
 "nbformat": 4,
 "nbformat_minor": 2
}

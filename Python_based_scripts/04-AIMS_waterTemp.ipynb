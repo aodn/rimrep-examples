{
 "cells": [
  {
   "attachments": {},
   "cell_type": "markdown",
   "metadata": {},
   "source": [
    "# AIMS ocean temperature dataset\n",
    "Authors: Leo Ghignone, Denisse Fierro Arcos  \n",
    "  \n",
    "This notebook demonstrates direct access to the [AIMS Temperature Logger Monitoring Program](https://apps.aims.gov.au/metadata/view/4a12a8c0-c573-11dc-b99b-00008a07204e) dataset in the RIMReP `geoparquet` collection. This dataset includes sea temperature data from 1980 for tropical and subtropical coral reefs around Australia, and it includes sites within the Great Barrier Reef.   \n",
    "  \n",
    "The `geoparquet` collection is a compilation of datasets that have been converted to the Apache `parquet` format. This format is designed for efficient storage and retrieval of tabular data. The `geoparquet` collection is stored on the RIMReP S3 bucket and is accessible to all users.  \n",
    "  \n",
    "The workflow in this notebook is as follows:\n",
    "- Inspect dataset metadata\n",
    "- Subset the dataset to include sites within the Great Barrier Reef (GBR)\n",
    "- Aggregate temperature data per site\n",
    "- Create a map with the location of all sites where GBR temperature loggers were deployed"
   ]
  },
  {
   "attachments": {},
   "cell_type": "markdown",
   "metadata": {},
   "source": [
    "## Loading libraries"
   ]
  },
  {
   "cell_type": "code",
   "execution_count": 3,
   "metadata": {},
   "outputs": [],
   "source": [
    "# Accessing S3 bucket\n",
    "from pyarrow import parquet as pq\n",
    "import pyarrow.dataset as ds\n",
    "# Manipulating dataframes\n",
    "import pandas as pd\n",
    "# Load and manipulate geospatial data\n",
    "import dask_geopandas\n",
    "# Plotting\n",
    "import matplotlib.pyplot as plt\n",
    "# Mapping\n",
    "import cartopy.crs as ccrs\n",
    "import cartopy.feature as cf"
   ]
  },
  {
   "attachments": {},
   "cell_type": "markdown",
   "metadata": {},
   "source": [
    "## Inspecting metadata\n",
    "The AIMS Temperature dataset contains over 150 million records. We will use its metadata to check the structure of the dataset and to determine the best way to access the data."
   ]
  },
  {
   "cell_type": "code",
   "execution_count": 4,
   "metadata": {},
   "outputs": [
    {
     "name": "stdout",
     "output_type": "stream",
     "text": [
      "deployment_id: int64\n",
      "site: string\n",
      "site_id: int64\n",
      "subsite: string\n",
      "subsite_id: int64\n",
      "from_date: timestamp[ns]\n",
      "thru_date: timestamp[ns]\n",
      "depth: double\n",
      "parameter: string\n",
      "instrument_type: string\n",
      "serial_num: string\n",
      "lat: double\n",
      "lon: double\n",
      "gbrmpa_reef_id: string\n",
      "metadata_uuid: string\n",
      "sites_with_climatology_available: int64\n",
      "time: timestamp[ns, tz=UTC]\n",
      "cal_val: double\n",
      "qc_val: double\n",
      "qc_flag: int64\n",
      "geometry: binary\n",
      "fid: string\n",
      "-- schema metadata --\n",
      "pandas: '{\"index_columns\": [\"fid\"], \"column_indexes\": [{\"name\": null, \"fi' + 2827\n",
      "geo: '{\"primary_column\": \"geometry\", \"columns\": {\"geometry\": {\"encoding\":' + 174\n",
      "Number of columns:  22\n",
      "Number of rows:  176703852\n",
      "Variables: ['deployment_id', 'site', 'site_id', 'subsite', 'subsite_id', 'from_date', 'thru_date', 'depth', 'parameter', 'instrument_type', 'serial_num', 'lat', 'lon', 'gbrmpa_reef_id', 'metadata_uuid', 'sites_with_climatology_available', 'time', 'cal_val', 'qc_val', 'qc_flag', 'geometry', 'fid']\n"
     ]
    }
   ],
   "source": [
    "#Connecting to metadata file\n",
    "uri = \"s3://gbr-dms-data-public/aims-temp-loggers/data.parquet\"\n",
    "dataset = ds.dataset(uri, format=\"parquet\")\n",
    "#Checking contents\n",
    "print(dataset.schema)\n",
    "print('Number of columns: ', len(dataset.schema))\n",
    "print('Number of rows: ', dataset.count_rows())\n",
    "print('Variables:', dataset.schema.names)"
   ]
  },
  {
   "attachments": {},
   "cell_type": "markdown",
   "metadata": {},
   "source": [
    "The metadata is telling us that the AIMS temperature dataset contains 22 columns and over 170 million rows.  \n",
    "  \n",
    "We can check the structure of the data by calling its `schema` attribute. This will return a list containing the name of the column and its data type."
   ]
  },
  {
   "attachments": {},
   "cell_type": "markdown",
   "metadata": {},
   "source": [
    "The `schema` tells us that the dataset contains 23 columns, which matches the information we got from the metadata. It also tells us that the data types are either `string` or `double`.  \n"
   ]
  },
  {
   "attachments": {},
   "cell_type": "markdown",
   "metadata": {},
   "source": [
    "If we refer to the original site for the [AIMS Temperature Logger Monitoring Program](https://apps.aims.gov.au/metadata/view/4a12a8c0-c573-11dc-b99b-00008a07204e), we can see that the `qc_val` column refers to the quality controlled temperature obtained from the loggers deployed as part of this program."
   ]
  },
  {
   "attachments": {},
   "cell_type": "markdown",
   "metadata": {},
   "source": [
    "## Connecting to S3 parquet directory\n",
    "We will connect to the S3 bucket containing the AIMS Temperature dataset using the `pyarrow` library. We will only keep sites that have been deployed in the Great Barrier Reef Marine Protected Area (GBRMPA), so we will provide a `filter` that contains the minimum and maximum coordinates (i.e., `lat` and `lon`) of a bounding box around the Great Barrier Reef Marine Protected Area.\n",
    "\n",
    "As we saw above, this dataset includes 23 columns, but we will only select a few that contain information that is interesting to us:\n",
    "- `site`: name of site where temperature logger was deployed,\n",
    "- `lat`: latitude of the logger deployment site,\n",
    "- `lon`: longitude of the logger deployment site,\n",
    "- `time`: date and time when loggers recorded temperature data,\n",
    "- `qc_val`: quality controlled temperature data\n",
    "\n",
    "Let's get data from a few reef sites near Townsville: Geoffrey Bay, John Brewer, and Davies Reef. We will filter the data to include only these sites.  \n",
    "The following code chunk may take several minutes to run, as it is loading over 170 million records. The DMS team is currently working on optimizing the data partitioning strategy to make it faster."
   ]
  },
  {
   "cell_type": "code",
   "execution_count": 5,
   "metadata": {},
   "outputs": [
    {
     "data": {
      "text/html": [
       "<div>\n",
       "<style scoped>\n",
       "    .dataframe tbody tr th:only-of-type {\n",
       "        vertical-align: middle;\n",
       "    }\n",
       "\n",
       "    .dataframe tbody tr th {\n",
       "        vertical-align: top;\n",
       "    }\n",
       "\n",
       "    .dataframe thead th {\n",
       "        text-align: right;\n",
       "    }\n",
       "</style>\n",
       "<table border=\"1\" class=\"dataframe\">\n",
       "  <thead>\n",
       "    <tr style=\"text-align: right;\">\n",
       "      <th></th>\n",
       "      <th>site</th>\n",
       "      <th>subsite</th>\n",
       "      <th>time</th>\n",
       "      <th>qc_val</th>\n",
       "      <th>lat</th>\n",
       "      <th>lon</th>\n",
       "    </tr>\n",
       "    <tr>\n",
       "      <th>fid</th>\n",
       "      <th></th>\n",
       "      <th></th>\n",
       "      <th></th>\n",
       "      <th></th>\n",
       "      <th></th>\n",
       "      <th></th>\n",
       "    </tr>\n",
       "  </thead>\n",
       "  <tbody>\n",
       "    <tr>\n",
       "      <th>1991-923-2786</th>\n",
       "      <td>Geoffrey Bay</td>\n",
       "      <td>GBSL2</td>\n",
       "      <td>1991-11-20 14:00:00+00:00</td>\n",
       "      <td>28.58</td>\n",
       "      <td>-19.155</td>\n",
       "      <td>146.865</td>\n",
       "    </tr>\n",
       "    <tr>\n",
       "      <th>1991-923-2786</th>\n",
       "      <td>Geoffrey Bay</td>\n",
       "      <td>GBSL2</td>\n",
       "      <td>1991-12-07 13:00:00+00:00</td>\n",
       "      <td>29.79</td>\n",
       "      <td>-19.155</td>\n",
       "      <td>146.865</td>\n",
       "    </tr>\n",
       "    <tr>\n",
       "      <th>1991-923-2786</th>\n",
       "      <td>Geoffrey Bay</td>\n",
       "      <td>GBSL2</td>\n",
       "      <td>1991-12-07 14:00:00+00:00</td>\n",
       "      <td>29.9</td>\n",
       "      <td>-19.155</td>\n",
       "      <td>146.865</td>\n",
       "    </tr>\n",
       "    <tr>\n",
       "      <th>1991-923-2786</th>\n",
       "      <td>Geoffrey Bay</td>\n",
       "      <td>GBSL2</td>\n",
       "      <td>1991-12-07 15:00:00+00:00</td>\n",
       "      <td>29.96</td>\n",
       "      <td>-19.155</td>\n",
       "      <td>146.865</td>\n",
       "    </tr>\n",
       "    <tr>\n",
       "      <th>1991-923-2786</th>\n",
       "      <td>Geoffrey Bay</td>\n",
       "      <td>GBSL2</td>\n",
       "      <td>1991-12-07 16:00:00+00:00</td>\n",
       "      <td>29.92</td>\n",
       "      <td>-19.155</td>\n",
       "      <td>146.865</td>\n",
       "    </tr>\n",
       "  </tbody>\n",
       "</table>\n",
       "</div>"
      ],
      "text/plain": [
       "                       site subsite                      time  qc_val     lat  \\\n",
       "fid                                                                             \n",
       "1991-923-2786  Geoffrey Bay   GBSL2 1991-11-20 14:00:00+00:00   28.58 -19.155   \n",
       "1991-923-2786  Geoffrey Bay   GBSL2 1991-12-07 13:00:00+00:00   29.79 -19.155   \n",
       "1991-923-2786  Geoffrey Bay   GBSL2 1991-12-07 14:00:00+00:00    29.9 -19.155   \n",
       "1991-923-2786  Geoffrey Bay   GBSL2 1991-12-07 15:00:00+00:00   29.96 -19.155   \n",
       "1991-923-2786  Geoffrey Bay   GBSL2 1991-12-07 16:00:00+00:00   29.92 -19.155   \n",
       "\n",
       "                   lon  \n",
       "fid                     \n",
       "1991-923-2786  146.865  \n",
       "1991-923-2786  146.865  \n",
       "1991-923-2786  146.865  \n",
       "1991-923-2786  146.865  \n",
       "1991-923-2786  146.865  "
      ]
     },
     "execution_count": 5,
     "metadata": {},
     "output_type": "execute_result"
    }
   ],
   "source": [
    "# Selecting a set of reefs to filter the data\n",
    "filter = [('site', 'in', ['Geoffrey Bay', 'John Brewer', 'Davies Reef'])]\n",
    "\n",
    "# Connecting to the S3 bucket where the AIMS temperature data is stored\n",
    "dask_geo_df = dask_geopandas.read_parquet(uri, \n",
    "                                          #Applying initial bounding box filter\n",
    "                                          filters = [filter], \n",
    "                                          #Specifying which columns to read\n",
    "                                          columns = ['site', 'subsite', 'time', 'qc_val', 'lat', 'lon'],\n",
    "                                          #Specifying the column to be used as index\n",
    "                                          index = 'fid',\n",
    "                                          #Connecting anonimously as no authentication is needed for this s3 bucket (it is public)\n",
    "                                          storage_options = {\"anon\": True}) \n",
    "\n",
    "# Transforming to pandas dataframe\n",
    "df = dask_geo_df.compute()\n",
    "\n",
    "#Checking the contents of the dataframe - First five rows\n",
    "df.head()"
   ]
  },
  {
   "attachments": {},
   "cell_type": "markdown",
   "metadata": {},
   "source": [
    "You can see above that the `site` is repeated multiple times. This is because the temperature loggers were deployed on multiple occassions at the same site. If we print more rows, you will also see that the coordinates for a particular site vary slightly. This is because the temperature loggers were not deployed at the exact same location each time, but they were all deployed near each other.  \n",
    "    \n",
    "Next, we will calculate the mean deployment coordinate, mean temperature, and total number of temperature records for each site. We will use the `groupby` method to group the data by `site_id` and then we will use the `agg` method to perform our calculations.  \n",
    "  \n",
    "Note the use of `compute()` at the end of our code. This will trigger our calculations and load the results as a data frame into memory."
   ]
  },
  {
   "cell_type": "code",
   "execution_count": 6,
   "metadata": {},
   "outputs": [
    {
     "data": {
      "text/html": [
       "<div>\n",
       "<style scoped>\n",
       "    .dataframe tbody tr th:only-of-type {\n",
       "        vertical-align: middle;\n",
       "    }\n",
       "\n",
       "    .dataframe tbody tr th {\n",
       "        vertical-align: top;\n",
       "    }\n",
       "\n",
       "    .dataframe thead th {\n",
       "        text-align: right;\n",
       "    }\n",
       "</style>\n",
       "<table border=\"1\" class=\"dataframe\">\n",
       "  <thead>\n",
       "    <tr style=\"text-align: right;\">\n",
       "      <th></th>\n",
       "      <th>tempMean</th>\n",
       "      <th>latMean</th>\n",
       "      <th>lonMean</th>\n",
       "      <th>dateMin</th>\n",
       "      <th>dateMax</th>\n",
       "      <th>number</th>\n",
       "    </tr>\n",
       "    <tr>\n",
       "      <th>site</th>\n",
       "      <th></th>\n",
       "      <th></th>\n",
       "      <th></th>\n",
       "      <th></th>\n",
       "      <th></th>\n",
       "      <th></th>\n",
       "    </tr>\n",
       "  </thead>\n",
       "  <tbody>\n",
       "    <tr>\n",
       "      <th>Davies Reef</th>\n",
       "      <td>26.571945</td>\n",
       "      <td>-18.819999</td>\n",
       "      <td>147.651407</td>\n",
       "      <td>1996-05-02 14:00:00+00:00</td>\n",
       "      <td>2024-03-03 13:50:00+00:00</td>\n",
       "      <td>3193598</td>\n",
       "    </tr>\n",
       "    <tr>\n",
       "      <th>Geoffrey Bay</th>\n",
       "      <td>26.027825</td>\n",
       "      <td>-19.154884</td>\n",
       "      <td>146.867632</td>\n",
       "      <td>1991-11-20 14:00:00+00:00</td>\n",
       "      <td>2024-02-14 05:29:59+00:00</td>\n",
       "      <td>3278860</td>\n",
       "    </tr>\n",
       "    <tr>\n",
       "      <th>John Brewer</th>\n",
       "      <td>26.899369</td>\n",
       "      <td>-18.627434</td>\n",
       "      <td>147.069898</td>\n",
       "      <td>1996-04-23 14:00:00+00:00</td>\n",
       "      <td>2024-02-06 13:50:00+00:00</td>\n",
       "      <td>2430204</td>\n",
       "    </tr>\n",
       "  </tbody>\n",
       "</table>\n",
       "</div>"
      ],
      "text/plain": [
       "               tempMean    latMean     lonMean                   dateMin  \\\n",
       "site                                                                       \n",
       "Davies Reef   26.571945 -18.819999  147.651407 1996-05-02 14:00:00+00:00   \n",
       "Geoffrey Bay  26.027825 -19.154884  146.867632 1991-11-20 14:00:00+00:00   \n",
       "John Brewer   26.899369 -18.627434  147.069898 1996-04-23 14:00:00+00:00   \n",
       "\n",
       "                               dateMax   number  \n",
       "site                                             \n",
       "Davies Reef  2024-03-03 13:50:00+00:00  3193598  \n",
       "Geoffrey Bay 2024-02-14 05:29:59+00:00  3278860  \n",
       "John Brewer  2024-02-06 13:50:00+00:00  2430204  "
      ]
     },
     "execution_count": 6,
     "metadata": {},
     "output_type": "execute_result"
    }
   ],
   "source": [
    "#Grouping our dataframe by site_id and aggregating the lat and lon columns by mean and the site_id column by count\n",
    "counts = df.groupby('site').agg(\n",
    "    #Calculating mean temperature\n",
    "    tempMean = pd.NamedAgg(column = 'qc_val', aggfunc = 'mean'),\n",
    "    #Calculating mean lat and lon\n",
    "    latMean = pd.NamedAgg(column = 'lat', aggfunc = 'mean'),\n",
    "    lonMean = pd.NamedAgg(column = 'lon', aggfunc = 'mean'),\n",
    "    # #Calculating range of time when data was collected\n",
    "    dateMin = pd.NamedAgg(column = 'time', aggfunc = 'min'),\n",
    "    dateMax = pd.NamedAgg(column = 'time', aggfunc = 'max'), \n",
    "    #Calculating the number of rows (i.e., deployments) per site_id\n",
    "    number = pd.NamedAgg(column = 'site', aggfunc = 'count'))\n",
    "\n",
    "#Checking the contents of the dataframe - First five rows\n",
    "counts.head()"
   ]
  },
  {
   "attachments": {},
   "cell_type": "markdown",
   "metadata": {},
   "source": [
    "## Mapping sites\n",
    "From the summary table we created in the previous step, we will make a map with the location of all deployment sites within the GBRMPA bounding box. We will change the size of the markers based on the number of temperature records collected at each site (`number` column)."
   ]
  },
  {
   "cell_type": "code",
   "execution_count": 7,
   "metadata": {},
   "outputs": [
    {
     "data": {
      "text/plain": [
       "<cartopy.mpl.feature_artist.FeatureArtist at 0x72eeeb2951c0>"
      ]
     },
     "execution_count": 7,
     "metadata": {},
     "output_type": "execute_result"
    },
    {
     "data": {
      "image/png": "[encoded data removed]",
      "text/plain": [
       "<Figure size 640x480 with 1 Axes>"
      ]
     },
     "metadata": {},
     "output_type": "display_data"
    }
   ],
   "source": [
    "#Initiliasing the figure\n",
    "fig = plt.figure()\n",
    "\n",
    "#Adding a plot to the figure and assigning projection\n",
    "ax = plt.axes(projection = ccrs.PlateCarree())\n",
    "\n",
    "#Plotting the data using a scatter plot\n",
    "ax.scatter(x = counts.lonMean, y = counts.latMean, s = counts.number/50000, alpha = 0.5)\n",
    "\n",
    "#Adding a basemap of land areas\n",
    "ax.add_feature(cf.LAND)"
   ]
  },
  {
   "attachments": {},
   "cell_type": "markdown",
   "metadata": {},
   "source": [
    "We have successfully plotted the location of the AIMS temperature loggers within the GBRMPA bounding box. We can see that the number of temperature records per logger is not the same throughout the GBRMPA. The largest number of records are for loggers located near the coast."
   ]
  }
 ],
 "metadata": {
  "kernelspec": {
   "display_name": "rimrep",
   "language": "python",
   "name": "python3"
  },
  "language_info": {
   "codemirror_mode": {
    "name": "ipython",
    "version": 3
   },
   "file_extension": ".py",
   "mimetype": "text/x-python",
   "name": "python",
   "nbconvert_exporter": "python",
   "pygments_lexer": "ipython3",
   "version": "3.12.2"
  },
  "orig_nbformat": 4
 },
 "nbformat": 4,
 "nbformat_minor": 2
}

{
 "cells": [
  {
   "attachments": {},
   "cell_type": "markdown",
   "metadata": {},
   "source": [
    "# Extracting spatial data for Great Barrier Reef features\n",
    "**Author**: Denisse Fierro Arcos  \n",
    "  \n",
    "This notebook will show how to access the RIMReP `geoparquet` collection for Great Barrier Reef (GBR) Feature from the Great Barrier Reef Marine Park Authority (GBRMPA). This dataset includes the unique IDs and names of all features above water, including sand banks, reefs, cays, islets, and islands. Since this dataset includes spatial data, we can extract the spatial limits of each feature included in this dataset.  \n",
    "  \n",
    "We will use the spatial boundaries to extract environmental or biological information for sites of our interest.  \n",
    "  \n",
    "## Worfklow to be followed in this notebook\n",
    "1. Connect to RIMReP_DMS and inspect metadata\n",
    "2. Load GBR features from data collection  \n",
    "3. Get GBR features geometries to extract information from biological or environmental dataset within an area of interest\n",
    "4. Export polygons as shapefiles"
   ]
  },
  {
   "attachments": {},
   "cell_type": "markdown",
   "metadata": {},
   "source": [
    "## Loading libraries"
   ]
  },
  {
   "cell_type": "code",
   "execution_count": 1,
   "metadata": {},
   "outputs": [],
   "source": [
    "# Accessing S3 bucket\n",
    "from pyarrow import parquet as pq\n",
    "# Load and manipulate geospatial data\n",
    "import dask_geopandas\n",
    "import geopandas as gpd\n",
    "# Plotting\n",
    "import matplotlib.pyplot as plt\n",
    "# Mapping\n",
    "import cartopy.crs as ccrs\n",
    "import cartopy.feature as cf"
   ]
  },
  {
   "attachments": {},
   "cell_type": "markdown",
   "metadata": {},
   "source": [
    "## Inspecting metadata\n",
    "To get a better understanding of the GBR features dataset, we will inspect its metadata. This information will also help us determine the best way to load the data into memory."
   ]
  },
  {
   "cell_type": "code",
   "execution_count": 4,
   "metadata": {},
   "outputs": [
    {
     "data": {
      "text/plain": [
       "<pyarrow._parquet.FileMetaData object at 0x000001EC68DA8270>\n",
       "  created_by: parquet-cpp-arrow version 11.0.0\n",
       "  num_columns: 41\n",
       "  num_rows: 9612\n",
       "  num_row_groups: 1\n",
       "  format_version: 2.6\n",
       "  serialized_size: 22344"
      ]
     },
     "execution_count": 4,
     "metadata": {},
     "output_type": "execute_result"
    }
   ],
   "source": [
    "#Connecting to metadata file\n",
    "md = pq.read_metadata(f's3://rimrep-data-public/gbrmpa-complete-gbr-features/data.parquet')\n",
    "#Checking contents\n",
    "md"
   ]
  },
  {
   "attachments": {},
   "cell_type": "markdown",
   "metadata": {},
   "source": [
    "The metadata is telling us that this dataset contains 41 columns and 9,612 rows. Each row represents a unique feature in the GBR.\n",
    "  \n",
    "We can check the structure of the data by calling its `schema` attribute. This will return a list containing the name of the column and its data type."
   ]
  },
  {
   "cell_type": "code",
   "execution_count": 5,
   "metadata": {},
   "outputs": [
    {
     "data": {
      "text/plain": [
       "<pyarrow._parquet.ParquetSchema object at 0x000001EC70A2D580>\n",
       "required group field_id=-1 schema {\n",
       "  optional int64 field_id=-1 TARGET_FID;\n",
       "  optional binary field_id=-1 DATASET (String);\n",
       "  optional binary field_id=-1 LOC_NAME_S (String);\n",
       "  optional binary field_id=-1 GBR_NAME (String);\n",
       "  optional binary field_id=-1 CHART_NAME (String);\n",
       "  optional binary field_id=-1 TRAD_NAME (String);\n",
       "  optional binary field_id=-1 UN_FEATURE (String);\n",
       "  optional binary field_id=-1 LABEL_ID (String);\n",
       "  optional int64 field_id=-1 SORT_GBR_I;\n",
       "  optional binary field_id=-1 FEAT_NAME (String);\n",
       "  optional binary field_id=-1 LEVEL_1 (String);\n",
       "  optional binary field_id=-1 LEVEL_2 (String);\n",
       "  optional binary field_id=-1 LEVEL_3 (String);\n",
       "  optional binary field_id=-1 CLASS_CONF (String);\n",
       "  optional binary field_id=-1 CLASS_SRC (String);\n",
       "  optional binary field_id=-1 POLY_ORIG (String);\n",
       "  optional binary field_id=-1 IMG_SRC (String);\n",
       "  optional int64 field_id=-1 SUB_NO;\n",
       "  optional binary field_id=-1 CODE (String);\n",
       "  optional int64 field_id=-1 FEATURE_C;\n",
       "  optional binary field_id=-1 QLD_NAME (String);\n",
       "  optional binary field_id=-1 X_LABEL (String);\n",
       "  optional binary field_id=-1 GBR_ID (String);\n",
       "  optional binary field_id=-1 LOC_NAME_L (String);\n",
       "  optional double field_id=-1 X_COORD;\n",
       "  optional double field_id=-1 Y_COORD;\n",
       "  optional double field_id=-1 SHAPE_AREA;\n",
       "  optional double field_id=-1 SHAPE_LEN;\n",
       "  optional binary field_id=-1 Checked (String);\n",
       "  optional int64 field_id=-1 RegionID;\n",
       "  optional int64 field_id=-1 LatitudeID;\n",
       "  optional int64 field_id=-1 GroupID;\n",
       "  optional binary field_id=-1 PriorityLb (String);\n",
       "  optional binary field_id=-1 Country (String);\n",
       "  optional binary field_id=-1 UNIQUE_ID (String);\n",
       "  optional binary field_id=-1 geometry;\n",
       "  optional double field_id=-1 minx;\n",
       "  optional double field_id=-1 miny;\n",
       "  optional double field_id=-1 maxx;\n",
       "  optional double field_id=-1 maxy;\n",
       "  optional int64 field_id=-1 fid;\n",
       "}"
      ]
     },
     "execution_count": 5,
     "metadata": {},
     "output_type": "execute_result"
    }
   ],
   "source": [
    "md.schema"
   ]
  },
  {
   "attachments": {},
   "cell_type": "markdown",
   "metadata": {},
   "source": [
    "The `schema` not only gives the names of the columns included in the GBR dataset, but it also tells us the data types included in each column (e.g., `string` or `double`).  \n",
    "  \n",
    "We can also obtain more details about a specific column, by calling the `column` method and passing the name of the column as an argument as shown below."
   ]
  },
  {
   "cell_type": "code",
   "execution_count": 7,
   "metadata": {},
   "outputs": [
    {
     "data": {
      "text/plain": [
       "<ParquetColumnSchema>\n",
       "  name: GBR_NAME\n",
       "  path: GBR_NAME\n",
       "  max_definition_level: 1\n",
       "  max_repetition_level: 0\n",
       "  physical_type: BYTE_ARRAY\n",
       "  logical_type: String\n",
       "  converted_type (legacy): UTF8"
      ]
     },
     "execution_count": 7,
     "metadata": {},
     "output_type": "execute_result"
    }
   ],
   "source": [
    "md.schema.column(3)"
   ]
  },
  {
   "attachments": {},
   "cell_type": "markdown",
   "metadata": {},
   "source": [
    "We will need to access four variables to create a list of all above water sites in the Great Barrier Reef Marine Park:  \n",
    "- `UNIQUE_ID`, which includes a unique identification number for each area above water  \n",
    "- `GBR_NAME`, which includes the name of each location above water  \n",
    "- `LOC_NAME_S`, which is the combination between feature name and unique ID  \n",
    "- `geometry`, which includes latitude and longitude coordinates  \n",
    "  \n",
    "**Note**: One location (`GBR_NAME`) may contain multiple values under the `UNIQUE_ID` column. This is because above water structures may not appear connected when looking at the surface, but they are part of the same structure and thus are connected under water."
   ]
  },
  {
   "attachments": {},
   "cell_type": "markdown",
   "metadata": {},
   "source": [
    "## Connecting to S3 parquet directory\n",
    "We will connect to the S3 bucket containing the GBR features dataset using the `dask_geopandas` library. "
   ]
  },
  {
   "cell_type": "code",
   "execution_count": 9,
   "metadata": {},
   "outputs": [
    {
     "data": {
      "text/html": [
       "<div>\n",
       "<style scoped>\n",
       "    .dataframe tbody tr th:only-of-type {\n",
       "        vertical-align: middle;\n",
       "    }\n",
       "\n",
       "    .dataframe tbody tr th {\n",
       "        vertical-align: top;\n",
       "    }\n",
       "\n",
       "    .dataframe thead th {\n",
       "        text-align: right;\n",
       "    }\n",
       "</style>\n",
       "<table border=\"1\" class=\"dataframe\">\n",
       "  <thead>\n",
       "    <tr style=\"text-align: right;\">\n",
       "      <th></th>\n",
       "      <th>UNIQUE_ID</th>\n",
       "      <th>GBR_NAME</th>\n",
       "      <th>LOC_NAME_S</th>\n",
       "      <th>geometry</th>\n",
       "    </tr>\n",
       "    <tr>\n",
       "      <th>fid</th>\n",
       "      <th></th>\n",
       "      <th></th>\n",
       "      <th></th>\n",
       "      <th></th>\n",
       "    </tr>\n",
       "  </thead>\n",
       "  <tbody>\n",
       "    <tr>\n",
       "      <th>0</th>\n",
       "      <td>09347110101</td>\n",
       "      <td>U/N Sand Bank</td>\n",
       "      <td>U/N Sand Bank (09-347a)</td>\n",
       "      <td>POLYGON ((143.08510 -9.26657, 143.08702 -9.267...</td>\n",
       "    </tr>\n",
       "    <tr>\n",
       "      <th>1</th>\n",
       "      <td>09347110100</td>\n",
       "      <td>U/N Sand Bank</td>\n",
       "      <td>U/N Sand Bank (09-347)</td>\n",
       "      <td>POLYGON ((143.05491 -9.29340, 143.05465 -9.294...</td>\n",
       "    </tr>\n",
       "    <tr>\n",
       "      <th>2</th>\n",
       "      <td>09355110126</td>\n",
       "      <td>U/N Sand Bank</td>\n",
       "      <td>U/N Sand Bank (09-355z)</td>\n",
       "      <td>POLYGON ((143.10563 -9.39080, 143.10543 -9.390...</td>\n",
       "    </tr>\n",
       "    <tr>\n",
       "      <th>3</th>\n",
       "      <td>09355110127</td>\n",
       "      <td>U/N Sand Bank</td>\n",
       "      <td>U/N Sand Bank (09-355a0)</td>\n",
       "      <td>POLYGON ((143.09853 -9.39008, 143.09812 -9.390...</td>\n",
       "    </tr>\n",
       "    <tr>\n",
       "      <th>4</th>\n",
       "      <td>09355110128</td>\n",
       "      <td>U/N Sand Bank</td>\n",
       "      <td>U/N Sand Bank (09-355a1)</td>\n",
       "      <td>POLYGON ((143.09389 -9.39146, 143.09360 -9.391...</td>\n",
       "    </tr>\n",
       "  </tbody>\n",
       "</table>\n",
       "</div>"
      ],
      "text/plain": [
       "       UNIQUE_ID       GBR_NAME                LOC_NAME_S  \\\n",
       "fid                                                         \n",
       "0    09347110101  U/N Sand Bank   U/N Sand Bank (09-347a)   \n",
       "1    09347110100  U/N Sand Bank    U/N Sand Bank (09-347)   \n",
       "2    09355110126  U/N Sand Bank   U/N Sand Bank (09-355z)   \n",
       "3    09355110127  U/N Sand Bank  U/N Sand Bank (09-355a0)   \n",
       "4    09355110128  U/N Sand Bank  U/N Sand Bank (09-355a1)   \n",
       "\n",
       "                                              geometry  \n",
       "fid                                                     \n",
       "0    POLYGON ((143.08510 -9.26657, 143.08702 -9.267...  \n",
       "1    POLYGON ((143.05491 -9.29340, 143.05465 -9.294...  \n",
       "2    POLYGON ((143.10563 -9.39080, 143.10543 -9.390...  \n",
       "3    POLYGON ((143.09853 -9.39008, 143.09812 -9.390...  \n",
       "4    POLYGON ((143.09389 -9.39146, 143.09360 -9.391...  "
      ]
     },
     "execution_count": 9,
     "metadata": {},
     "output_type": "execute_result"
    }
   ],
   "source": [
    "# Connecting to the S3 bucket where the GBR data is stored\n",
    "dask_geo_df = dask_geopandas.read_parquet('s3://rimrep-data-public/gbrmpa-complete-gbr-features/data.parquet',\n",
    "                                          #Specifying which columns to read\n",
    "                                          columns = ['UNIQUE_ID', 'GBR_NAME', 'LOC_NAME_S', 'geometry'],\n",
    "                                          #Specifying the column to be used as index\n",
    "                                          index = 'fid',\n",
    "                                          #Connecting anonimously as no authentication is needed for this s3 bucket (it is public)\n",
    "                                          storage_options = {\"anon\": True}) \n",
    "\n",
    "# Transforming to pandas dataframe\n",
    "sites = dask_geo_df.compute()\n",
    "\n",
    "# Checking the contents of the dataframe - First five rows\n",
    "sites.head()"
   ]
  },
  {
   "attachments": {},
   "cell_type": "markdown",
   "metadata": {},
   "source": [
    "When exploring the GBR features dataset, you may have noticed other fields besides `geometry` that contain spatial information. For example, `X_COORD` and `Y_COORD` contain the coordinates of the centroid of each feature in the GBR dataset. While, `minx`, `miny`, `maxx`, and `maxy` fields contain the coordinates for the lower left corner and the upper right corner of a feature. This is otherwise known as the extent, which is a rectangle covering the maximum spatial extent of a feature.  \n",
    "  \n",
    "We chose to use the `geometry` field in this notebook because it gives us access to fine scale data about a feature (see light blue line in image below). The centroid (`X_COORD` and `Y_COORD` fields) would have only given information about a single point (white dot at the centre of the image). The extent (dark blue rectangle), on the other hand, would have coarsen the resolution of a feature.\n",
    "\n",
    "![title](../images/extent_geom.jpeg)"
   ]
  },
  {
   "attachments": {},
   "cell_type": "markdown",
   "metadata": {},
   "source": [
    "## Plotting all features\n",
    "We will make a map of all features included within the Great Barrier Reef Marine Protected Area in green so they are easily recognised. Note that the GBR features also includes a `Mainland` location, which represents the state of Queensland. We will show this state as light red."
   ]
  },
  {
   "cell_type": "code",
   "execution_count": 17,
   "metadata": {},
   "outputs": [
    {
     "data": {
      "text/plain": [
       "<cartopy.mpl.feature_artist.FeatureArtist at 0x1ec6ed04750>"
      ]
     },
     "execution_count": 17,
     "metadata": {},
     "output_type": "execute_result"
    },
    {
     "data": {
      "image/png": "[encoded data removed]",
      "text/plain": [
       "<Figure size 640x480 with 1 Axes>"
      ]
     },
     "metadata": {},
     "output_type": "display_data"
    }
   ],
   "source": [
    "#Initiliasing the figure\n",
    "fig = plt.figure()\n",
    "\n",
    "#Adding a plot to the figure and assigning projection\n",
    "ax = plt.axes(projection = ccrs.PlateCarree())\n",
    "\n",
    "#Plotting all sites in green\n",
    "sites.plot(ax = ax, alpha = 0.5, color = 'green')\n",
    "\n",
    "#Plotting mainland in red\n",
    "sites[sites.LOC_NAME_S.str.contains('Mainland')].plot(ax = ax, color = 'red', alpha = 0.5)\n",
    "\n",
    "#Adding a basemap of land areas\n",
    "ax.add_feature(cf.LAND)"
   ]
  },
  {
   "attachments": {},
   "cell_type": "markdown",
   "metadata": {},
   "source": [
    "## Saving GBR features as shapefile\n",
    "We will need to provide a path to the folder where we want to save our shapefile containing the limits of all features within the GBR Marine Protected Area."
   ]
  },
  {
   "cell_type": "code",
   "execution_count": 4,
   "metadata": {},
   "outputs": [],
   "source": [
    "sites.to_file('Outputs/GBR_features.shp')"
   ]
  },
  {
   "attachments": {},
   "cell_type": "markdown",
   "metadata": {},
   "source": [
    "That is the end of this notebook. We have demonstrated how to extract data from the Complete GBR Features dataset, how to plot it and save it locally.  "
   ]
  }
 ],
 "metadata": {
  "kernelspec": {
   "display_name": "rimrep",
   "language": "python",
   "name": "python3"
  },
  "language_info": {
   "codemirror_mode": {
    "name": "ipython",
    "version": 3
   },
   "file_extension": ".py",
   "mimetype": "text/x-python",
   "name": "python",
   "nbconvert_exporter": "python",
   "pygments_lexer": "ipython3",
   "version": "3.11.4"
  },
  "orig_nbformat": 4
 },
 "nbformat": 4,
 "nbformat_minor": 2
}
